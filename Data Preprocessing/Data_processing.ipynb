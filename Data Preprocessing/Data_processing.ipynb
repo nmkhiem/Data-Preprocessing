{
  "cells": [
    {
      "cell_type": "markdown",
      "id": "Otp1i7JM92Cj",
      "metadata": {
        "id": "Otp1i7JM92Cj"
      },
      "source": [
        "This project will not delve deep into problem analysis and observations based on domain knowledge. Instead, it will simply experiment with various methods mentioned in chapters 6 and 7 of the book \"Python Machine Learning\" by authors Sebastian Raschka and Vahid Mirjalili"
      ]
    },
    {
      "cell_type": "markdown",
      "id": "5GV8HSIO6d6H",
      "metadata": {
        "id": "5GV8HSIO6d6H"
      },
      "source": [
        "# Dataset's Description\n",
        "\n",
        "The dataset information for diagnosing breast cancer consists of 569 rows and 32 columns:\n",
        "\n",
        "The first column represents the patient's ID.\n",
        "\n",
        "The second column is a categorical variable with 2 values: \"M\" (malignant) and \"B\" (benign). These values are the labels for classification or prediction.\n",
        "\n",
        "The remaining columns contain various measurements related to the diagnosis. For more details, refer to: Breast Cancer Wisconsin (Diagnostic) dataset.\n",
        "    https://archive.ics.uci.edu/ml/datasets/Breast+Cancer+Wisconsin+(Diagnostic)"
      ]
    },
    {
      "cell_type": "markdown",
      "id": "908c2469",
      "metadata": {
        "id": "908c2469"
      },
      "source": [
        "# Classification Pipeline Algorithm\n",
        "\n",
        "In Python, a pipeline is a convenient way to streamline a lot of routine processes, typically in machine learning workflows. A pipeline sequentially applies a list of processing steps, making it easier to organize and manage complex workflows. It's commonly used in tasks like data preprocessing, feature engineering, and model training.\n"
      ]
    },
    {
      "cell_type": "markdown",
      "id": "iCLsbb2JPjG0",
      "metadata": {
        "id": "iCLsbb2JPjG0"
      },
      "source": [
        "\n",
        "1. Drop unnecessary columns, if any. Separate label column ($y$) and features ($X$).\n",
        "\n",
        "2. Encode label $y$ into numerical format.\n",
        "\n",
        "3. Split the dataset into training/testing sets.\n",
        "\n",
        "\n",
        "4. Create the pipeline:\n",
        "\n",
        "  Use the built-in function $make_pipeline$ from sklearn, with inputs:\n",
        "\n",
        "    - Normalization function: $StandardScaler(), MinMaxScaler(),...$\n",
        "\n",
        "    - Dimensionality reduction function (e.g., PCA, LDA, SVD).\n",
        "\n",
        "    - Classification or regression function (e.g., $LogisticRegression(), LinearRegression(),...$).\n",
        "\n",
        "> You can omit normalization or dimensionality reduction steps if necessary.\n",
        "\n",
        "5. Train to discover patterns.\n",
        "\n",
        "6. Predict on the test set or new values.\n",
        "\n",
        "7. Evaluate results, adjust parameters in step (4) if needed."
      ]
    },
    {
      "cell_type": "code",
      "execution_count": null,
      "id": "4773fecb",
      "metadata": {
        "id": "4773fecb"
      },
      "outputs": [],
      "source": [
        "|from sklearn.preprocessing import StandardScaler\n",
        "from sklearn.decomposition import PCA                   # dimensional reduction\n",
        "from sklearn.linear_model import LogisticRegression\n",
        "from sklearn.linear_model import LinearRegression\n",
        "from sklearn.pipeline import make_pipeline\n",
        "from os import pipe\n",
        "from sklearn.preprocessing import LabelEncoder\n",
        "import pandas as pd                                     # read files, processing\n",
        "import numpy as np                                      # working with matrices\n",
        "from sklearn.model_selection import train_test_split\n",
        "from sklearn.tree import DecisionTreeClassifier"
      ]
    },
    {
      "cell_type": "markdown",
      "id": "1gwPUo048e9d",
      "metadata": {
        "id": "1gwPUo048e9d"
      },
      "source": [
        "## 1. Read files\n",
        "\n",
        "The dataset has been preprocessed previously."
      ]
    },
    {
      "cell_type": "code",
      "execution_count": null,
      "id": "b6d69ad8",
      "metadata": {
        "id": "b6d69ad8"
      },
      "outputs": [],
      "source": [
        "df = pd.read_csv('https://raw.githubusercontent.com/rasbt/python-machine-learning-book/master/code/datasets/wdbc/wdbc.data', header=None)"
      ]
    },
    {
      "cell_type": "markdown",
      "id": "gigBjikw8hwM",
      "metadata": {
        "id": "gigBjikw8hwM"
      },
      "source": [
        "## 2. Label encoder"
      ]
    },
    {
      "cell_type": "code",
      "execution_count": null,
      "id": "611dcefc",
      "metadata": {
        "id": "611dcefc"
      },
      "outputs": [],
      "source": [
        "X = df.loc[:, 2:].values # (569, 30)\n",
        "y = df.loc[:, 1].values # (569,)\n",
        "le = LabelEncoder()\n",
        "y = le.fit_transform(y)"
      ]
    },
    {
      "cell_type": "markdown",
      "id": "hEIXX9aI-GPj",
      "metadata": {
        "id": "hEIXX9aI-GPj"
      },
      "source": [
        "## 3. Split the dataset into training/testing sets."
      ]
    },
    {
      "cell_type": "code",
      "execution_count": null,
      "id": "3d17f320",
      "metadata": {
        "id": "3d17f320"
      },
      "outputs": [],
      "source": [
        "X_train, X_test, y_train, y_test = train_test_split(X, y,\n",
        "                                                    test_size=0.20,     # the test set ratio (commonly 70-30 or 80-20).\n",
        "                                                    stratify = y,       # maintain the proportional label ratio of the declared variable.\n",
        "                                                    random_state = 1)   # an arbitrary positive integer to maintain dataset consistency across iterations."
      ]
    },
    {
      "cell_type": "markdown",
      "id": "EIWcBve6-KDK",
      "metadata": {
        "id": "EIWcBve6-KDK"
      },
      "source": [
        "## 4+5+6. Create the pipeline, Training and Testing"
      ]
    },
    {
      "cell_type": "code",
      "execution_count": null,
      "id": "ed45ac85",
      "metadata": {
        "colab": {
          "base_uri": "https://localhost:8080/"
        },
        "id": "ed45ac85",
        "outputId": "81f534e2-1e2a-4504-a527-912a4be86f29"
      },
      "outputs": [
        {
          "name": "stdout",
          "output_type": "stream",
          "text": [
            "Test Acurracy: 0.956\n"
          ]
        }
      ],
      "source": [
        "pipe_lr = make_pipeline(StandardScaler(), PCA(n_components = 2), LogisticRegression(random_state=1))\n",
        "pipe_lr.fit(X_train, y_train)\n",
        "y_pred = pipe_lr.predict(X_test)\n",
        "print('Test Acurracy: %.3f' % pipe_lr.score(X_test,y_test))"
      ]
    },
    {
      "cell_type": "markdown",
      "id": "efb7bd41",
      "metadata": {
        "id": "efb7bd41"
      },
      "source": [
        "We can skip the normalization step in the pipeline and keep the remaining steps unchanged."
      ]
    },
    {
      "cell_type": "code",
      "execution_count": null,
      "id": "0aa06e17",
      "metadata": {
        "colab": {
          "base_uri": "https://localhost:8080/"
        },
        "id": "0aa06e17",
        "outputId": "a97f686f-9ca4-444a-ffe7-b0e4ad880351"
      },
      "outputs": [
        {
          "name": "stdout",
          "output_type": "stream",
          "text": [
            "Test Acurracy: 0.956\n"
          ]
        }
      ],
      "source": [
        "pipe_lr2 = make_pipeline(PCA(n_components = 2), LogisticRegression())\n",
        "pipe_lr2.fit(X_train, y_train)\n",
        "y_pred = pipe_lr2.predict(X_test)\n",
        "print('Test Acurracy: %.3f' % pipe_lr2.score(X_test,y_test))"
      ]
    },
    {
      "cell_type": "markdown",
      "id": "f28a2917",
      "metadata": {
        "id": "f28a2917"
      },
      "source": [
        "We can try to pass the dimension reduction step."
      ]
    },
    {
      "cell_type": "code",
      "execution_count": null,
      "id": "0e43812a",
      "metadata": {
        "colab": {
          "base_uri": "https://localhost:8080/"
        },
        "id": "0e43812a",
        "outputId": "7cd59c40-6f73-4827-f2fa-b861c876f4cf"
      },
      "outputs": [
        {
          "name": "stdout",
          "output_type": "stream",
          "text": [
            "Test Acurracy: 0.982\n"
          ]
        }
      ],
      "source": [
        "pipe_lr2 = make_pipeline(StandardScaler(), LogisticRegression())\n",
        "pipe_lr2.fit(X_train, y_train)\n",
        "y_pred = pipe_lr2.predict(X_test)\n",
        "print('Test Acurracy: %.3f' % pipe_lr2.score(X_test,y_test))"
      ]
    },
    {
      "cell_type": "markdown",
      "id": "bd51eba6",
      "metadata": {
        "id": "bd51eba6"
      },
      "source": [
        "Thay bộ phân loại Logistic thành Cây phân loại"
      ]
    },
    {
      "cell_type": "code",
      "execution_count": null,
      "id": "17f33d78",
      "metadata": {
        "colab": {
          "base_uri": "https://localhost:8080/"
        },
        "id": "17f33d78",
        "outputId": "fb6064de-77fe-4d09-fcdf-e67118f85e32"
      },
      "outputs": [
        {
          "name": "stdout",
          "output_type": "stream",
          "text": [
            "Test Acurracy: 0.939\n"
          ]
        }
      ],
      "source": [
        "pipe_lr2 = make_pipeline(StandardScaler(), PCA(n_components = 2), DecisionTreeClassifier())\n",
        "pipe_lr2.fit(X_train, y_train)\n",
        "y_pred = pipe_lr2.predict(X_test)\n",
        "print('Test Acurracy: %.3f' % pipe_lr2.score(X_test,y_test))"
      ]
    },
    {
      "cell_type": "markdown",
      "id": "0f7fb072",
      "metadata": {
        "id": "0f7fb072"
      },
      "source": [
        "# K-fold Cross-validation Algorithm\n",
        "\n",
        "K-fold cross-validation is a technique used to assess the performance and generalization ability of a machine learning model. It involves dividing the dataset into K subsets (folds) and then iteratively training and evaluating the model K times. In each iteration, one of the K folds is used as the test set, and the remaining K-1 folds are used for training. The process is repeated K times, with each fold serving as the test set exactly once."
      ]
    },
    {
      "cell_type": "markdown",
      "id": "f1c48996",
      "metadata": {
        "id": "f1c48996"
      },
      "source": [
        "1. Initialize the $K-fold$ function.\n",
        "\n",
        "2. Save accuracy scores for each fold.\n",
        "\n",
        "3. Initialize the pipeline as in section 6.1.\n",
        "\n",
        "4. Initiate a loop with the number of folds, (train, test) where train and test are the indices of the training fold and testing fold obtained in step 1.\n",
        "\n",
        "    4.1 Train the model on the training fold.\n",
        "\n",
        "    4.2 Evaluate accuracy on the testing fold.\n",
        "\n",
        "    4.3 Add accuracy to the array of scores saved in step 2.\n",
        "\n",
        "5. Repeat the loop until all K folds have been processed.\n",
        "\n",
        "6. Calculate the mean and standard deviation of all scores.\n",
        "\n",
        "7. Reattempt using the $cross_val_score$ function.\n",
        "\n",
        "8. Evaluate on the test set."
      ]
    },
    {
      "cell_type": "code",
      "execution_count": null,
      "id": "e568a5eb",
      "metadata": {
        "colab": {
          "base_uri": "https://localhost:8080/"
        },
        "id": "e568a5eb",
        "outputId": "27a47151-6e7c-4404-b8c4-ab8c3515d021"
      },
      "outputs": [
        {
          "name": "stdout",
          "output_type": "stream",
          "text": [
            "Fold:  1, Class dist.: [256 153], Acc: 0.935\n",
            "Fold:  2, Class dist.: [256 153], Acc: 0.935\n",
            "Fold:  3, Class dist.: [256 153], Acc: 0.957\n",
            "Fold:  4, Class dist.: [256 153], Acc: 0.957\n",
            "Fold:  5, Class dist.: [256 153], Acc: 0.935\n",
            "Fold:  6, Class dist.: [257 153], Acc: 0.956\n",
            "Fold:  7, Class dist.: [257 153], Acc: 0.978\n",
            "Fold:  8, Class dist.: [257 153], Acc: 0.933\n",
            "Fold:  9, Class dist.: [257 153], Acc: 0.956\n",
            "Fold: 10, Class dist.: [257 153], Acc: 0.956\n"
          ]
        }
      ],
      "source": [
        "from sklearn.model_selection import StratifiedKFold\n",
        "\n",
        "kfold = StratifiedKFold(n_splits=10,                                  # Number of folds\n",
        "                        random_state = None).split(X_train, y_train)\n",
        "scores = []\n",
        "for k, (train, test) in enumerate(kfold):\n",
        "    pipe_lr.fit(X_train[train], y_train[train])\n",
        "    score = pipe_lr.score(X_train[test], y_train[test])\n",
        "    scores.append(score)\n",
        "    print('Fold: %2d, Class dist.: %s, Acc: %.3f'\n",
        "          % (k+1, np.bincount(y_train[train]), score))"
      ]
    },
    {
      "cell_type": "code",
      "execution_count": null,
      "id": "c97857e6",
      "metadata": {
        "colab": {
          "base_uri": "https://localhost:8080/"
        },
        "id": "c97857e6",
        "outputId": "68b1f62b-4cca-400c-fe9e-9de15ca42b0c"
      },
      "outputs": [
        {
          "name": "stdout",
          "output_type": "stream",
          "text": [
            "\n",
            "CV accuracy: 0.950 +/- 0.014\n"
          ]
        }
      ],
      "source": [
        "print('\\nCV accuracy: %.3f +/- %.3f' % (np.mean(scores), np.std(scores)))"
      ]
    },
    {
      "cell_type": "code",
      "execution_count": null,
      "id": "f22fee30",
      "metadata": {
        "colab": {
          "base_uri": "https://localhost:8080/"
        },
        "id": "f22fee30",
        "outputId": "23c11e93-84ea-46b9-8357-5ee6941a8790"
      },
      "outputs": [
        {
          "name": "stdout",
          "output_type": "stream",
          "text": [
            "CV accuracy scores: [0.93478261 0.93478261 0.95652174 0.95652174 0.93478261 0.95555556\n",
            " 0.97777778 0.93333333 0.95555556 0.95555556]\n"
          ]
        }
      ],
      "source": [
        "from sklearn.model_selection import cross_val_score\n",
        "scores = cross_val_score(estimator=pipe_lr,X=X_train,y=y_train,cv=10,n_jobs=1)\n",
        "print('CV accuracy scores: %s' % scores)"
      ]
    },
    {
      "cell_type": "code",
      "execution_count": null,
      "id": "c40fbf87",
      "metadata": {
        "colab": {
          "base_uri": "https://localhost:8080/"
        },
        "id": "c40fbf87",
        "outputId": "1d973c80-dd77-4c28-b2e1-b9843a1ff67e"
      },
      "outputs": [
        {
          "data": {
            "text/plain": [
              "0.9473684210526315"
            ]
          },
          "execution_count": 13,
          "metadata": {},
          "output_type": "execute_result"
        }
      ],
      "source": [
        "pipe_lr.score(X_test, y_test)"
      ]
    },
    {
      "cell_type": "markdown",
      "id": "28980d9a",
      "metadata": {
        "id": "28980d9a"
      },
      "source": [
        "# Evaluation through graphs and curves\n",
        "\n",
        "1. Initialize a custom pipeline.\n",
        "\n",
        "2. Choose the indices of the training fold and calculate scores for the training and testing folds using the learning_curve function in sklearn.\n",
        "\n",
        "  Input parameters include:\n",
        "\n",
        "    - estimator: the pipeline just initialized.\n",
        "\n",
        "    - train_sizes: range of values.\n",
        "\n",
        "    - cv: the number of k-folds.\n",
        "\n",
        "  Output includes:\n",
        "\n",
        "    - training_size: an array of training set lengths.\n",
        "\n",
        "    - train_scores: accuracy on the training set.\n",
        "\n",
        "    - test_scores: accuracy on the testing set.\n",
        "\n",
        "    - Calculate the mean and standard deviation of the two scores.\n",
        "\n",
        "3. Plot the results.\n",
        "\n",
        "4. Plot the confidence interval for the training set using plt.fill_between with parameters:\n",
        "\n",
        "    - train_sizes: obtained in step 3.\n",
        "\n",
        "    - (train_mean + train_std, train_mean - train_std): obtained in step 4.\n",
        "\n",
        "  Repeat the process for the validation set.\n",
        "\n",
        "5. Create the grid."
      ]
    },
    {
      "cell_type": "code",
      "execution_count": null,
      "id": "86fd146d",
      "metadata": {
        "id": "86fd146d"
      },
      "outputs": [],
      "source": [
        "df = pd.read_csv('https://archive.ics.uci.edu/ml/'\n",
        "    'machine-learning-databases'\n",
        "    '/breast-cancer-wisconsin/wdbc.data', header=None)\n",
        "\n",
        "X = df.loc[:, 2:].values\n",
        "y = df.loc[:, 1].values\n",
        "le = LabelEncoder()\n",
        "y = le.fit_transform(y)\n",
        "\n",
        "X_train, X_test, y_train, y_test = train_test_split(X, y, test_size=0.20, stratify=y,random_state=1)"
      ]
    },
    {
      "cell_type": "code",
      "execution_count": null,
      "id": "928ea089",
      "metadata": {
        "colab": {
          "base_uri": "https://localhost:8080/",
          "height": 279
        },
        "id": "928ea089",
        "outputId": "38c3ee93-d128-4a20-9856-f7234f8b677b"
      },
      "outputs": [
        {
          "data": {
            "image/png": "[encoded data removed]",
            "text/plain": [
              "<Figure size 432x288 with 1 Axes>"
            ]
          },
          "metadata": {
            "needs_background": "light"
          },
          "output_type": "display_data"
        }
      ],
      "source": [
        "import matplotlib.pyplot as plt\n",
        "from sklearn.model_selection import learning_curve\n",
        "\n",
        "# Initialize a pipeline with 2 normalization steps and a Logistic regression classifier.\n",
        "pipe_lr = make_pipeline(StandardScaler(),\n",
        "                        LogisticRegression(penalty='l2',random_state=1))\n",
        "\n",
        "# Evaluate the score based on learning curves.\n",
        "train_sizes, train_scores, test_scores =\\\n",
        "learning_curve(estimator=pipe_lr, X=X_train, y=y_train,\n",
        "               train_sizes=np.linspace(0.1, 1.0, 10), cv=10)\n",
        "\n",
        "# Calculate the row-wise mean values\n",
        "train_mean = np.mean(train_scores, axis=1)\n",
        "train_std = np.std(train_scores, axis=1)\n",
        "test_mean = np.mean(test_scores, axis=1)\n",
        "\n",
        "# Standard deviation of the test set along the rows\n",
        "test_std = np.std(test_scores, axis=1)\n",
        "\n",
        "# Visualization\n",
        "plt.plot(train_sizes, train_mean,color='blue', marker='o',\n",
        "         markersize=5, label='training accuracy')\n",
        "plt.fill_between(train_sizes, train_mean + train_std,\n",
        "                 train_mean - train_std,\n",
        "                 alpha=0.15, color='blue')\n",
        "plt.plot(train_sizes, test_mean,color='green', linestyle='--',\n",
        "         marker='s', markersize=5, label='validation accuracy')\n",
        "plt.fill_between(train_sizes, test_mean + test_std,\n",
        "                 test_mean - test_std, alpha=0.15, color='green')\n",
        "plt.grid()\n",
        "plt.xlabel('Number of training samples')\n",
        "plt.ylabel('Accuracy')\n",
        "plt.legend(loc='lower right')\n",
        "plt.ylim([0.8, 1.03])\n",
        "plt.show()"
      ]
    },
    {
      "cell_type": "markdown",
      "id": "a56df682",
      "metadata": {
        "id": "a56df682"
      },
      "source": [
        "# Prevent overfitting and underfitting issues with validation curves"
      ]
    },
    {
      "cell_type": "markdown",
      "id": "09e2db98",
      "metadata": {
        "id": "09e2db98"
      },
      "source": [
        "1. Initialize the range of parameter values.\n",
        "\n",
        "2. Initialize a custom pipeline.\n",
        "\n",
        "3. Calculate train_score and test_score using the validation_curve function from sklearn.\n",
        "\n",
        "4. Calculate the mean and standard deviation of the two scores.\n",
        "\n",
        "5. Plot similar to the previous section."
      ]
    },
    {
      "cell_type": "code",
      "execution_count": null,
      "id": "c3a5672b",
      "metadata": {
        "colab": {
          "base_uri": "https://localhost:8080/",
          "height": 283
        },
        "id": "c3a5672b",
        "outputId": "5e4ec8d1-345b-456b-a541-851ec1299c90"
      },
      "outputs": [
        {
          "data": {
            "image/png": "[encoded data removed]",
            "text/plain": [
              "<Figure size 432x288 with 1 Axes>"
            ]
          },
          "metadata": {
            "needs_background": "light"
          },
          "output_type": "display_data"
        }
      ],
      "source": [
        "# The function to avoid error warning messages\n",
        "import warnings\n",
        "warnings.filterwarnings(\"ignore\")\n",
        "from sklearn.model_selection import validation_curve\n",
        "\n",
        "# Initialize the parameter value range\n",
        "param_range = [0.001, 0.01, 0.1, 1.0, 10.0, 100.0]\n",
        "\n",
        "# Initialize validation curves\n",
        "train_scores, test_scores = validation_curve(estimator=pipe_lr,X=X_train,y=y_train,\n",
        "                                             param_name='logisticregression__C',\n",
        "                                             param_range=param_range,cv=10)\n",
        "\n",
        "# Calculate the mean and standard deviation\n",
        "train_mean = np.mean(train_scores, axis=1)\n",
        "train_std = np.std(train_scores, axis=1)\n",
        "test_mean = np.mean(test_scores, axis=1)\n",
        "test_std = np.std(test_scores, axis=1)\n",
        "\n",
        "# Visualization\n",
        "plt.plot(param_range, train_mean,color='blue', marker='o',\n",
        "         markersize=5, label='training accuracy')\n",
        "plt.fill_between(param_range, train_mean + train_std,\n",
        "                 train_mean - train_std, alpha=0.15,color='blue')\n",
        "plt.plot(param_range, test_mean,color='green', linestyle='--',\n",
        "         marker='s', markersize=5,label='validation accuracy')\n",
        "plt.fill_between(param_range,test_mean + test_std,\n",
        "                 test_mean - test_std,alpha=0.15, color='green')\n",
        "plt.grid()\n",
        "plt.xscale('log')\n",
        "plt.legend(loc='lower right')\n",
        "plt.xlabel('Parameter C')\n",
        "plt.ylabel('Accuracy')\n",
        "plt.ylim([0.8, 1.03])\n",
        "plt.show()"
      ]
    },
    {
      "cell_type": "markdown",
      "id": "37730477",
      "metadata": {
        "id": "37730477"
      },
      "source": [
        "## Tuning hyperparameters by Grid search\n",
        "\n",
        "Grid search is a hyperparameter tuning technique used in machine learning to systematically search through a predefined set of hyperparameter values for a given model. The goal is to find the combination of hyperparameters that yields the best performance on a specific metric, such as accuracy or mean squared error."
      ]
    },
    {
      "cell_type": "markdown",
      "id": "4f0e1bd7",
      "metadata": {
        "id": "4f0e1bd7"
      },
      "source": [
        "1. Initialize a custom pipeline.\n",
        "\n",
        "2. Initialize an array of parameter value ranges.\n",
        "\n",
        "3. Create a grid.\n",
        "\n",
        "  Specifically, for example, using the SVM algorithm, the parameters include:\n",
        "\n",
        "  - svc__C, svc__gamma: numeric arrays containing the range of values selected in step 2.\n",
        "\n",
        "  - svc__kernel: a character array containing the names of the linear or kernel functions in SVM.\n",
        "\n",
        "  With Logistic Regression, created by the group, the parameters include:\n",
        "\n",
        "  - C: the coefficient in the Logistic formula, choose a value range, for example, np.logspace(-3, 3, 7).\n",
        "\n",
        "  - penalty: constraint on the weights added with Lasso l1 or Ridge l2.\n",
        "\n",
        "4. Initialize the grid search algorithm using the GridSearchCV function in sklearn.\n",
        "\n",
        "  Parameters include:\n",
        "\n",
        "  - estimator: the pipeline from step 1.\n",
        "\n",
        "  - param_grid: the grid created in step 3.\n",
        "\n",
        "  - scoring: the accuracy calculation method, default is 'accuracy'.\n",
        "\n",
        "  - cv: the number of k-folds.\n",
        "\n",
        "5. Train, calculate accuracy, and print optimal parameters.\n",
        "\n",
        "6. Calculate accuracy and optimal parameters.\n",
        "\n",
        "7. Use the optimal parameters from step 6 to retrain on X_train, y_train.\n",
        "\n",
        "8. Use the trained model to calculate accuracy on the test set."
      ]
    },
    {
      "cell_type": "code",
      "execution_count": null,
      "id": "9ea4242f",
      "metadata": {
        "colab": {
          "base_uri": "https://localhost:8080/"
        },
        "id": "9ea4242f",
        "outputId": "954bf8c7-b6b1-40de-f404-14d4103ec623"
      },
      "outputs": [
        {
          "name": "stdout",
          "output_type": "stream",
          "text": [
            "0.9846859903381642\n",
            "{'svc__C': 100.0, 'svc__gamma': 0.001, 'svc__kernel': 'rbf'}\n"
          ]
        }
      ],
      "source": [
        "from sklearn.model_selection import GridSearchCV\n",
        "from sklearn.svm import SVC\n",
        "pipe_svc = make_pipeline(StandardScaler(), SVC(random_state=1))\n",
        "param_range = [0.0001, 0.001, 0.01, 0.1, 1.0, 10.0, 100.0, 1000.0]\n",
        "param_grid = [{'svc__C': param_range,\n",
        "               'svc__kernel': ['linear']},\n",
        "              {'svc__C': param_range,\n",
        "               'svc__gamma': param_range,\n",
        "               'svc__kernel': ['rbf']}]\n",
        "gs = GridSearchCV(estimator=pipe_svc, param_grid=param_grid,scoring='accuracy',cv=10, n_jobs=-1)\n",
        "gs = gs.fit(X_train, y_train)\n",
        "print(gs.best_score_)\n",
        "print(gs.best_params_)"
      ]
    },
    {
      "cell_type": "code",
      "execution_count": null,
      "id": "03b377b5",
      "metadata": {
        "colab": {
          "base_uri": "https://localhost:8080/"
        },
        "id": "03b377b5",
        "outputId": "bf1ea88d-bd08-4411-f648-4b75a17aea18"
      },
      "outputs": [
        {
          "name": "stdout",
          "output_type": "stream",
          "text": [
            "Test accuracy: 0.974\n"
          ]
        }
      ],
      "source": [
        "clf = gs.best_estimator_\n",
        "clf.fit(X_train, y_train)\n",
        "print('Test accuracy: %.3f' % clf.score(X_test, y_test))"
      ]
    },
    {
      "cell_type": "markdown",
      "id": "c8d68cbf",
      "metadata": {
        "id": "c8d68cbf"
      },
      "source": [
        "LogisticRegression:"
      ]
    },
    {
      "cell_type": "code",
      "execution_count": null,
      "id": "35c84bc8",
      "metadata": {
        "colab": {
          "base_uri": "https://localhost:8080/"
        },
        "id": "35c84bc8",
        "outputId": "0822cbd5-3637-48c1-9900-03f677be61de"
      },
      "outputs": [
        {
          "name": "stdout",
          "output_type": "stream",
          "text": [
            "{'C': 100.0, 'penalty': 'l2'}\n",
            "accuracy : 0.9429951690821256\n"
          ]
        }
      ],
      "source": [
        "grid={\"C\":np.logspace(-3,3,7), \"penalty\":[\"l1\",\"l2\"]} # l1 lasso l2 ridge\n",
        "logreg=LogisticRegression()\n",
        "logreg_cv=GridSearchCV(logreg,grid,cv=10)\n",
        "logreg_cv.fit(X_train,y_train)\n",
        "\n",
        "print(logreg_cv.best_params_)\n",
        "print(\"accuracy :\",logreg_cv.best_score_)"
      ]
    },
    {
      "cell_type": "markdown",
      "id": "466b7687",
      "metadata": {
        "id": "466b7687"
      },
      "source": [
        "# Choosing algorithm by Nested cross-validation\n",
        "\n",
        "\n",
        "Nested cross-validation is a variant of cross-validation. It is used for model evaluation that combines the concepts of both model selection and performance estimation. It involves using an outer loop of cross-validation for performance estimation and an inner loop of cross-validation for hyperparameter tuning or model selection."
      ]
    },
    {
      "cell_type": "markdown",
      "id": "558f08e5",
      "metadata": {
        "id": "558f08e5"
      },
      "source": [
        "1. Initialize a pipeline and a custom parameter value range (param_grid).\n",
        "\n",
        "2. Create a grid search for the inner loop.\n",
        "\n",
        "3. Parameters include:\n",
        "\n",
        "  - estimator: the pipeline created in step 1.\n",
        "\n",
        "  - param_grid: the customized parameter value range initialized in step 1.\n",
        "\n",
        "  - scoring: default to calculate accuracy.\n",
        "\n",
        "  - cv: 2 because of splitting into 2 sets (validation-test).\n",
        "\n",
        "4. Perform cross-validation with the grid search from step 2 using 5-fold cross-validation.\n",
        "\n",
        "5. Calculate the mean and standard deviation of the scores."
      ]
    },
    {
      "cell_type": "code",
      "execution_count": null,
      "id": "28804076",
      "metadata": {
        "colab": {
          "base_uri": "https://localhost:8080/"
        },
        "id": "28804076",
        "outputId": "e42e83d1-2be0-49e8-afb8-5dcd3db0889a"
      },
      "outputs": [
        {
          "name": "stdout",
          "output_type": "stream",
          "text": [
            "CV accuracy: 0.974 +/- 0.015\n",
            "CV accuracy: 0.934 +/- 0.016\n"
          ]
        }
      ],
      "source": [
        "from sklearn.model_selection import cross_val_score\n",
        "from sklearn.tree import DecisionTreeClassifier\n",
        "\n",
        "# SVM\n",
        "gs = GridSearchCV(estimator=pipe_svc, param_grid=param_grid, scoring='accuracy',cv=2) #inner loop\n",
        "scores = cross_val_score(gs, X_train, y_train, scoring='accuracy', cv=5)\n",
        "print('CV accuracy: %.3f +/- %.3f' % (np.mean(scores), np.std(scores)))\n",
        "\n",
        "# DecisionTree\n",
        "gs = GridSearchCV(estimator=DecisionTreeClassifier(random_state=0),\n",
        "                  param_grid=[{'max_depth': [1, 2, 3,4, 5, 6, 7, None]}],scoring='accuracy',cv=2)\n",
        "scores = cross_val_score(gs, X_train, y_train,scoring='accuracy', cv=5)\n",
        "print('CV accuracy: %.3f +/- %.3f' % (np.mean(scores),np.std(scores)))"
      ]
    },
    {
      "cell_type": "markdown",
      "id": "3c429482",
      "metadata": {
        "id": "3c429482"
      },
      "source": [
        "# Examine various performance evaluation metrics"
      ]
    },
    {
      "cell_type": "markdown",
      "id": "Ch-U72qmQIGy",
      "metadata": {
        "id": "Ch-U72qmQIGy"
      },
      "source": [
        "# Confusion matrix\n",
        "\n",
        "A confusion matrix is a table that is often used to evaluate the performance of a classification algorithm on a set of data for which the true values are known. It provides a summary of the predictions made by a classification model compared to the actual true values.\n"
      ]
    },
    {
      "cell_type": "markdown",
      "id": "d13eefd7",
      "metadata": {
        "id": "d13eefd7"
      },
      "source": [
        "We can create an confusion metrix by pandas library:\n"
      ]
    },
    {
      "cell_type": "code",
      "execution_count": null,
      "id": "a04a36bd",
      "metadata": {
        "colab": {
          "base_uri": "https://localhost:8080/",
          "height": 206
        },
        "id": "a04a36bd",
        "outputId": "844aedd4-4d44-4316-9fed-794e294cf957"
      },
      "outputs": [
        {
          "data": {
            "text/html": [
              "\n",
              "  <div id=\"df-758a71d1-0a38-4c1b-8379-2595aed895e2\">\n",
              "    <div class=\"colab-df-container\">\n",
              "      <div>\n",
              "<style scoped>\n",
              "    .dataframe tbody tr th:only-of-type {\n",
              "        vertical-align: middle;\n",
              "    }\n",
              "\n",
              "    .dataframe tbody tr th {\n",
              "        vertical-align: top;\n",
              "    }\n",
              "\n",
              "    .dataframe thead th {\n",
              "        text-align: right;\n",
              "    }\n",
              "</style>\n",
              "<table border=\"1\" class=\"dataframe\">\n",
              "  <thead>\n",
              "    <tr style=\"text-align: right;\">\n",
              "      <th>Predicted</th>\n",
              "      <th>0</th>\n",
              "      <th>1</th>\n",
              "      <th>2</th>\n",
              "      <th>All</th>\n",
              "    </tr>\n",
              "    <tr>\n",
              "      <th>Actual</th>\n",
              "      <th></th>\n",
              "      <th></th>\n",
              "      <th></th>\n",
              "      <th></th>\n",
              "    </tr>\n",
              "  </thead>\n",
              "  <tbody>\n",
              "    <tr>\n",
              "      <th>0</th>\n",
              "      <td>3</td>\n",
              "      <td>0</td>\n",
              "      <td>0</td>\n",
              "      <td>3</td>\n",
              "    </tr>\n",
              "    <tr>\n",
              "      <th>1</th>\n",
              "      <td>0</td>\n",
              "      <td>1</td>\n",
              "      <td>2</td>\n",
              "      <td>3</td>\n",
              "    </tr>\n",
              "    <tr>\n",
              "      <th>2</th>\n",
              "      <td>2</td>\n",
              "      <td>1</td>\n",
              "      <td>3</td>\n",
              "      <td>6</td>\n",
              "    </tr>\n",
              "    <tr>\n",
              "      <th>All</th>\n",
              "      <td>5</td>\n",
              "      <td>2</td>\n",
              "      <td>5</td>\n",
              "      <td>12</td>\n",
              "    </tr>\n",
              "  </tbody>\n",
              "</table>\n",
              "</div>\n",
              "      <button class=\"colab-df-convert\" onclick=\"convertToInteractive('df-758a71d1-0a38-4c1b-8379-2595aed895e2')\"\n",
              "              title=\"Convert this dataframe to an interactive table.\"\n",
              "              style=\"display:none;\">\n",
              "        \n",
              "  <svg xmlns=\"http://www.w3.org/2000/svg\" height=\"24px\"viewBox=\"0 0 24 24\"\n",
              "       width=\"24px\">\n",
              "    <path d=\"M0 0h24v24H0V0z\" fill=\"none\"/>\n",
              "    <path d=\"M18.56 5.44l.94 2.06.94-2.06 2.06-.94-2.06-.94-.94-2.06-.94 2.06-2.06.94zm-11 1L8.5 8.5l.94-2.06 2.06-.94-2.06-.94L8.5 2.5l-.94 2.06-2.06.94zm10 10l.94 2.06.94-2.06 2.06-.94-2.06-.94-.94-2.06-.94 2.06-2.06.94z\"/><path d=\"M17.41 7.96l-1.37-1.37c-.4-.4-.92-.59-1.43-.59-.52 0-1.04.2-1.43.59L10.3 9.45l-7.72 7.72c-.78.78-.78 2.05 0 2.83L4 21.41c.39.39.9.59 1.41.59.51 0 1.02-.2 1.41-.59l7.78-7.78 2.81-2.81c.8-.78.8-2.07 0-2.86zM5.41 20L4 18.59l7.72-7.72 1.47 1.35L5.41 20z\"/>\n",
              "  </svg>\n",
              "      </button>\n",
              "      \n",
              "  <style>\n",
              "    .colab-df-container {\n",
              "      display:flex;\n",
              "      flex-wrap:wrap;\n",
              "      gap: 12px;\n",
              "    }\n",
              "\n",
              "    .colab-df-convert {\n",
              "      background-color: #E8F0FE;\n",
              "      border: none;\n",
              "      border-radius: 50%;\n",
              "      cursor: pointer;\n",
              "      display: none;\n",
              "      fill: #1967D2;\n",
              "      height: 32px;\n",
              "      padding: 0 0 0 0;\n",
              "      width: 32px;\n",
              "    }\n",
              "\n",
              "    .colab-df-convert:hover {\n",
              "      background-color: #E2EBFA;\n",
              "      box-shadow: 0px 1px 2px rgba(60, 64, 67, 0.3), 0px 1px 3px 1px rgba(60, 64, 67, 0.15);\n",
              "      fill: #174EA6;\n",
              "    }\n",
              "\n",
              "    [theme=dark] .colab-df-convert {\n",
              "      background-color: #3B4455;\n",
              "      fill: #D2E3FC;\n",
              "    }\n",
              "\n",
              "    [theme=dark] .colab-df-convert:hover {\n",
              "      background-color: #434B5C;\n",
              "      box-shadow: 0px 1px 3px 1px rgba(0, 0, 0, 0.15);\n",
              "      filter: drop-shadow(0px 1px 2px rgba(0, 0, 0, 0.3));\n",
              "      fill: #FFFFFF;\n",
              "    }\n",
              "  </style>\n",
              "\n",
              "      <script>\n",
              "        const buttonEl =\n",
              "          document.querySelector('#df-758a71d1-0a38-4c1b-8379-2595aed895e2 button.colab-df-convert');\n",
              "        buttonEl.style.display =\n",
              "          google.colab.kernel.accessAllowed ? 'block' : 'none';\n",
              "\n",
              "        async function convertToInteractive(key) {\n",
              "          const element = document.querySelector('#df-758a71d1-0a38-4c1b-8379-2595aed895e2');\n",
              "          const dataTable =\n",
              "            await google.colab.kernel.invokeFunction('convertToInteractive',\n",
              "                                                     [key], {});\n",
              "          if (!dataTable) return;\n",
              "\n",
              "          const docLinkHtml = 'Like what you see? Visit the ' +\n",
              "            '<a target=\"_blank\" href=https://colab.research.google.com/notebooks/data_table.ipynb>data table notebook</a>'\n",
              "            + ' to learn more about interactive tables.';\n",
              "          element.innerHTML = '';\n",
              "          dataTable['output_type'] = 'display_data';\n",
              "          await google.colab.output.renderOutput(dataTable, element);\n",
              "          const docLink = document.createElement('div');\n",
              "          docLink.innerHTML = docLinkHtml;\n",
              "          element.appendChild(docLink);\n",
              "        }\n",
              "      </script>\n",
              "    </div>\n",
              "  </div>\n",
              "  "
            ],
            "text/plain": [
              "Predicted  0  1  2  All\n",
              "Actual                 \n",
              "0          3  0  0    3\n",
              "1          0  1  2    3\n",
              "2          2  1  3    6\n",
              "All        5  2  5   12"
            ]
          },
          "execution_count": 21,
          "metadata": {},
          "output_type": "execute_result"
        }
      ],
      "source": [
        "y_actu = pd.Series([2, 0, 2, 2, 0, 1, 1, 2, 2, 0, 1, 2], name='Actual')\n",
        "y_pred = pd.Series([0, 0, 2, 1, 0, 2, 1, 0, 2, 0, 2, 2], name='Predicted')\n",
        "df_confusion = pd.crosstab(y_actu, y_pred, rownames=['Actual'], colnames=['Predicted'], margins=True)\n",
        "df_confusion"
      ]
    },
    {
      "cell_type": "markdown",
      "id": "d09dd48e",
      "metadata": {
        "id": "d09dd48e"
      },
      "source": [
        "Or using sklearn:\n"
      ]
    },
    {
      "cell_type": "code",
      "execution_count": null,
      "id": "46a731a4",
      "metadata": {
        "id": "46a731a4"
      },
      "outputs": [],
      "source": [
        "df = pd.read_csv('https://raw.githubusercontent.com/rasbt/python-machine-learning-book/master/code/datasets/wdbc/wdbc.data', header=None)\n",
        "X = df.loc[:, 2:].values\n",
        "y = df.loc[:, 1].values\n",
        "le = LabelEncoder()\n",
        "y = le.fit_transform(y)\n",
        "X_train, X_test, y_train, y_test = train_test_split(X, y, test_size=0.20, random_state=1)"
      ]
    },
    {
      "cell_type": "code",
      "execution_count": null,
      "id": "a2a2c3e6",
      "metadata": {
        "id": "a2a2c3e6"
      },
      "outputs": [],
      "source": [
        "from sklearn.pipeline import Pipeline\n",
        "\n",
        "# Construct pipeline for SVC\n",
        "pipe_svc = Pipeline([('scl', StandardScaler()),\n",
        "                     ('clf', SVC(random_state=1))])"
      ]
    },
    {
      "cell_type": "code",
      "execution_count": null,
      "id": "71627ccf",
      "metadata": {
        "colab": {
          "base_uri": "https://localhost:8080/"
        },
        "id": "71627ccf",
        "outputId": "6a0fc456-1fb0-4c69-ddbe-d7e77eb18eaf"
      },
      "outputs": [
        {
          "name": "stdout",
          "output_type": "stream",
          "text": [
            "[[71  1]\n",
            " [ 2 40]]\n"
          ]
        }
      ],
      "source": [
        "from sklearn.metrics import confusion_matrix\n",
        "\n",
        "# Train the model\n",
        "pipe_svc.fit(X_train, y_train)\n",
        "\n",
        "# Obtain predicted label\n",
        "y_pred = pipe_svc.predict(X_test)\n",
        "\n",
        "# Print confusion matrix\n",
        "confmat = confusion_matrix(y_true=y_test, y_pred=y_pred)\n",
        "print(confmat)"
      ]
    },
    {
      "cell_type": "code",
      "execution_count": null,
      "id": "3306b08d",
      "metadata": {
        "colab": {
          "base_uri": "https://localhost:8080/",
          "height": 198
        },
        "id": "3306b08d",
        "outputId": "eb3e3ef9-a01f-4ce6-b2ac-58571045187c"
      },
      "outputs": [
        {
          "data": {
            "image/png": "[encoded data removed]",
            "text/plain": [
              "<Figure size 180x180 with 1 Axes>"
            ]
          },
          "metadata": {
            "needs_background": "light"
          },
          "output_type": "display_data"
        }
      ],
      "source": [
        "# Plot the confusion matrix illustration using matplotlib's matshow function\n",
        "import matplotlib.pyplot as plt\n",
        "\n",
        "fig, ax = plt.subplots(figsize=(2.5, 2.5)) # Tạo khung và độ lớn\n",
        "ax.matshow(confmat, cmap=plt.cm.Blues, alpha=0.3) # vẽ hình dưới dạng biểu đồ nhiệt\n",
        "\n",
        "# Visualization\n",
        "for i in range(confmat.shape[0]):\n",
        "    for j in range(confmat.shape[1]):\n",
        "        ax.text(x=j, y=i, s=confmat[i, j], va='center', ha='center')\n",
        "\n",
        "plt.xlabel('predicted label')\n",
        "plt.ylabel('true label')\n",
        "plt.show()"
      ]
    },
    {
      "cell_type": "markdown",
      "id": "70c3ede2",
      "metadata": {
        "id": "70c3ede2"
      },
      "source": [
        "# Tuning the model for optimizing both accuracy and sensitivity in a classification model"
      ]
    },
    {
      "cell_type": "markdown",
      "id": "afbe3b1b",
      "metadata": {
        "id": "afbe3b1b"
      },
      "source": [
        "We can count the precision, recall, F-1 by the formular:"
      ]
    },
    {
      "cell_type": "markdown",
      "id": "320eef43",
      "metadata": {
        "id": "320eef43"
      },
      "source": [
        "![confusion matrix.png](data:image/png;base64,iVBORw0KGgoAAAANSUhEUgAAAfEAAAHECAIAAACm54Q0AAAAAXNSR0IArs4c6QAAAARnQU1BAACxjwv8YQUAAAAJcEhZcwAADsMAAA7DAcdvqGQAAP+lSURBVHhe7J0FQFRJ48CvvS49PS/07uzu7m5FLGxFUQRBUUIEESSkke7u7u7ubthllwWW7e5dvP+83dU/ot53wXmK8zs+Pnlv3sSbmd+bV/Pe+R0CgUAgYwXodAgEAhk7yJ1ua2trDIFAIJA3ECBwmckBcqdPmjTpHQgEAoG8gQCBy0wOkDt94sSJM2bMQEMgEAjkjQKoGwhcZnLA/4/Td+7cKfs3BAKBQN4UgLpfME6HTodAIJA3Eeh0yCgwNCThcbkMBp1CoVBpNPpTaDTqs4BlXB5fLBbLt/wvePz48ZBYzOVwKGQyiUgkEAYBHA5XPDQEVsmCgB8Ohw1WgvKwuTzpwteUoaEhkVDAYjJJSGEGwf9IZDKfLwBleVKc0UEoFLBZLLDTCNJdRiSRWWwOsqfk6yGvBdDpkFEA9HZ8f39ba0tVVVVdfUNTUzNCU1NjQ0PtcOrqwJq+ATyTxZJIJEBGo+6dPwNIWsjj9vViqyrLS4qL8gvycnJzsbg+nlAEsgQCAOcPDYl7sejiooLK2oYe3MDfzqdswxHI140SIpGIxaChujrKSosLC/IKCwtKyyuBcMEOHt20GHRaD6q7sryiID8/NzenuLSiuwc79Ph38AN5fYBOh4wCDBo1PTHe2sLs6pUr586eOXH82OHDh48dO37mzDnVa9fU5aipqFy+cP7cpUuXDQzvB4VFNbV1sDhcmUZfJWKRkEHqT4wJv6KifPDA/q2Abdsi4pIIDDbwIAjAYtJrSvPNTe5t2759z0FFc5tHvQNEDo8v2/wvAaw6JBFzOBwyhcIXCGQHMfm6UYLLYaPaG308nM+cUtqze9eefftPK6uUlFcKxZLRTau1uSHI1+uy8sV9e/du37Hz+FkVr8AI8RB0+usFdDpkFGDQaBlJCXZWD1VVVDauXjF18qRPPvlkwqQflqxYo3JVVfMGgqamhsrlSyeOKa5fs2rDuvWHjipZOTjnFZdTGSxgH3lErwTgdCZ5IDkuQkX53Jzp0z4dN+699z+wdvboJTPEUqcTBwfCfFwO7Nr6zjvvfjDuU4UTZyob2yl0hmzzvwQQOo9Nb29rSc3K7h8kDLu8M2rwOOyezmYfD6ejh/ZP/m7CF19+PX3B0oSUdIFIPLpptbU0Bfp4njyuOGParx98OG7KrKX6D2xE0OmvGdDpkFFALBYzmQwykdDV3qp//fKymb++8847P/w2+/RljYaW9v4BPGBgYADV1VlWlG+orb5h5eJx48ZNmTH33FXNmlY0jcWVR/RKAGcGEomISaM011ZfPK449fuJ7334sbWL11On9/X22Jre3bB6qexp3537DqYWVAwQKbLN/xJiIZ/S1xkS5HNS+UpJZY1APPpOB8URCQWD/ZiclJgNyxZ+9+342UtWJaZmjrrTBXzBAK43NS785DEF4PTf5q0wNLeDTn/dgE6HjALAHUDrIqGQQiKY62qunjsdqPDnGQtUNO/0DRIEQjlcDoeA70+LC1M5q/TuO+988tkXK9ZttnULbGzrkkf0SgC5RTIsEuBxGI2LZ2b89ANwuo2LN47MlDmdTqPkZyYb3dXZsX3b3v0HHzy07uzpY7L/zoGHy2LUFaWZGd/Zsk8ht6RciFwOGWUFSkszxGVRGyoLdq5ZPmn8hNlLVyWmjb7TwcGDQaNUFGZdvnD6w4/GTZu/8p6FPXT66wZ0OmQUecxk0Kz0b62dPxM4/ZdZi65pGRAptOF9Howo0a31ZoZ6H7z7DtD6T1Onnbp8MyuvRL76iXClgH8jfwKVIH+8BLBaIhGLRCKhCLnD+QchZYDg4PAjvUEroZAGb125OHvqTyOcDjJJIQ4U5Ga5Ojt5+wUWlJTz+CLZqhGA5JCDGUhden8VpD08eZCvwX5soIvlhdPHVm7ZlV1UCgz4xxkEuUKOfiIRiPZ/lQVJTQIKL0au6IgF7K7mqr3rV02e8E+dDuIE5QGAmOWLnsBmMuorClUvn3+p00GKj0GuxNIIXhDDCMBOkw4GACKkUkCOn6tx6RJQTJFAIED2jER6YPxfDeOtBTodMooAp1OHO11Vy2CQTJMM63dAl7iOZqv7BuPee+e9d96ZNPnnvYrnklKz5aulHRiIAJGu1OnALwLBHz37CITKYbMoFAqZQgE9XurVP4LP57FYTC6PLxSJKSTiravKzzsd6AIYhM1mkclkCpXK5nBkspHFMByQPRaTgaROlt4CBdvK1yCwmbSaisJTinsWLlq4fOve3OJSWaH+AJA9MokIysJksYCz5EtfDIjoMYfDYTJZAhE4fPAwHfX7Nqz+507n8bigPAAWiyVf9ATg9NqyvKuXzv2h08Vg1xGJBCKR9HwMIwCaZtBpBAIB7EAOFxw5wfFpCByfwY6Vh5BWh0DAA8HweDzYM7L76ojjRSLgdXkgyBOg0yGjyAucTiQ/O04XCHpa680N9T58F3H6jz//qnRBIzOnGJixqqw4JirCzd3d1dU1Pj6xrb2ruqI0PSXB09PDy9snJi6xvRvLYHFk8fB5HBIel5+TGRwUADbx8vb28fbx8PCIiokvq6pjsNhP0wRGeDwkwaK7CnIy/Xx8vL29/fz9g4KCo6Jjw8KjlA7t/+2nH9776JOnTpeIBYQBXHx0pI+Xl4eHp4enV3pWLoHK4gtE8hilj5p0trekpSR6uruB3CIZ8AIhPUPCwnPyi/sHBul0GiiOv7e7xjWVWdOnjv/uuymz5t+4re3q5gZ+cvIKenr7gL+QuIAEhyREfF9VaVF4aAhI0AvB09vHx9c/qKCkog9PAmNYabIIiLw5rPrqyoTYaKTMvn4BgUFBIWHx8fFhQf7rliz8/rvv/qrTkePVkKQXg8rPzfL38wMlAmWS58TbOys3vxuNkeX2ZU6XxYBFdeZnZwQGBvj4+vr5+YFd7SklMTmtsaUdiPppSxAJ+VQivjg/OzY6Mig4GJQAEBwYCKonLCy8srqOQCRJoxRj0F0ZKYkREeEgQGAgEjDAPwDEGROXUFlbz2bL2wPkKdDpkFHkGadPnbno6o27gwQiOF+WAUbcdBq1sjBbW+MqEPq4j8bNX7Rc38ShoqZ5cKDfz83p0rlTy5cvmzd//okTp/x8gxxtH97WvLJl08aVq9YcVFTyD0/qQOHA0EwoEGDRnVnJMVoaqgcP7NuvcPiisvJl5Yt7dm4/pnTG4IF1bVMrk8NFdPn4MY/DJgz0RocG3Na4tm3L1kMKihcuXb586ZLqVbXLKtfWLls2eeJ3H3zyma2bj8zpQj67pb5S/fKFzevWLJg/f978heo3dRs6+2lM+fV0Dofd0dbs6+l8+eLZ9WvX7D94SEnp5JnTSuvWr928dfs1De28wlIUGuXr9ujk0UO/TPlx3LiPPvhw3BffjF+weMnGTQhmVrbFFdU8Ph/sMbFIQCUO5qYnmdzVBmXZvXfPxUsqFy+eVzpxfPO2XToGD5IyCsBxEZy5AMeBsSmFNNhUX2Vr8eCM0vHtu3adOHVGRfXahQuX1NWvX7t6bfavv0ycOHHustVJ6Vl/0ukgjIDPIxH646JDb16/um3r1u07dp5QOnX61Il9e3cvWLT4ivrN8JhEFocDQr7M6eBIw+cwk2JCNVWV165dv3f/oavX1FVUVI4cPrRm9cpTZ5Ud3Xx7cINsDh9EAiAP9lcUZN3T07qqoqxxQ+u2jo7WzRtXL13YuXXz/v0HnD39GlvbxUIhjTyYFBuhrnLxyhVV9euaurq6INj5M6fXrVl96oKys7f/IJEkLwbkCdDpkFHkGaf/NG3uWZUbDU0tuD45XR3tJYW5Jndub1q9HASYNmPOhSvXC8saCGQ6k0GvLCmyszQ9sHv7Tz/+MO3X6ft2H7qhoXX79q2TxxTmzZk9ZdosxYs34tLzEaGjOjyd7TevW7li1eoTZy+GRMUVl5YVF+S62porHNg7b9Gym4bmWUWViNOHxM311ab3tHdu3bhixcpLqhoevoEFRSWFBfnB/j63NK/Nnz3js08//eizL586HUh2ANcTHuBz5tihyRO++OqLz4+ePF/ZgqUw5EPCssLsB4a3Vy5bvHrthlPnVfwCQ1OTk6KDvTetX/v1N9/8+NOUh4/cq1u68nOz3Rxtz586PvG7CZ9++fWvcxZq3tJ2dkHGwNm5+T1YHDjU/f77EJCpn7vjqWMKs2fOPHjkhJmNQ1lldVlZSZC/t+L+XcCPCsfPZhdVkahMsVhMIQ7ER4cqHdm/fMXyzTv2mFrZxSWnlpZXZGVmPrK1PH304A+Tvvv62wnzl6/5804HBe7pbnO1N1XYv3Pu3LmKx89Y2jpmZWfHR/hrqSl/9vnnP02bc/7qjV48USiWvMzpHBYD09EIDgk//TD5q6++Onvpalp+WVl5uZ+X68nDexYtnL9u8467Fs6Vda3SF6EeZ6fE37p64ZDCYRMzy5a2jo6urpamhrKC7KsXTm/bssnooW1ZTR2NTEwM876tqbr7gGJgaGR9Y3N3d3drc2NsePCJQ7uPKSkZmlvj+gfkxYA8ATodMoo84/RvJ/20cfteu0eOXt7IJQ/w88jBzvCu3uH9ezesW7d+09ZbOvpRcclEMkMgFANTE/ADKQnRN9UvT/n5xy+/mjBv4Rrzh3ZhoaG2Fvd2bd8yZ8GSM9fuJGUVMWiUhIiA8ycUvv7y8y279pvbOnf19DKYLDqV3FBVqntDdd7MaSs3bLdy9KSzefg+TFiA5+rlC3/5bdqGrbuCwqObWjtodAaNSmltqg8P9gUHhi+/+OyDTz5/6vShIQmbxWhvabx/5+av33/xyUcfHFBUKm/GAKcjr+DTSU62ZhtWL/nyq2/2Khz3DYlp7ejux2Faq4tPKB74fuJ347+bZGrr3ITqx2B6ivIybSzu//rL1K8mTFq8fqtfcGhjE0JfXz+TxQZJsejkyuKc08cO/fbL1G++++GOsUVheQ2Lw2WxmC0N1U4PDTatW/3brPmm9h5Vje1cDqcsP+OOltpPkycsXL760vXbBaUVvf3IS7lEwmBxTprlfe0Zv0758pvx8/6K04kD2OSY0AO7Nk2dOuXXmfPMbV1KKmpJJBKqpfqR5f2JE7756bdZpy+p9w6A862XO51J72mrV1O5CPbADz9PvWti0UtigEppqi1zt7m3bOGcbyd8v2zDvrCYVA5fJBmSBHm77li7bMWaDXeNH2L78GQqjUGn0ylEXzcnHS1NJy+/uqZWPA5rdVdj347Ni9ZsDQiL6cbgaDQ6k8nsaG70sLd48MDE0cMHnAXKiwF5AnQ6ZBR5xukfffLZT1N+2b5z5/4DUvbv37p1y6pVq9Zv2HxO+aq7d3BrBwpoYrh3WpvqXB5Zzp45/YtvJ89dtTM9uwCcfVcXZxjcuX3qzHlX36j65o7+XpSO2vkFM6aM+/gTDe17ucU1fD5f+uAEco0nOtBDcdvK8V99fe6SehuWWJCVrKt5+d133pkyc8HVm3fIFKo8JeSawxBQofLpoz9M/Pa9cZ/auA6/R4oQ6OW8fPaPX3726UHFU7JxOptBRbdUnFNSHPfhh5999b3BAxsqWwQUJeRzSH2o+3o3d2zduHbTNt/QKDyVJZZI+jBd0SHes2fNGD/5p3V7DheWVoCyDtdsT3t9gJv1tF+nfDDu859nLE7IyGXJiyJkUgmYxsKLp458PWHSnuPKYfFpNArJxdp4x4YV77//vuLpS8GxaXyBQB7R77/z6IT64rQ1yxZ9/c34v3Ttpbok21hX45uvv/zky4mrtx4sr2vli5EL2SwqPj4iYMu6lXsPKt63sCVRaGDnvMzpAh6b1I+2enBv+6ZNuw8e8Q4KZ/KFHB6fRsC2V6bv3bb+/fc+ePfDLy0d3EkMrkgi9nCyXTZ32sx5iy5c0UjNyKmoru1GY6gMZkNtVW5mWk5+Eaa3rxfdrX3pxIqF836etfjuA0tQotq6BjRYgcOhWuqL8vNzCooYTKa8GJAnQKdDRpFnnA5ktH33/rDIqIxMcCqPkJGZmZGRkZeXX11TBzonGKuOeJ6kuaHmka3ZrJnTp06fe0JZq6yqXijg08iEluamqqpqNKaPgO9rrilW2L1pwpeffvTRuONnlV28/AueUFxSbGVmtGvjiq+//OLw0VNpOaVutuZK+7cCpy9YsuaO0UMqjS5PSXqzEd/Xe/Gk4gucPiQZEgn8PRyWzXrG6fhedGqo595tGz7+5NOffptv/cidJ5Q9FSnmc9nNDbX5eTmZ2XkoTC9fiLxchEV1hPm7g0MUcPraXYfySipA9MM1W5KbdkdT+Yfvv/vw069+nLnY0sElKzdPVpaczLTEqIADe3Z8+sXXi9bucvYK6MOib14+NWfqJOD0i1c0kzMLBQKhPKLff2dT8ZV5SauXLvyrTk+ICDp37OAXn336/c8zD5282tTeLX0vakgs5IMUczMzCgqLm1s7+AIhWPzS6+kSsYDH6Wxrzc3KiomNSUpOyshICwoKdHGwNTO4tXDODJDnDz/+3NLBeZDGAk5PiA5VOrTr5ylTpvw6be26DTt37zl2QunqNTUjY9Og0IhuTC84WSET8EGuNgq7t33y+Vez5sxbu34jCKZ08rTadU1jY9PElPQe3ADIlbwYkCdAp0NGkWecPvHHKSfPX+pC9wB3c2XweEBDf/CIXlNDtYONKXD63IXLb961qmtql694Aos2WFmQvH7loo/ef+fDDz/ctV/hzj0Tb28v2fMVPr4+RoZ3Th1XXLdu7Q0t7fTMfFNtjR2rFoLMLF+12cTcnjbs/X6JSDjQ2/NSpwt5/u72I5ze09Hia31/08oln3z2xYx5K53c/IRgSAuUJh3aI4/XIY9aI89ZS1P4HdPdHuLr9tTpuSUVoqHHwIyyh8rBJmnxEconD3w3/puPPvvqh+kLNG/fcXV3B4UBPx5urs6ONqdPKa1as+7wyUuBYZHojuYzB7Z//8W4Dz744Np17ez88uHPw7AoA+U5CX/D6YGeLge2bvz044+nTl945rJ2Rzfm6TbI67ZCoRh5IhzRPFjycqdLwNEX24MqzMvx8fKwsrS8b2R0z+i+ob6ejubVuTN++/CD98d9+pmlvROeygQ7qKm+ys3Bctf2zb9O/fkrKd+OH//Djz+t2bBF45ZeXmnlIInCYbPqK4rM7t1ZvHDeD5O//+qrLz//4ovx4yf8+tv01es2GZpaFpTX0JnIsECWW4gM6HTIKPKM0yf9NPXcZdX+QSIQJTDCcOTBn+Op0xcsXnnH2L6huUO+4glMcn9pdtzqZQs+eO+dDz78cNPWHdeu3zA3NzczMzOVAv5tZW3l4OiYkprW2tpmevv6+oWznjjd4R86HdXW7Pbgzvpli4DTZ8qcjjwhjRRHXrAnSFN4mdOH+Hw+j8cDx7bk2NCzR/d8N/7rjz798odfZ1+4fNX4wQN5SQBmZg8tLR2dXSLikusb6lAtNce2bxw/7v3Rdbqfm9PeTeuA03+ZvvCcyjNOl5XlKWDJy5wuFAroVGJYgNfZ44em/fbrzDkLtu9WMDK38fP1DfV2WrdiyUfPOn1oSEyU3hy+cPrY/Hlzf5g86fPPPn3nnXffe++9X6bN1Lhjkl9WjRz8hiT11eV2FvcO7ts1e9aMSd9N+Pjjce8C3ntvzuKV13TudaKxsiqDPAU6HTKKjHT62UuqfXgCGOfJ1/8vhjtd775943NO57NpTVWF+7au/frTj8Z9/LHyVY3gyLi6urr6JzRIqamp6uzs7MXhnC3u7V6/DGRm8Yr190xshl97GRKLCP29yqeO/Hmn9/V0xXg77Ni4+qOPP/3xt3k2jh4C8e/Dzzqkb0gJ2Bwuh4soG9PdFuzjCoqDOH23Qn5phUDAZVEHsrJzU1JzOBxuUXayjtq5yZMmjPv061/nLPPwDaiWl0MOck+1ubm+qQWH68Wh21VOHJw64Uvg9CvqWhm5JQLhsGsvtMGqgpS/cT09ItD72P6dn33yyaSfZhxUUmlq7x4uSRCDEGQaOccC8Ylf5HTkKIVBd/q72SkpHli8aOGOvYcNTR6mZmTXNjS1NdfXF6fu3bp+3Ifvj/sEcfogjSkSizraWlOSk/MKijKzsmOiIrw8Pawemuvp3Nq8btX06dNXbTvoHx5Lp9PKiwuyM9OzcvOSk5PDw0Ld3VwfWpipX1NZv2rJzJkzN2zfk1FYSXryPBJEBnQ6ZBR5gdP78QRw6i5f/79obqiWXU+XjtMdnne6RMjHdrVqXDo1+9cfgdNVrmun5ZZKb7TKA4iEfDJxsLSooKamDoPDxwZ7X1I69OH7786ct0RT2xCc0T9970XI52C6Ws8c3T9p/FfA6bbuvn1U5FkUsOrZ6+mfHDxyqroNR2FwqcSBytzEk0f2f/H5519P/FHPyAxHpMrfRQI5eDxEo1Ia6mqamtt6evFgEA2cHuKLOP2bST+u3nGwoKScA4zeXWvv4GRh7UqjMdobKt1sTebM/PXTz7/+ZebiyPgUKpONxPYEGoXU2d5aWFLe1Y0iDfaZ6l5fuWDm+++/r3TucmRCOo////dIKYOYvOSwFYvmffnN+DnLVidnZP/JuXZz0xNuql6Y+O1XX4//ft22A2CAzOTIZxUekoiFfG5nWws4avYPUtlcPnB6XXn+8LkBQBpDjyU1FUXKx/fMmDr5h5+mXrt9L7uwHCQMfpgUfFtl1r7tG8A4/aNPPrN65EJkcMRicUpi/F09vcTMQlTvIDhhotOovZiexroqg9vqa1cs+Wn2Mns3335cr5vtQxdHp9T8cgKZKhDwqRRyL7YnPzvV6Pa1FYvnzZw7Pyw5F0eCt0mfATodMooAp9Os9W+t+/9rL9dIJPKfMYuM1qZal0cPZ8+cvnDJqrsPHBtbOuUrngAEQqUQw3xdFPfveP+DD1dv2mPl6MURgMGiPACVNFCcm3bi6DFd/ftVzajmuqpHFve/+uSjCRN/PKx0oQs7wBPKDzBUAq40O2Hv1rXA2u99/JmtZ0AfnSd3upQAL+flUqcrHDvTiCLQWHwgOAYRZ6St+dsPEz8eN05B6Vx0ZhGRQkOiA2UcEtbXlOtoXLN38swsrGVzeFhUe5i/G3D6lxO+X7pxd15RKZ3c31qWYnTfWN/EhkKls+jEsry03VvWjv/my2++/c7IzKG64ZnDWHFuhpWp0RUN3cj4VBaTnhwRcPbYoffee2/1pt2WjzzB2YA83O+/dzRUeNrcmz39l88Rp68Bg1tZKeSrXw4O1Rbk+Wjh9ClffvrxbzNmewRGdGL6ZauEPDad0PPI2txA37CsrpNIY3FYjOaaEvUrFxGnL1h5/6GDNBFxSX7GrnXzv//2i1+nzbR09K5t7pQ5HdPVEuX3aM3yxe+9jzjd1tmDygHHmiF3J4eNK5dfUteNSckB24PzG9krabEBbldOHZ69dJ2zp39PV+eti6ePKxxW0zFpbOlAblhIg5H6saXJoUqH981dvCw2sxhPfeYoCIFOh4wCPC63vbkpNzsrMMD/9OH9s6ZMBk7/avx3m7bv8vX1S0Lei6mkM5gyY74QDpvd2tTg5+1+/uyJyZMnTf11xhElZQcn14LCov5BIof3//Li83mdLfVOdpab1qxcvGTF/sMnHN190jNzKyor83KyfL3c7uppn7twxdndf4BIo5JJeelJF5SOLF20eNWa9SYPbRJTM+sbGivKy0KDfLU1rwIJgiHkux98qHhG2Ts0thPVy2TSaZTB3KwMzavKv0z86uOPPlixZoONi19pVSOJTBPyOOnxUTdUzs+b+dvS5SuPn7vs7Recl19QXVWZEBdp/dD05ImTPgHhbag+gVAExvX5mUm7tm2cPHnyj7/MMLWwDg4KsDK+fffefXe/MAaThTxbgulys7c6cmD3tF+m7N5zSN/QNDk9s7SsvLS4KDYyzOiunqrKFTsX34qaJqFA0NPZ4ulkt37VsiVLVx4+fiYoNKK4pKyhob4gP9fZzuLU4V2Tvvv2w3GfTJj8s5aOfkZ2HpFE4/2vJ0M4LHp9ZbHpHa0t61b9MnXqoaMnLWwcsnPzystK05MTnGzNbmhomphad2Pw6B5MaVG+g7XZ9s0b33v/g4k/Tzt25mJ8QhKqB1tbXamvqbxy8dwff/rp4LHTj9y8K6prQQxRYSGGutq7tmya+tMPH3z40dGTZ7wCQ4vLq4zu6q+YP2fVus3Xb99Jycyprq1tqK8rKy64r6elpHjw4nXt1OwCTHfXjbPHNyxftnz9NpClzNy81tbWhvra9KQ4Uz3N0ydPXlDVqGnuYPPhoy/PAJ0OGQUYdHp2avIjWxt1dfV9u3csX7Jw2rRpcxcs3LJtx3V19XvGD3wDQqQXYV7qdCqZnJGcYHT3zp7dOxcsmL9k6Yq9Bw6rql13dfdsbO+iMv7//BoM64Yk4vrqcpsHhgr7923cuEXxxNkH5lbePr621g+vq6meOXPOxsGztLJBFr6/F5MSG6F+RXn7ti0HDh8xNrUIC4/w8fa8e0dX4eCBRQsX/PILUNnUNZu2aWgbFJbVDg4O4DDtDraWSoqHFs4Gg+xpa9dvvHhVIyo+o6eXKJEMEfqwOSlxapfObtqwbunyFarqN2ztHAL8fe/e0b6mevX6Dd38ojK+CHkgEBwAUO1N9/Rubt+8ftasWeeVVW5o3Tp7+ritg3N+STVX+uEkPpeLbmv2c3NSOnxw0/oNBxWOGBibubl7urk4ad9QV754Ueu2fnlNM4WBvJo/JBE1VFdY3tdX2I98aeiaxi1nV/fw8HCnR3aa6ld379g8d85sUJbffpu275DiQ1unThTuz0wRzKRTmytLLO4bbNuyafmKVcdOnLKwsvF0d7c0e3BG6ZjOHaPQqCQ2h9ve1hwW7Hf10oWN69dNnz59/qKlew8evmNgVFJZ243uSY+PuH714sqVy1esWQf2grdfkJeXh42Nja6uwa3r6icOH5wxY/rGzVtV1DS8g8LuGRgq7Nm5fv2GoydP339o4x8UHB4W4uHySEX54oWLl0JiUzp7evt7sabaGvu3bVm2cs25y1cf2trFx8eFhwbbWlkoHTmspX0nMCqeRKH+2XPAtwbodMgowOVymhvrs9LTw8LCw6SEhISEgj/Cw6MiIxMSk4pKymhgnP5yp7NZrMb6mrTU5KCgYEBoaFhERERkVFRubn7fAGH4RQbkXP/xYw6b1deLBaPZhLhYP+mMUQEBAcHBIXEJiYVFpT0YHOvJ7E7IE+4UMpK9jLTgwIBAECwkFESdmpaeX1AUFhri4e7m5OTs7ukVG5/Y0Y2h06hU0kBmZlpEeFgwyExQEChLeERkbX0LkcIARRAJBDQKqaO1OTszPTDAz8fbB6QOwkTFxOXkF3aieugMluy5+6EhCZfDQnW25mSmeXshTyj6+QdGRMc2trQxmPJr90MSCdA6Ad/f0liXlpwYGhzk4+MDygIijIiMzCsoautAMVhskfTiOAApOBaMlwviYqL9QXSBgaFh4TFxCVlZWQV5Of5+vi7OTi4uLiBT6Rk5eAKVy/v/a+4vQyIWc9lMdFdncUEucKuvLyiTT1BQUHR0TEp6ZlNLG5lMlUgkA/19leUlEZERYBXIHgDUcExMXGd3D8gh2Cf1tdVJCXG+PsjmAUFBYCdn5xW0dXR3tLWWFRcGBQX6+/uHRUTmF5dlZeUmxscnJ6ckJCZERUWCWggBtRISCppKSVkFnkjm8fksBr0oJyspPi4hKTk+IT46OhIJFBIcER4RF59YU9dAIlNFIjF0+gig0yGjgEgkIpOImJ6ejo4ONLoH29uLw+F6e3vBkq7OThQK1dePvB7yB48SC4VCEpGAxWC6ursxGAwWi+3pQXd3d4OYgJ1B15WHG8bQ0BCbxcT397W1NtfX1dbU1DQ0NqExWCqN/nx4Po9HIRG7OtobG+pramobm5oxvTgqjdHbi+3s7GhrawPn9SgUGixBnjPksjGYHpBtkJFekBM0urOzk0iiAD/KigCSFouEVAoZjepGvqNdU1NXV9/RhSIQychcscNKKQ0poJJJ3V2dICRItxuNZbJGXgIG+gcRkgiD3V0ddbVIWeobGjo6u4C2hGDI/+w1KxCYyaD34XqbmxqlX+6ub2vvHBjA02k0NArVDgqDFKcNg+llc3h//qEjkVAINNqL7Wltaa6pqa6tq2tr7+gfJHCfXPhis1mD+AFQQWDPgMoFlQWS6+zsQna49JDD4bAJg/iujg5QUlAEUFhc3wBfiMwuDzIMwoPdCAAL+5CffgKBCJpJe1srqL7amlqwe0ClSI/9IM+PwVYE/MBAPxIMi+lpb2uprq4GxW1ubsXi+p7fhxAZ0OkQCAQydoBOh0AgkLEDdDoEAoGMHaDTIRAIZOwAnQ6BQCBjB+h0CAQCGTtAp0MgEMjYATodAoFAxg7Q6RAIBDJ2gE6HQCCQsQN0OgQCgYwdoNMhEAhk7ACdDoFAIGMH6HQIBAIZO0CnQyAQyNgBOh0CgUDGDtDpEAgEMnaATodAIJCxA3Q6BAKBjB2g0yEQCGTsAJ0OgUAgYwfodAgEAhk7QKdDIBDI2AE6HQKBQMYO0OkQCAQydoBOh0AgkLEDdDoEAoGMHaDTIRAIZOwAnQ55TXk8jKH/iTzgY/nGkDcNef09W9eyJfIQUmRL5KuHIVsuD/R2A50OeU1B+ujQEIVEKCsuTEyICwoK8Pb28vP3Dw0LT0hISE5OTkpKiomODgsN9Q8IyMkv6urpFQpF8o0hbxpCAZ9GIVVWlMfFxgQFgLr2DgoNq2lqI1IZ8hBSOGwmqqsjKTE+KDDAA+DpCdpDVnbOAJ4gFIvlgd5uoNMhrylSp0sI+P7sjFQ3J3utG+oHD+y/oHzJ2NTCx8c3NDQ0ODjEy9PTxspK+/YtAyNjD9/Atk4Ug8WWbw95oxDweWQiPj8328Xpkca1K0ePKB45ftLWzb+ivhUMv5+OwFlMWmtTQ5Cfj/atm0pKSlfVrptb2kTHxmNw/QIRdDoCdDrkNQVx+uMhPo87ONCXFhd5+/rlyd9P3HPwsLt/WG19AwaDQaN72lpaMtOSLU0N1q1dvXjZSgcP/8b2Lvn2kDcKiVgMtE7AD4BD+JULJ+fPmfHNhEnrdx33DIoeGuZ0sUhIp5Lbm+vv6ett37r9toFJZEJqDwbL5vCGhuC1FwTodMhrCzI+A12dx+NmJ8fcvHJu/DffnlW+WlTdNEgkczgcNpvNoNP7erG1VeUXTx+bPXPaDsWzoXGpAjFyfVUeB+QN4fHQkEQi5rAYDXXVpg9MlE4cXbNqxW+zFtzWN+4jUHkCoSwYqFoBj0shDAT4+evqGqRn53djetlsjlgshpfTZUCnQ15vQE99/Dg5KvjSycMTJ/2oc9dkkMoefpaNXHSXiE30NGf/9uP4XxeaO3qzBWIJdPqbCY9N72xr9gkItrG2vHHt0uTvv1c8caagopFMY8pDgKG6UMCmkTIzsgODI4kkCqzpEUCnQ15vHg/9/ljsaWe+Y92yafNXWTp68USS4coeEguFHNodzctTJ0/4+ud5Zg5e0OlvLqQBbG1FSXBYTHJSQlig54wZ09Zs2mHnGYzC9MlDIN5n4rqa01NTo2KSKFQarOkRQKdDXmskQj6XQTTUUls4a8bm/ScDIhMlQ78PNzaXRe/rbr50+uhPP0xete2Qb1g8onTo9DeTzuba7JT4iOikquqaiuK8HRvXLFq87Og59eLKeoFI8lh6eYVGJlbmpyfFx6ek59LozzwVAwFAp0Nea3gsWn9n3UWlI1N+/kXlllFmYYV8BXLV5bFIJOzr6c6ICz2wZ+eMOfNvGpgVlFXLV0PeMICvH5flZ4b7e8UnZ3Wie7Ho7huXTi5ZMP+X2StCYlKINLbU6Y/xOGxsoGdMZFRBSTWTCR9zGgl0OuS1htiPzUsIPrBzy4zZ8+y8wxs7e+UrwBBeIsb3YeLCA4/t3bF5y7Yzl9TyS6sIFKp8NeQNA/h6KCEy1NHGOq+4um+QAsbjCSGeJw/v+3r8pFsG5gXlDVKnD6E622xN70VGRDV1YLg8vnxryBOg0yGvNeiOVi9r4w2rlk6fNdfW1S+7oKylGaGxoaG6ujIhLsra3PTEkSN37t6PiEshUugiiUS+JeSNQiIWCnnMAG8vC7OHDa0oGpPL57LRLTX3dDQnjv927+FTnoFRwOliIbepruqOtnZMbEI/iS6Ez6Q/B3Q65HVF+sRLU221rurFRfNm/Tpthv69+86ubl6eCM5OjtZWD7Vv39LXN3D19Gtu7RRLkC0gbyhCHps+2OPq7GpqYYcbJAvFQ4+HJBIh18/Dee5vP89ZuEzb4IFYIuHQiZXFeZpaOklp2TwRfGj1BUCnQ15XgKGHJOVF+Sf2b120aNGWXQcTUtJqauvq6xBqa2tramrAbzBmR6ExDCYL9G7o9DcXBpXcVlPq5uHr7BlMpjLkM7gMiTOTYk8f3j1j+vTjZy529JG7O9oKsjOMLOzziysl0jDy7SFPgE6HvKaA7ioR8rJTE1YvnLls+eoLqlqt7V2MpzCZLDZHBE+9xwqEgf789CS/oMiIhGwmiyNf+vvvLfVVzpb3Fs2duX7z9oD43MzM7IzUVPeA6NqmDnkIyLNAp0NeU4DT+SxKTIjvD998uXb9ViMLh0EiCRmYPYs8NOQNpxfTExUaFJOUWVTdxuUJ5Et//51JHawvy9y5cfWMWXOPXNKxd/JISk5NL6jC9BHkISDPAp0OeU0ZkkgGulvcbc2++uyT3QePuwZEU2h0+TrImAPd1eXn4Z6ZU9DR0z98fk2RgDfQ262jrrxq2eJf5604c1nN3SewrqWbQmPJQ0CeBTod8poiEYvrCjONtK598vEnZy5rJudVMtlc+TrIGAI52xqSdLa2ONnZFpeUkWhMsfiZh5fYLGawh73ivm3vjft01eZdxpYO2L5B/pMZYCAjgE6HvKaIRMKEUO/zx/Z/9PHn+ibWXX1kPpwefSyCOF3Ea26osjAzqaqpESJTPzxzSU0o4NeU5OjeuPbOu+/OXLji1l0TMoUKn3h5GdDpkNcI0LslEjGLxSQSBtGd7cY619csmf/JV5Pvmdt1YgYYLHhTdOyADM4lYjabNdDfV16U4+HscOr02bjEJBKFJhCKJEND8nDIGZuIgEO72lt++8WnqzZsu2fhQGf8/5RekBFAp0NeI4aGkAnTuzraSgrzE6IjlRT2zPh16uTfFugamhaWVqB7+4c/EQF5oxkakgj4HExPd05Who3F/QunT65Zt8XK1qGqpp5KZ42YelMk4KbERa5dPPfkucvOvmEsNmwGLwU6HfIaMSQW0ciEyGC/+4Z6166pHjtyZO+evXsPHDqvfPm+6cPknKKevkF5UMgbjlgkpJEGMlMTtG/dPH/utKLCoT179l28pGL/yKUNhWNy/v+lf9kF97amekfLB16+QZmFFTw4JcDLgU6HvEaAs3EOi1FenB8bFRGAEBgYGBSMEBIbn1TX3E6kwkdfxgjIFzCYtKb6mrCQEH9/Px8fH18fn8DA4LSMrH4ChScYee+ERiE31lQ0Nbf14PBi+OnRlwOdDoFAIGMH6HQIBAIZO0CnQyAQyNgBOh0CgUDGDtDpEAgEMnaATodAIJCxA3Q6BAKBjB2g0yEQCGTsAJ0OgUAgYwfodAgEAhk7QKdDIBDI2AE6HQKBQMYO0OkQCAQydoBOf+NBZiJ9/JhCodTV1ZWXl5eUlJRB3mRADRYUFIDa5HA4EskzX3GTAaobLCeRSLLApaWlsg0hbyKg+mSV2NTUxOVyQeXKq/nvAp3+xgMawdDQUGNjo5mZ2Z07d27fvg1+Q95Q9PT0tLW1VVRUzM3N+/r6+PwXTBQOalwgEFRXV4O6vnnzpo6OjnxjyBuIrq6ulpYWqEcHB4fBwcEXHsX/EtDpbzygh4vF4qqqKuCCgICA3NxcMFqvgLyZgIFbYWEh0DTo6p2dnWw2W17NwwA1DpYXFxdfu3bN09MT/APW+JsLqL709PS7d++CSsdisSLRP/3oLnT6G4/M6aBXa2pqgsaBx+NBhwen7ZA3ERaLRaFQjI2NwcCttbUV/Cmv5mGAGmcymfn5+VeuXElMTKTT6bDG31yoVCoGgzExMQFHaDQaDZ0O+X+nAwvk5eUxGAxw+gYWQt5EQN3x+XwLC4vbt2//sdMLCgqABTIzM4EFhoaGZJtD3jhAdROJxIcPH6qrq0OnQxBAswBOBydxWlpaMqeDHi5fB3nTAE7n8Xigh2tra/+x0wsLC9XU1IDThUIhrPE3F+B0AoEAavz69evQ6RAE6PSxBHT62wZ0OmQk0OljCej0tw3odMhIoNPHEtDpbxvQ6ZCRQKePJaDT3zag0yEjgU4fS0Cnv21Ap0NGAp0+loBOf9uAToeMBDp9LAGd/rYBnQ4ZCXT6WAI6/W0DOh0yEuj0sQR0+tsGdDpkJNDpYwno9LcN6HTISKDTxxLQ6W8b0OmQkUCnjyWg0982oNMhI4FOH0tAp79tQKdDRgKdPpaATn/bgE6HjAQ6fSwBnf62AZ0OGQl0+lgCOv1tAzodMhLo9LEEdPrbBnQ6ZCTQ6WMJ6PS3Deh0yEig08cS0OlvG9DpkJFAp48loNPfNqDTISOBTh9LQKe/bUCnQ0YCnT6WgE5/24BOh4wEOn0sAZ3+tgGdDhkJdPpYAjr9bQM6HTKS0XK6WCTicdiD+IGeHnR3d9dTUChUDwaD7e3F9PR0D1sB/g2WDxKIHA5XHgXkH/NqnA5ieDw0xGIyUN0dra0tzc3Nbe2AtrbW1qampsZnAUtaWls7OjtJZIpQJPkzaTFoVFRXW1lZcXZuXlZecR+eCLYDacpXQ4YBnQ4ZyWg5nc1kYLvbkxPi/f38QkJCoqKi4+IRIiLCAwL8ff38goKCIiOjYuMQoqOjgoICg4KD45PTOrt7QG+FHXZUeHVOl4jxfb1Z6YnhocGeHh6Ojo6PHB1dXFz9/PxBRQdLAVUc4O/v7u7m7Ozs5ORcWFJOoXNEYrE8lpfT39uTn5XyyM5SR09fQ8e4tLqRKxRDp78Q6HTISEbL6X093amRQQoH9i5cvFjh6HG165oGhoZGhoZnlI6vWLzw119+Wb1m3cUranr6+gYG+jc01ffv2blm7dpt+46GRCeIodNHiVfp9O6OFh/3Rzpa1/ft2fXzlJ8n//TLvMUrL12+qqMLKhlBR/u2hroaqOhFC+dO/mGyvpFZU1c/lyeQx/Jyerrb48P8L586umTJiskzV4XGpTN5Iuj0FwKdDhnJaDm9q70lyMvl4iWVC1fU/IOCE5OSs7Ozc7KzTe7eWb900ddffL5hyw4X39CE5NTs7KyU5EQP10d6t28eOKQYGBrBFYglkr+TKGQEr/LaC5VMrKksy0iOfWCg+9M3X30/+dcNu456+wVmZGZmScnISE9OSgzw89bX1VqzYrG+oXFhZROT/b8vtdGp5ObaSh97i6MHFb79eWFQdAoDOv0lQKdDRjJaTm9rafJ0c7Jz8YxJzRYIhfKlv/+eEBF6fPe277795tipC/VdeDqLJ1vOpBErinJuaapFR8eAhSKxRLYc8k949fdIhwTswtS4hT9Mmj9/5fkbxl09vfIVUhD5i4WtjdWG2mq29nYpOUU0xguy9Dx8DrujLMdYV+fH6ctCYtOg018GdDpkJKPl9PbWFn9vj7SsvNZuDBh1y5dKnX5M6vSjSudq2nA0pnyYJhYJe7o7PVwegWE7kUIX/uO2CAG8eqcLOfScxCip01ecv3H/eacDq5MGcTnJEZHhoQmpmTQ6Q77uDwFOby3KNLp9Gzr9j4FOh4wEdJXRufbS2REeElRdWz9Iog6PYbjTq1t7nzodMIjHx0aFFxcX9+EJHA4HZAMRgEQiFon4fIH4ycgdxCZdhgDCSCOXqmJoCPwpEoLDAbJ8RJ8HfwoFAjaLRaVSmSwWXyD4e+V6s3j1ThewadkJkSOcDpIANQJyQqfTQfwcFh3VWpeTlZGakU2ngwYmEQkFIA80KviPPvys7inA6S2FiNN/mrH8WaeD34/5fBAzTVqzbIFQBFoAaC3IkzHDmoBELGaBJAB0ukAAyvjs6rECdDpkJKChg+73z52OxWDSkpM72jsYDBboP/Klf+h0MomcnZFRVFjc3NqGwWDIZDKPx2cxGSQCoacHS6HQgNlB/+dyOBQyaaC/nzBIAEYADpeaX8RmMUlEYn9fH5FAAomCUsjj/f130LLZbBZ+oB/V1dnc3NTZ1YXrx7NY7H/e4l9z/jOnT37G6SBCkA0CkdDa2g5alFDAp5IGa6uri4pK6DQ6l8MmEwndnZ0tzS1NTS14PB4c0YGVh2fjhU6XHQw4bObAQF9He1tbWysK1TNAIA4SSTQGE1gdtDskmETC5/GoZHJ3Z1cLoLW1f2AQ2F+axFjTOnQ6ZCSj5XSgjz5cL9KBhaI/6XQGnVpTVuTl5nzzhuZllasWVg4pGYWhYRE21lbXVK7YOLik5xQwqIScjOQH9w2vXrlibGIRn5w9SCCJBFwWpT82Itjgjs7FixcfWjmm55QymP/vr86O1gAfNxsbO0cnt+TkJG8vd3t7+4Dw6MbWDnmIMcp/6vRVF7RMZE4H51V0KqmpsSEyOh6LxYFcCfh8CpnSh8P1orvz83L9fP3jYhNio2ODfb1tbKy9/QI7enCMYbdPX+h0BpXUXFvl6e4aHBySnZNXXlaSnBDr+MgatJyouHSBSAzanfT4MZCaFGdt+dDbJzA0LDwyLMjK2to/OLSnn8Di8OUJjBWg0yEjGS2ng34L7AB+jzjJ/QOn87jsXnRnVFightqVZUuX7d6naPjgkbObt6HB3S1rVp65eMXJ059C7M/NSrmre2v1siUHDhyxdPDu7ukFTmdT8HGRIddVLy+YPeu4krKrTxSJTAWlEQoE6I7W0EA/5YsXDO+b+gaElJaUhAX7PzA2vHD5qm9gGJ5AAWfr8hyMOf4rpy/68ftZMxYeOns9NSMHjIzr6+vSEmP9/XxtHT1b27tAiqBViMUSEmEwOSbMzNRU/ead6NjE/Lz81PhYvds3Va9de+QVUN/S8fQCygudXl9dHujtqatn6OMXVF1T197akpeV6uxgcU39tp2jD1cIGrIY34eNiwi6Z6B/TU0zMCQyIyMrPSXBUF9XW1fXxSekqR0lFEtkSYwNoNMhIwHte1ScjvTFYciX/qHTkVNpkRDfj01NjN6wZtnceYv2H70Un5IdExV5Yu+W40qnTG0cqTQalULMy0rbtX7V9i07dYxs2zrR4OQanIQT8H2RIf4r58zcv/+4uZ3fIIECcsGgUQJcbC+eVlqxYXdkQhqVyQYHGfIgLiEqeOGcGReUr2YWVlPpTHkOxhz/idNzEiKXTvlxyuQpi1dvu61zF6RufP/ekYN7jx07ftfcsb65XdYkgNjRXe0al5R27Nx18Oz16oYWsAg4yPOR1dEDe+at3OgfFi1Ero6MdHroE6f7e7lfvaxyz9KjsKJRGuFjFp3U1VxlavzQwdGbIxQL+ZyKwuw9W9btP3TUwNwRg+sHYThsVkyIt+rlCzMWrA6MTKJzkGvrssyPAaDTISMBjX5UnP4y/sDpIGmQFo/Lqqku271948o1ay+o6ZRW1vagUdlpSdnZubWNzQIEflNdzbmDexT2HZI5HenNQ0N8Hjc/I23/2hXHjpyVOZ3HZrQ1VJ09rrhnzz4dI+vKumZwPg7CCnicqtKC4/u3KJ08aeHoDbq6PAdjjv/G6YlRS37+8dcp09btPGxj9yg4OMjby/PqxTPnz527a/4IOF0e9PEQFt1leOvqYUXFI+c1axtbwTKJRJybEn1LTeXHX2Y5uHrT2Xyx9E2F4U4Pe/LOkbuTveKhAyfOX/MPjcYTCGwOB5zq0SiE+Ljk1LQcsGVnc7WHvcWMaTOuXNfJq2iiszggKpFQ0FpbZnrvzhdfT7jzwKqqpXssnahBp0NGArrKf+V0GUND4o6OloP7dmzduUvHxKaloxv0cz6fx+eDrid7muUxurNdXenICYWjuvft2jvR0u2Q5VXFRUrbNp46fsHC3h84HYzH81Jili9ZuGL1Bmtnv+Lyqt4nFOVlqZ5ROHbiuIaBeScKI41hDPJfXXtZ/OPkGdPn7T1xOTo2oby8vLAg39XB5oGJsamNS9PTexjIQ40DYQEexsbGuvceFhSWoLq7O9rbk6NDbqtdGT/+x4e2zkQ6R/Sc00Pj0mXj9PAg33Mnj67dsOWqmoaff0BiUnJBUVF1TV1RSWVzaycY4uckR9y8fPLrb79X07pb09qN6sGAqsf0oJtqyixMDD/99FOVG7qphZVc/v9+l/VNATodMpL/3OlikbCtpfHg/t0Hjpyw8QzvxvSBLIFxuPQ3AtA+urNV7YTic04fqiouOL51w1OnYzqbw32dFsydNWvOAhUNbVv7R36+vj5SbK0fnjl28OS587pm9t3PPkM9lvivnI7cI5238pzm/dYOFDix4nG5A32Y0pIiT2//zm6UPOjjxyB7HA67B9VdVJAX6ONtZ21l+uDBzWtX9m/fPv4b4HQXwouc/vR6emtDtbOt2byZv43/5uvvJk6aPWfupq07LlxWS84sGCQj7TbY01Zhx5rPvpl08OgpVw8vb29vUPXe3l6uzg5qqiq/TZt2Xfdecn45dPofAJ3+xgO6ymvh9AN7FI6feuQXg+odkK/4f/7I6SeGOR3d0RjsZTd/7sxlK1eb2jrHJSYXFxcBeQGyszOjI0Ljk5ILK2ppDHg9/V9w+vyV52/K3yMFEXI5LCwWU1RSRiCSZCHBOJ3FpFeXF/l4uuno6JqZW3p6+yYmJge4Od64dOH7CVMsbV0GaWzZG8Ujnc4VPh6SUIiDVWVFj2wtNdRUjx45vHfPrg0b1q1YuVL5qmZQeDybw/N1tji4fdXXk38DR/TsvIICWd0XFuTl5SQkxHt4eGYXFKNxeNGfmEfsTQE6HTKS18Tphw7uPXzitGNADPqFTu9ovXb88IlDI51eWVxwdMv6k0+cju1uiQxwXjBv1oYt2/0iEppa2ykUMkkKmUym0eksNocvEADxgY3HJP+Z05975wjIBaQ+SCCC/MhD8jhd7Y1WDwxOnTyx++ARSzvnnIKSATyhvijbzujuT5OmWto495PpdCZLIBDynne6REwiEdE9PbhebEV5aWREiIOttbrq5R1b1y9auvKy2u0eHNHPxVrp4NYJU2bdNbXpHSAQZHUPALVPo7FZLC6PJxQhQ35ZlsYA0OmQkbwpTlc9piB1uv1wp5cV5u1F7pGee2gfiFxPx2NzkqOWLVm4fst2n/AE4BdQNNDKAeAfABqdgScQgNah0/9tpwNAZsCefxp5f097dLD7ymWLDh077RGW2NyBZrKAvgXN5flW93QnT/z5ofUjFG6gtqEFN4DnAqcXZRppy6+nMxGnCzOzsgJCwnsGiBQ6i0qlEAYHUZ1tpfmZSkcVT5w8n1rQFB7gra165pvvftC7/3CAyuHykXeMEZCXWjkMGmkAjx8kkYfPXfGmA50OGQnoe0B2/57T48NDju7cMuGbr4+ePFfd9gKnS8TC9pbG/Xt3HjxyArn2gn2B03u62m6cO37i8FFN/YctHcj1WZBtJpUQHxG0YPqvu/ccNbf3wxPIPBa9raHq0unju3btvqJ1t7S6/unDyAI+D4/rqampLigpp9IZ0Omj5XQhB3H6vMmTZs9edlrNoBONla94jra6UicL/Sk/Tj5xTqWgoZvCRB5KkUjEBWlxt1SVv/5youlD25YudGJyVmNzO5fLbinJMrp96/upC0Nj01g8ERin+/v63NbRi00rRPUOyuIEAwIKcUBLQ0358rXE/MaSokJfF5vpv/16TkUtOa9M/tAqaACPh3BYdEJMeG5BSUsXViiC115eCnT6G8+oOx15g1ss4nG5QBxMJiPE1+vg1vVgnK5w7GReRTO2b5DFZnO5PJCoLCSXzaitLNu5beOufQoPnYMbWjqBlWRvLslj/P0xDtNtckv1rJLSxev6VXVNPNCQ+bzO5monK5NJ479ZtWH7HVP7ThQGLKVTSYFu9udPKS1esyUwIrafQAZpAQYH+gozE8PCQoOjEvFEEnT6P3E6iAEAToHAaJpKwCWGB86e/P206QsVL9yorm8Co28Oh4vU77OXOBor8m2Nbv029afzKmoVbT1EKoPP47GYzIhAr7PHD3/95YS7Rg+KKmq8fcKKSirpVHJVdpKO2rXvvp/hFRSFpzAFQqGDjaWiwqFbBpYZuaWgmHy+gMvlDg7iTe4b6d29X1DbPTBIrCjO3bd9496DCjrGli3tnSAnICSbSS/Mz9FUV/UNiqpuRsNnGf8A6PQ3HmnnHE2nC3hcGr6vrLAwMiI8NCToprrq6iULfvxh8vpNW/XvW3h4+cQnJucVV+EJJKGATxnsK8rLtDY3WblsyYpV604rX3dy8yopK6ezuMMGU4/pFFJGXKje7Rt7Dh0LCImorK5taqyPjgi7q621duncefMXbN6t4Owd2NDaIRDycT1dgT4eYOCvqqbxyNWzrLKytLQkKSHuoZl5SFhUUxuazeFBp/9Tp0vEBHxffnZqsL/nbU21GVOn/PLrjHVbdj+0tg2Pis7MzsMTiGLxM9GS+rGZCZH7d2/bf0hB19gyLTOnqqqiIDcrwMdT+6bG+lUrzp2/YGZt5+0XkpWVXVGab/PA4OCuHT/++IuKulZYTCIKg7W1Nlc8sHffwaMPbRxKyisaGhqLC/MjQwONTMzcfAIJVBaPL+jHYcKDvK6rXTly9Jizu3dGdl5lZVVifKyXl5fpw0ellXUMFvcftvDXCuh0yEj+DadTB3AlBfkR4eFA6va21jq3tNTV1e7o33VwcvX3D4xPSMotqhwYJAn5PDIeV5Sf5eHqpH37lra2rpmFjV9AUHFp2bNO/13A5/ai2mOjw42MTcIionLyCspKStJS0wL9fS3u66lfU72mccsrMBw4XfIYGfu3NtV7uDyysbZxdffMyMrOyMxITEwICgorLa+mMbljeK72V+n0wQFcXlZKWEigrY21poaG+nUN3Tt33T08I6JjMrJy8YMjnS7gcnq62n08XMzMTM0sbRMSk/LycrMy03Kys+Jjoh2sLSwtLZ3dPXPyi2tra6rKi7zcXAz19dSuqZlb2cYkJHf39MTHx9hZg0PzQ//AoOzcvOLiksyM9MiwkKjYhLKqOlCt4OQOnDpgUO0xkaFWFqbevv6x8UlZ2TmxsTFx8YmZuaVgIC/PzVgBOh0yklF3ulgk5DDoWEwP8unhtjYUCtXbi+vr6+vFYru7utpaW9vbO9DYPiaLA07ewUkxrhcDFmIwGCwGg0Z1t7e39eJwPIHw+S8fMRk0DLqruqqyrKy8srK6r6+fSqXg+zCtzY1VldUNTa1g7C+dmQ8JDErR14upq60G8iopLWtobqUxOaJnLTP2eIXXXpAHE9HdHYDOrm6kgvv6QA12dnS0t7d3odBMFvv5V/CR13/FooE+XFVFeVlpaXl5ZUNjM41GF4tEHCaju6uzqbmZwWQz6HQQprMT+RI5Dtfb0dnRjUKRyORBApFAJLHZnN5ebE11FWi0lVXVIAY6A7lBMjwxsVBApxDraqqLiooKiorrGpv7BgZBpuWrxxDQ6ZCRgIY+uk4HmyNa57BBVMAdbNAFOVwAh8MBigFLkIUcrgj4VRoSrABLwFoAm40EAMGB0J/vgSIQLRuZD51MpoDfXC5PKARnBcAGdPAnncEEp95gI9l2YHMQM41GlT7JRgZrwcB/LE308UJe5fV0UB3S6mKCVJAKllUxsgD4nA3qF4SRb/AEZDNkNggulUIBlUKhUKWTJyMZAFoH8YA2AzYUCYUgDPhTGjOHyUIiROaIQBCA5goSooHjOdge1DuIQSQCKQ1PbGhIIhTwZbVPJJFodAaXx38+P2MA6HTISEBDH12nQ/5DXo3TIa8P0OmQkUCnjyWg0982oNMhI4FOH0tAp79tQKdDRgKdPpaATn/bgE6HjAQ6fSwBnf62AZ0OGQl0+lgCOv1tAzodMhLo9LEEdPrbBnQ6ZCTQ6WMJ6PS3Deh0yEig08cS0OlvG9DpkJFAp48loNPfNqDTISOBTh9LQKe/bUCnQ0YyNpyOzO/B5xEG8V1dXSQKlccXylf8L5DZo9hMLBaLQiPTTone8K8lQKf/DcAOGZJIGHQaqquzr3+ARme+QTsEOh0ykrHhdLFIyCDhC3Iy3T08yqrqBkk0+Yr/BYfNwqI7IyMifP0DO7sxLPbIzzC9WUCn/w3ADpEIBW3NjT7urgnJGfXNXW/QoR06/U2CQiHX11ZnZaTHxERHIkTFxMSmpKSkpaWlpqYlJycnJCTExsaVVVZj+wbEyJeB5Bv+JcaG0xlUcllGwt1b1zdt3mpoapdbUi1fIYXP49HpdAKJyuLIv3f8FBwWHRfic/HsqcNHjoVEJnahkc9pvrlAp7+Mx6B/SMTIBJ4UyogZOiUiIRnXHeztsmb1KsWTyvZuASwO902ZwhE6/U0Cjx8oyMv28/Yw1Nc7efLklatqBveMPTw9/f39/fz8fby9XZydrCwtbe0fBYdF1ja2kKl00BD/alscG06nk4h58aEal88tXrLsht6DtNxS+QopZCKho729orapd4AgX/QELKozzOvRMYX923bs9gqMbJN/wPpNBTr9ZQxJxBIhv725qaGuDhzawRhIvgI5yRMQ0K1ejlazZ83aukfR1MaNweZAp8uATh9NWCwmGtWVnRZ/97bmhPHfrt+yU/++RW5+QV1dXW1tbXVVVW52Zoi/t8KBves3bLxy805hWdVb63QBj9uPbo+PDjc3M0/LzEf34uUrpHS2taSmpHiHxFbVt8oXPYFBo7TVV3q5u9naO9Y0tJBpDPmKNxPo9JcxJBaKOPSkmIjQ4CAilSEc9nWUIbDT2PSq0iILUxNvv5CC0hqBUAidLgM6fTQRiYQMBr2yKMdIT+uzTz9ROH4mMCIBjcFSpN8TIJFI/X24lsZ6vVsam9avnrNwqbtvMIHOFkn+2ofZxobTJWIxl8XAoFHgaIfrx7PYz1xjKS3M83R3c/AMLq1pki96glCAfJa6raWloaGJTKXxBX/25urrCXT6y2DTKdi22kd21rZ29mQqQzLs2gvYIRKRkEQYrK+tae/oxhPIYDfK1732QKe/YYC2VVWUe/e2xqeffqp2U7eioZ3D48vXSREI+H7ujgd2bvrgg/f17j9swRD5f/Gb6KPldGBVPo/HZrNZLDaHywUjHZFQOPzDNwIBMvZ50fAHeeoA+ZwNk0mnM8APMBGPLxAP61dIr5OI+XweOHcBEYIAABCezeYIBOAohsDjckHaALCtSPrR+qEhiYDPo1MpQX5et7VuPLB1yymuBFnicrlAZEgAiUQoFEjzzALLQZaR7ysNDYGjKSiL7JPzAGl4EXLDAuwrkQj0ItlCAOhCYHch2QPF5/OYYPcx6MgvJpPH48s2eZp/UFmybCOlkOYVJA12C8i8rJj/HGQ/vAKnS78mBZoNss+lNQ72FNgVoIwgddn+ZHNA1bz4AIl8r4rDBvuKLkUWUraj5EjrTvapI1ktg2hB/CBiKoUCFAYWisUSsIm0DpFsgCWy2EDKsk9oPYkJiYrP43a1NsQEuKqpqercMezvH5B9fEte44+HQNWABgAiAYtlmQExgBRl1SyrblDvQml1A8RiEdhEtvbpciQlsUj2hS+QE/Ab5Bw0xafX7mUbgqYuLZa8GQO4PBCDGORDFuwvAZ3+hgFMkRwdfOnUkY8/+Uz/vgW6nzxC2aBh+bja7du+Djj95l3T2o4BnuC/cTqLwcCiuupqayuqquub2/sH8GDg09RQX15WVlxSUllT14sbAG32Rc12iMdlt7U2lZYU5+bmgZ+Kiqrunl4mmyNfL90PXDYDi0ZVVpSVl5WWV5RXVlWVlZXV1tb39hNZSPdktbe1VFdVVVRWdaF7KXQmKBefx+nt6cpJjTt/6vjSZctUtPQDw2MaGxubW9vwgwTQhfhczuBAX21NdWVFBRin4wdJoP+CXkEm4tGo7qam5k6ErlYQnkDm8kG/fUyjUjA9qI7Ozra2tvb2dhKZLP1g3mMOE8lecWFBXl5uXn5+YXFJJwrNQY5MyM4EAbhsZl8vprIC7I+S8vLSquqqysqKmurq3j5wVjFqD9u8QqcPMRm0zvbm2mqw16vb2rvAuSOwWVdHO9if5eXldY1N4IRJHv5ZyERCU31tUWFBTk52bm52bX1jbz9++CEcRC7gczva20C9lJaW1tbVd3ajSCRibXVlYnyMj69PcWkZjckGugSHWNAw2ttaS4qLs7MA2RUV1SQKXfCkm4CDrZDHRXe2BXg4716/fNWatacuqhQVFdfVNzS3tA0QSOBwBGoc14sFbbWstLS+qRXUCDhgCAU8KpmEfFy1vb27GwV+o9A9BBJS3SKhgEGj9PZiwMK21hYUGj1IJIPdKBIJ2AxqY31tPmgEOTn5+fm1dQ0UBhMMMWSZEQn4DBq5rbkJaQVlpaDTVVRWlldUtneiCGTko32yYH8J6PQ3CmRUKPC0N9+/bcPEn2fau/rQ2Pzh93ZACDCaNLunu3rp/K/GTzKzdcEM0oZ/bv/PMFpOJxMHa8uKPFwe6enpqt3UdnJxT0pKzsrOycrOSkpKcHNxdPfwiE5M7cENCKUjLLAJ8ol/Aa+priomPCQkNDQuIRHYMCc7KzYm2tnFNSk1o6W9C+kpQj5hAJeWlBgfG5eZnSv9wHRFaUmRs5OjrZ1jVmFtH55EoxJz0pJtHlpcv67pERBV1dgBBk0sBqWloSrU1+3Arq3Tpv127NwVW0fX9PT0rJy89s4uUEwOk97WWBvi522of8fA8H56bilugCjg8zGojpyMFBdHByOjew9MzX38gmsb2xhsZNyN7mpPSYg2N33w0Mo6MCyirQtNplAJA71xMVGurq5hEdFpGRmZmekBft5ePj5hMfF9gwSgAA6DWlKYnxAfl52dU1JaCg49pSWFft4epsbG2bkluAGybB/+c16h0yXEwf6ivAxHO2s9Xd37phaBIaG5QGZ5+eCwnJGWYm9v5+HlU1mP3LqXb/X772wWs7aqLCI87JGjc2xcAmgb2Vnpnl6eXj5+ReXVeAJJOqoWdbY1x8dGevsFhIRHZmdnRYaHenl6ODi5hIaGBQX43b6h5h8Y2InpY7EY7S2NEaHB8fEJaemZIPHYqHA/Hy9Xd6/84goSjQVamgT54jm1przY6oHhsjm/zp47f9/h4+GRUUnJKVnZua1daHD4BzXeUFMV7Ot167raPVObiPhMcI7F47DAgCA9Od7pkb3+nTv3H5gHh8d0dGOYLA4YguBxPTERwaYmRsYmpuExcS0dKDCCqa0u9/X2CAgMjo6NB5mJi4n09/N19fItrqhhcvjg+IPq7EiMjU1OTs3Jza+urq6oLE9NTbaxtgqNiK9u6AZnI/Ld9FeATn+TAMbjc5mGN6+sWjx/4fr9wTEp4mEfUAb9ELS7gX6syjmlWdOnLVixKSQqnif8y2dwo+V0Ir6/NDf9lrrykoVz3//0y60795uYWSanZRQUFaamJOrdVD2iqLBH8VRcWjaRKk9CyOeS+3vcHayVDh++b2YZnZDS3NpaX1cTGuR36viR6zduefmHUmgMJo1UV1GsfvXafWPznMKy9o4uNKqrsb76pobaiRNn3QOSWjuwYGQdHx6sdPjgxAmTTqhoR6QUgB1EpxKb6ipCA7wV9++cM3O6gtIFMyu7+Pi4xJS0xpZWkAc2g1ZXXuRgZrR62ZLZcxZYuQTUt6L4PB6qvTk8yPvKxVMzpv06b8FitZv6WfnlNBYPOL2pttzZ5sGa5Ut27N5rZGFb3dDa3d2dn55w8fx5hSMn/EOiS8oqKspL3BweXr504dCxU4UV1RQyqa+ryeah+T1Do9z84ta29p4eVENd5QNDvV1bNnn4hDW3Y2X78J/zKp2O78dmpcRePqu0YM6sGXMXHDt11sreMT4ptaCgMCsj5dRRhYMHFR44eDW2dcnOz8CxDdXVbml6T/nSpfNXNGPiU+oANRU6tzSOHTt2x9iyrKoO+To5nRwa4HXimIKqlp6Tpz8YgLs6WCmfPTln0XJjM8vw8DB15VPgcF7V1A4OpZHB/vv37DK3sktOzwGj5rTEaLP7d9at33jXxKqiqYvJ4YmFfBaNVFacZ2VmtGnl/LnzFuzYq+DrHxARGZWQnFLf2kGi0sAeqywufKCvPf+XHxav3n7DwJoJTp3YDFRHc2iAp9LRQ99PnDBz/rLr2vcaW7tpDBY45cKh2wx1b6xavnj1hq3GD+0qakF7LHeyt968ebOhiUVcUlpba2tyXKSxod7q9RtNrB61owfYbEZGarKqiqqnb3BhWRUOh+vqak9KjLt4WsnwvlV8WjmV/oLK+p9Ap79J8DmMwZ6Ws0cPzZs7/4y6fnZRJdKVpMYGXZfDZlWXF9mZG23dtGnrjr22rr4NrR3Sr+3/N04XCvgUIiEpOuiq8ulPvpygoqGTkV/WNzBIBUNoAh6o0Pz+3bmzZ15SvxmZmA7OmsEmAzhMqOejK8oXFY+fy8kvxhNJLDabyWR0tzclRwWcP3PyzDnl8rq2lqaGlNiw/QePmlvak6jI5Vcul8Ng0EP8PM2NTbwDk1rbMUKhgIAfcLR6uGH58osahojTpR+2ZzHpA/04vVvXN65bdeueZXJWIegARBKSkLTgIgaFiG6pu3ji+PJFy2zcgoDTkYv7HBYW3Z6dHL153coVK1ab2nvWNrWLpKcXpH5MYUaimoqKvb1DBwpNo5Jy05POKu47fvKCodmjbjSWRqfTadTenna7hyZbN65z9ArKyM7LTw67rqaqd8ewfwDPRm43cFlMRnpCtJn+7YjIxObWUXuA8lVeTxfweWQSIdDd6eTBvd9N/P7M5WsJWQVoLI5Kpfb1YmyM9U4fPbLrsHJ2QSmIHTTKno7mMF+3zRs2ql6/lVVUje3Dg2wwaNSECH/t6yqrN2wLjYihUkhl2UnXryovXLrSLzy2A42jUih15QXm9/W//fY7Lb17ueAgWV7Wg0aRKBR0Wz1Y/uMPP16/bZCcVcRkskjEwfSUxJ2b1x1VOmvt6t+HJ4BDOzhOgBrJSI5VPrZr05at569qtHV04AcHiUQSk80B54Fgp4FsZCXHqZ0+vHvf8Zt3rYDTkct9HBZoPI42FmuWzp+7eLXOPQsaiwvOg5F7J1y2n5eXpuZNV5/Q0ppGNBpla2Z46sTxnfuPJSSngxbGZrOJhIHUpNjNa5YqnT7v4hve3dEY5O+978DR5MxcMKwBpwIcDqeroz3Q083PLzw5s4IGnT7moQziKnMTdm/ZMG3G7GvaxtEJqci1vfb2lpbm2prqjPRUp0d2KsoXVK9dt3FwrW/tpNKZ8i3/CqPldACIp6oky/CO1lcTf7lv6YjqI8kua4LTaSGPHRnku2H5gjUbtoIRGZsnEAn5DVWll04oHDp0RE3HpLun92mqXDYdj2lTv3Rm2+bNDl7hmVk5CVHBa9ZuOHdRJSUjq76xGYvrI5HJ5UX5aUlJ2flVuD6CVBpD4f4+BzZvUrl5HzhdFtXjIQk4lwc9f/vWjfesXUtqmmXLnyIR8gUMktblS2uXrrR1D65vQ8mWiwTcAUzntQtKIA+Xb94rrqyTSA+oOFR7TkqcpaVtWka2SCwk4bq9HK1//WHiyQtq3qFJRBIZaBT4ms2i+brZ71i//Jr2PVfvgLzksJMnjhw+cjwmPqmmrgGLw4H8N9VVZyXFlZfX9OJefN35b/CKnD6MjJhw9bMnJ0784dYdo7aefi5fABaymYxgF5tLSicWr9yblJYrc3p+eqK2mvL0mfNu6Bj29BEpYFzKYoH2Vl2Ybm6gNfnHn+2c3TvR6DCvR4f37/l19uKM/BKeEFSfBOxkD0ebTz/+9PI1rZyiaiaDCU5hwRiiv6fDw9l+y+YtlvYuxRV14ABBp9HycrIO7Ni4Y+fe67rGKMz/v0FWVZqveV5h5+49qlp3yFTa8wOf+soSEy0VhSNntKROly/9/ffslLirZxXnLVhyVUMbR6ByeQKJWMTjMGNjYh2d3euau0Cld7c1nDqyf/26jUrKNwpKKpA2gMAsK8pT3Ll2x45dV2/era8pc3e2X7psuelDm4zcgo4uFDjAY7GYqtKS4pKqmvouDrz2MuZBtzeFuDxcvWzh1N+mX1a7ZWlt5+PtBXBxdrIwMwGn9qdOn1FWvZGVV0xlsP/eTXPA6Dq9sjjT8K7O+KkLHb1DmXzkmQL5ut9/L8nP0rh4fPqMWYdPXCDQOSw6OSspYsbPP+w9eNw1OAFPpMjDIYCtHpvpa21du+LAafWA0Kic9MRli+b99ttv2/YcAF0iJiGprKKyvaO9v7+fTKHzeMAjYBNJuL/3SKdLxBIBcsth25YNBg+diqtHPssoFvA4FPzNS8rrlq60G+Z0AIfF9LJ/cOzgnmkLN4THpfKRhykelxXkeDjZewdGV9a38Xmc2sI0HXXld99997LmnfjMko6uLhQAjcJgMX4ej47t27T/+FkTK4emqiKF/bt+njJlw/a9d++bRscnFJeWtYPRIn6QRgNDNsSDo8Krd3p6ZKjmudPTfpv3yMlTKHksa4dg10V6OqqePr1oyc6klJwh5Gj42M/dceemNdPnLdMxNEWhe6T7CaG+PM/OwnD8+G/uPbQrqWt2tjLes3PHzAWr8orKhGLE6Qwizt/D8bNPPzt17mpcSh6Thdw8B8t5bEZtZbmPp2dBcUl7Z1cPqqu1pSk6IlRxz9bt23ZdVtPpRmGkeUSoLMlXP3twx67dqjdf4vSKEuMblxGnGzzj9K7mGl9H03mzp+89oJhTUkcg0/hcFqG3KzEhMTwyjs5gchnE6qK0FYsXLFiy6qahdXZ+MXArKFdPT09+drraucPbtm45cPxcTU2lGzj8/zh+9ryFiifPefoFpKRn1tTVozGYQSIZRCMW/53Hn6DT3yRqK0ru3VSZP3fustUb/EIiM7JyiosQCvLzc3KyMzIzc/MLKqvrBokkcD4IOqp8s7/Iv+B07fFTFzh4BtO5ouFOrysvMtNRnTtrxt5Dx9v6aDh0e1yg88/fT9x7+KRvVBqBTJWHQwBbPbY30d+xdsXSjXu8A8N6e7q9XOyVzyqtWL50xYqVa9ev37Z9x6Uraq6eAeg+Ihj1SzcZZaeDkWBtSdY9Hc2vvplkZG7f2IEFpx3ZWVmPnJwLK+r6iVRwbp6bGAIGccDpZ69oBkQmFhYVFRcjtVRSUhweEvDQ7L6di2dadgGVTAgN8L566fyK5cuXr1ixdt36rdu2nbtw2dLWuam1m/PGO/3MnFlLnVx8hKJhTvd4hDh96a4nTpd4OFptXLVw5rwl6lo6hWAvSVtzYWFRTmZqgK+nuoZGXGpWN26gKCNO9eKZ2XPm+4fHY/FksVjU3lD50OTuZ19+c1PPqLqpU3YqAEoBxss4THduWoK9na2pmYWrm2diUnJQgK/irq07tu1WUdMdFaczqcSqosx92zds27bd1N6rpQNFHMDlJUfFxsRk5haz2BwqHp2bELB4/uy5i5ap6RhHxsaXlZaAooGWkJaS+MjazNzc3MXLH9eHk96qNTi0fw9oBqAZb9i46aDC4Wsat+JTMkk0NjiAyZP8K0CnvxmA9grIz0o/dWjHnLkL9imerG1oxvTi+vvk9A8MgFNX7rPPqv89QEL/ktNpHHDm/P99p7Gq1Pqu5vxZ03cfUGzqpfZ0Nkb52E6eOGGv4qmAmIznnf7ogcGONctmL9/g6htEIZObG2qC/b01rqkcPLBv/bq1y5YsXrps5cmzlxIyirD9smsvf8rpwHpsFpPBYDJYXJFI/AdOl0jEdFIfGF1O/Pbrc5euh8WlEwmDaekZbt7+qN4BnlDMZbMyY/0vnzwInK6iqROdklNdXV1bUyP9XV1aWpyXl1teXdeF6qFRyU311REhATeuX1NUOLRh/fplSxcvWbJ8557D4bFp0vyPDv+J02+cPztvzgpnF9/nnb542e7k1FzpVSuJ2yOLDSvmz128/NYdw2qwk5D9hFBVWQkOgRlZ2Z1oDJXBxHU2WN6/s37VCjMbp4z8ku7uzsSYsHv6uhu27fYKCh8g0URS94HGxqCRy4vznG0tbty4eUtX38s3ICcvPz4m6tShPXt27rusptvZjQY7RPqE+FBlSZ76mQNPnY687sDjkIgEJpOBtLaXO31IIhrEoe9oXt63e+f+E5cyc4uaG+vc7Sxi4+LrW7t4fAGlvysrxmfhvFkLlq3Svm+VlJZRX1cLygUaQmVleUFeDtB7bUMTjUrB92ErSvIdbC0vXzy/feuWNWtWLVsK2sFyfSPzospmBvvvTDIDnf5mgBh9SJIcF7VuyaxFy1ap3tCj0RmgdYLzTRmgjQJAKPkG/4BX5vSassL7N6/OmTF936FjqEEGvrcrLth18qTvdiso+USkDZJGOt3aSHfLqiXLNu11cPdFY7Dd2D48gUinklubG7PSU3zcnPZu27h00eILqjrZBWXSTf6U0wV8PqqzrbGxpbETR2dx/8DpSCUMSTJSEtYvnbNrr4K2gWl9VUlaelpUfDKJQgVreRxWUVrE9YvHgdPvWTg0duORV6WeAHoXglgMxNFcX9XS1o7uxTHolM721pysDF9P12MKB36bOlXjtlFmHsj/6ADaxuvq9CEPJ+st65YuXr3J1slDvo+eAPaT7F6lSChgUQaiAjwvnTyqoXnjgZmFp6e70T2DB2bmoXFpXT29T5s9l8NurC7W19b44fuJytduRiVnsrlcEElzfa3GBaVD+xWUVbXbO7vB3mCx2SCJEU4X8tnEgZ6C7Iy21mZQeBDjy5wOkmPRqcnh3pfPKX0/dY6bl29qeprWzZvJ6VkkOhscYBgkXFF65OIFc1dv3G7nGd6OwsgKJUXWCJD31GhkfB8O243uoVCp+IH+upqqxLhIk3u6qxfP3rn7kJ6JI7ZvECnYXwQ6/c0AuFvAYQT7uE2d+PWajduMLOzBKZ583WgDmixoeqPodIM7t7/5cbadeyCVg7wbJ1/3++9ZqYknD2xfsGjpRdUbFBaPw6QWZSVuXD5/556DhpZuGNyAPBwQk4gvYJG1VS+uWbrkyk0j/+CIgvxc//C4suoGMLwCg2zQJTraWhwtjZVPnzh87HxSaqa0VyL3SA9u2Xz1lklkaqEsKpnTHxhob964Tt/CqbCqicvl1FWV5hcUFVS3k6gs2T3SW5cvrV+6ysEztKF95CMo9ZWlemrndmzbvmP3fltLs4jIqJLKOlmfFwn5mLYaK2PdLz4Zp6Kpm5xfNXzednCwIBPxdQ3N2dk58ZFB/oHBaVn5AgGfzWYR8ANdHW2+7k6Xz5y4cdsgJjFDvs0/5tU7PSMqTOvC+flzV7q6+Umkr3aChcDp0Z6OamfOLlm+N0Xu9MeJkUEXThyaPmuB4QNLNh/I8P8TZbEYHW3NGFx/P57Q01we4uOqo60TF59QUVnV2NhQXl5WU1OL7u0f/hoalUwM9nI4rnjgx9/muHj59/T2I2/tgtPB+pqLJw7u3XsQjNMbG5uwGGxdQyuDwaoozrt2ev+2HTuv3NClUGl8Dg3b1Rjq71VaXChzekNlyQOtK4ePnr0lfZZRnowUoYCHbqt9aGIw+fsflE6fM3zw0NzOuaKmgS9E3hEVcJnNNSV7t25Yu3bD9Ttm9c3t8s1AtEOSIREPi0FXVpS31lfk5mSFRMbh+geEAgGdhjwdVJyfbW2id+785Uvqd7vQvZL/7y5/Fuj0NwOxSEjpRz2yNPn0w/d3Hzru5h/O4f6de+J/hlF2ekmmgZ7WV99NMTSz78AO8sDI7fFjMPgiDQ54uzmtWjJ/xz7Fhw4eAmREJ+5ortO5evbQgUNKyhqlQJRsDggMjmcUQn99afa5E4rbtuzwD09JS8uIDA1Qvqbl4R/KYCFvD4JgErEoIz7M+M6t46cuJadmSt9K5/q7uexau+acql5AdIb0nfshkAroVJYmd7dtXn9N1zQ9v5zJpOdnpyWnpuVVtxHIdD6HRRvEqp8/u2LBUgsHn8r6NtArhu+Bvp7upFDPA7u2zZwx64TSyYDg8B7coGxamCGJmMsgxYb6r10yX+H4aYtHnrj+QT5fIH1+ToTHYSpLC2OTMgKCQnycrMCo09zagUimym5+gGKW5mdam9y5e880NjFdltY/5xU5HVH0Y5CWgM9LCPK7dlJp1ozF9g5uHA5yOQuMuRHhOlkrHzs2d8HWqJgULg+5XV5XXmT7wHDRwsVX1G+W17eQKHTZ46FgxN3d0RYTGVZWVduNwXXW5Pu5OdzQ0k5NS6urqwc/DQ2NLS0tHZ2d/QN4BpMF0gVZIOD7be7f3r55w8+zlyekZiIt6jHyYnBJQc7hPZu3bN1xXuVmUX5+VUVVSkYBgUiuLS/SUT25Zeu2syoaeCKJSuxrrCxwtrfJzsqUIHMDCCoKc+6qnd+7/5jaLRM8gQQKIi2ltLjIg1vMsEDvBdN/mbdgydHTl8OSstG98lEIaAb9WLTe9St7d+zYo3AyJSOHzmTJqpjDYvR2t+ZkZ4aHh1cWZPh6uatcv1VYWiFr6gDkZbrYYB2du1dvGHb14KDTxyxgiNdSmXf3puoH779/8dqtpJzSf29uKdCwRtHp1aU5Brqan37xtYLS2YDIBCKNIZaI6eTB+DC/y+dOT5sx976lY3l9G+iWIF06hVSWn37tivLSlattXHxqm5GXPwWgW+ZlqSmf3H9QQf3WXTR2oKWhxs/90YJFSy5e1Sivb6UxWcCZQj4XjHNvaFy/88C+pKIGDPsx6E6Le/qLpv22dfexhw7e/XgSl4foFWjdx8VWcd+O7QdP+QZHk0mE2KjQpKSk9p4BMoU62IepKclV3L/316nTrt28m5iWS6HSwSm8vEigz3CYRFznlTNHZ/wyZcv+k6GxKQJkiIl0PlAE0J87Wxt9XGx27d6xa/+hhNRs5DV3kYhJp+RlpzvY2iSm56WmpYe5W+/ZuV3x2Mny2mYyDXkUT8Bjx0eHaqoq2zl5FJXXytL657xKpwMX9+OwrjbmB7ZtHj/hp9u699o6UFQag0ohd7U1PtTX2rl+/YQfZoECorA4Dk/AoNFqyouvXjx16LCCssbtgtJKOpMNkka1NyXGRBgY3M/JL2KwWGxKn7ez9eZ1K3bv2rn/wKFDhxQVFY+eOXseeQfNLwiMjmW3kcjEQU87sz3bNoMBhFdA2CCZDsrV290e5uO6acXCZUuWHVRUCvb1Tk1KSUzLHySSu1sbfGyNtmzcuPfQsXYMtqWhKjU21N7RLaegRCwWEQYH4iOCzyrsXLJkzeETKlV1zRRQTU+dLq3pnPQkpf1bf502c5/iqbaefiZXfmcbrATnjkXZKdo31GbNmW1k+hCcyUkPeJzOtmZXB2snZ/fwmKT22hIr03u/zZxjYedS29SBxCkRozvbHG1MjYzNwTniAIEsS+4vAZ3+WgPaNxgvgHPzARw2wttR6eDO99//QFP3fl5Fo2x8Kg83qoCmNYpOR55P17/1zfdTjp465+zhnZqRlZ2dFRcdbqh7S1ND866xRX5JFYmGTMYCwgsFfDKhPyYyRE/n1l0jY1cP77TU1LiYKOdH9ldULj+0dUjNKmBzeejO1sgQP8Vjx69ev+kfHJaWmZ2bl5uZnmJrY21law+G3j09PQPYrujw4BvXrm5es2bXnkO39U3SckoGBklIz3n8uDw/y9rE8MCho7r6hhGREW7ubumZWWQ6q6+3pyQ/y9Hm4ZHDh9auXXfqrLKji1d5dT1zmAqHJCIRn+1kbXb2pNKte9b5pTUg68O7HoNO7Wipt7UyU1e7ev+BORiVgwFmTEyUn5+fl7dfbWNbbU1VbKDrJeXzZ85f9PEPTk3PLCjIz0hNdnF2NLpvnJFT+MbdIwUxgMNSHxadEhthoKN1cO+e5ctXX76iHhAc1tDcWlNdGRcRqKWmAsaty1auu6l9JzohuXeQwuLwgYjTEmPMTO5dvKRsY/8oPDI6IyMzJDjQx9s7JDymtb0LNP7+nnagOeD0bdu27d677+BBhQMHDuzbt2/3nj1Hjh0HscWmZKGw/SBkeVHOAyP9DRs23r1nEhoZU1BYmBgX5+vhZmF09+LZ04cVFIzuGUVExNQ1d4KDB5U02FCWr3tT48zpM+4+fp4ADw8QVVsXmsthFeZl2Vo8OH5o3+ZN2xSPn3P2Cq5v7hRI522Tl/n335tqK+yMdcEBRkv3Hmg8YKV8hXRWMjDiTomP1r6prq2jY2PvkJaenpSUGBYaYm/vEBuf0tjc1ttR7+PuuGvvgXvG5qHh0QWFRXk52dERYSbG9/2Dwivq2licvzPtD3T6aw3oXSQioauzoygv11BLbfOqJV9//fUtfeOMwgo0tm/4xcRRBPTPUXR6ZUnmPQPdSdMWqWreCgwKdHXzcLC3Mzc10dS84erp2wm64nMvVgCtV5XmWz80NzS4a2r64J6BvrGxic0jl5rGZq5AOPT4cX9vD+hyzu4etg6Ozk5Ozq5ujk5O9rZWzm6eSRk5DI6Ay6aj2uoe2Vrpat/W1NBQU7tmaGzqG5aAwvbJ/EsjDpbl5+ho3QBrgUZdPX1KK6tBbntRbSlxkXrat7S0bt64cUNdTd3a9lFKZh6VOvLTd4W5WcGBgclZJahnZ2aXAfZhW1NtZLDf7Vu3DAwNzR4+NH5g4uHtm11QSqHSBnCY3NRYNzdn84eW9rZ2Li6urm5udjZWjs4uwZFxuAGC6G+ccr+EV+d0sQgMxr2crEF9gcoFaGvrWFjZFpaWI1O4ONvo6+lcv64B9vhtHV1nD582DB7UFHKjiMcpLci2emCop6erf9fQ0tLqoZVNYEgE0DSTxaGSibnpSRYPjM6cUlLX0NC9o3/v3r07d/Suq6kpHT+6ZtWK5StWnbt2OzEzny8UsdjM4oLsB0Z3dPX0jIxNXN3dPDx9oqJiWxvrg3w8bqir6hvcj0tMozI5QpEYHITAyDktLtrC2PC2ts5doweuXoEt3Vgmm8ti0GIjQ8yM72le19C4fl3rto7BA9uC0hpkpo1hTifgMEXp8a4ubuERsWDsJV86DCpxsK68wNrC9PZtLXOLh2bmFnb2j8KiEsHpi0ggoAygwambrT1ow85ubm6u7u6Ojxzs7e1sHzmXVdUKkAni/k4zgE5/rWEw6CWFuT5eHvr6+pcvnFM8dGjXrt0qV1XNrW3D41O7/53Pqo260w0NdCf8ssjKybMHN9CDRnd0dLS0toHf/QN4Ll8ApCMP/QSRUMBk0HG9WBCmuampGbly2tWL62OxOcgw6fFjICkaldrX34/r68PhcJ1dne3t7V1dXVgcjkylSd9KEfM4rD5cLxqF6gYrujp7MFg8UTpjotTpIqGQSaehurtbW1qA6UDkDOkVTz6PSyETka2kgC1xuD5g4ec7Bp1GIwwOUmgMEKd80TBAVGCsRyQMolCo1ra25tbWzi6U9GvFDBAVn8ejkoj9/X3Y3l5QAJAYKGlnZxcGiyUQyQLpcUse0T/mlTkdWJ3LYeP7cD09aNneA2Xv7cXRGUxQWQP9ODQaBfYn2KkoFFpW9cgVK2SAj3zNuReD7uroaGtFKgQEGCQQwY7l8zjNDbXXLl+6a3A/Oim7rrEZSAqchIHfICoQFgz/9W+pLVyywtzmEZHB4QkEICpkmkxkfsQ2sE+x2F4SicRhswfxA91dnegeDIlMRS6VISmDtIeoZFIPqgs0M9DG+gYG2Vy+GLQesQiMpbCYHmnj6QIl6cGCgrCk+f3/qkGm2qeQ+nD9BALp+WYMAM2MxURaMshOc3Nze3tHTw+GQEQm+wSlFvK5NCoFtOH+/n4MBpnTETSDblQ32GlM5HLiM2n9eaDTX2u4HE5bS2NWZkZoaGhgYGCAf0BAQGBISEhCYlJRRQ2eQJKHG1VASxo9p4sqi9KR515+mufkE8oWIJeSgGKkt8j+9/sUoDmCPcCTzkY9vH2D5v60xYO8IRFykUmu/0ycI0AMy/9TmfnbgCKD7ImQ03b5bnyM5B8pgOxPWQCQ/2dmlx0lXo3T/zkgD0ClQoFAdltVtlAo4FaXFx/YtUtL2yC/so3KeObhE0BTdZG92d3p02cbGFsM0liyOWxBVGKRSMDnS+dJ/t/XJ8EuAkcP0BKeXi7/84C0kKc1/5d/QX5ASwYVLZvkHSxBNpAiCwBS54CmzuP9850PnQ4ZCWhno+J0MBLhcTlF2fE6N9W/mDTDxsWPzJLO9P/KffE286Y4/YUAp9dWlh45sF9DUyc+s7R/kATyBiSFIASjZH55Qbqlkd6yFessbZ2pTA4YgMu3fIuBToeMZLScTibiq0vzrEzv7t+zY8L3U86pqIfGJnWgMIxnH/WF/Ku80U4Hw4L+Xqyfh9MdHZ3rmjoh4VElZeWgFK2tLTVVlVlpyeYm99WuqZs8dCwoqZYOF/7iMHssAp0OGcloOZ2A7yvNT3d2sL6hoXHm7Lm794wDw6Ka25H5puUhIP8+b7TTARw2C7nbHBpkbmYeEBicmppejFCUnZkRHRHm6Ojk5OpZXNmIJ468if3WAp0OGcloOZ3JoGO6O1qaAS3dXZ1NyN3O1kEiecQHVCH/Km+600HeAAIel0JCvvgsm7SuqKgQ/A+M2bG4fp7s3c2/eiF87AKdDhkJ6B6j4nSRUMgGXpfCYjFpADqdx0eeK5CHgPz7vOlOlzEkvY1JpVCIQFcIg+B/RBKJw+Ei7wZDoQ8DOh0yktFyOuR1YGw4HfLngU6HjAQ6fSwBnf62AZ0OGQl0+lgCOv1tAzodMpJ/z+mPpZ/3BYphc7hiyei9//5XkL63KOJw2MBuwHfypWOX/9bpyN4WiwQC5PWf/2pvIx+/FQDR8fkCwdtwrIJOh4zk33O6SCRgkPGdHe219c0MFvs/6V7AMFwmpam+rrKiksv9O3MkvVn8t04Xi0UsOhmH7Wlt7WD9R+8lCHjcQRwG2A3d2/fCiRzGGNDpkJH8S04XCwUDfT1JMcGJCXHF5bU0BlOCDOF4ZBKprw+HHUZvby/yNb7+AfC7t1e+UAaur2+QiDztIBQIiAR8DxrV3t7RJZ1bRDo7i3R2DvCvTgSwdAA/yGRzhn+rF/m+PJdRnJcdHhSUX1ja2zdqX+h/PfkPnQ6G6DQqMS8rOTUlubCkikKlCwQCGpVCJCJPr5DJFDIZVD4J/HtwBAQCkUiiUKhcHh+ZvUcsYjIZeClgFdiEyWQJBEKQbXlKTwbjID4QG4ifJE0DP4jUPjgj6+/pzM1Kj4yK6URhmX/rY/xvENDpkJH8S06nU4hlhdm3NFScnB2r61uZLI6Qz6ET+8uKC5OTEpNTUjIyMrKzs3Oys8E/UlNSkpNTUlNT09MzsrOywPKsrEywCAmWW4DG9DKZ9Ma6qqz01PDw8KDgkMCgoKDg4OiY6ISEhKSkpIT4+LjYWPCTk5vf0IQ8FM/j84EBpD9DjyXCktwMVztbEzPbzNwivmAsXz7+j5wObPuYzaS3NNZYPDB0cHDMKawmUWgMOr29tbmyorywAKRWhPyHfH27pHQ4JSVgZX5BQWFRMQqDY3H5Ah4b24MCKwoLC3LzcnNycmvrG3H9g9KnGOXpSURCFoPa2FBXXFSUlw/+yysoKCgqKcXg+ukMBrEPFRHke++ufnxKdmdPn2wGL/mWYw7odMhI/iWnl+RnuTnamts8ysgtZDCRD0JS8bjqnJSryucPKhzWv2/m5eufmJiYnprqZGN55YzSxvXrjimdMbdziYyOS0lOjIwINTbUO3361MZdR3xDYogUWlNDXVZqooezw4F9e1euXrd13xHbR86paWngkJCWmhoTFeFoZ6l14/q5cxfsHD2KK2olcqcDhqikwZL8HJ2bms4uHtWNHf/SrMWvA/+h08sKsp2sza3tH4HjMIXKEApF+IH+nMxUTw+XW1o3du/csXvP/tNnlS1t7Dw8Pb2leHp4uLo46eneOn3qxKZNm22dvRs7+1gMSlN9TUhQoI256aVzZ1etWn1U6byThz+LJ3h6T0Yi4lOIA8kJsSZGBieOHT546PAllWuPXDwq65roLC6Py+5orosND9LW0fcPiaSyeX/vk/xvBNDpkJGMutOFfB6N2O/r4ayvpxObktONlX/iC9fdnhzideyIwuFjJ3yCwrJy8mpraxsbGnyd7U/v2/HdN1+v37rnkU9UXlFZfV1tWWlxkJ/Hjeuqs+Yus7R37x2kYrFYMAxMiQ/fvHrxD5N/mLtmj7tvULN07tyW5ubqqoqUxFgTQ71D+3YdUDhqZv0I1TvwdK72oSExDtPtbm9h9dDSOzAaN0D4/yHf2OI/cbpQwKeS8L4eLteuqIRGJ7Z3Y2XLqVRyfW1VSmKMge6tnyeMn/LLzG37jnv5BYIzsnQp4MwsMTHBw81JU/3KogVzte7czyiqpdEo2J7unKxMP2eHCyeOTJww/uep04+fuVRY2Uik0GUxDyEX7qmV5aXuTvaXzx5XOHxU/YZ2XEJyRzeGy0c+PQhG8fVVZdqaGhYPrctqW6h0pmzDsQd0OmQko+50OnmwsSQDdGN1jRvYPvzTr8F0tjQEedjr6uu7evsP/2ZTWVaq4bULP30/8fBJ5fz6PhJdfidTJGCVFmQp7N7p4OTe1UfhCUSPH4sIePSFw5sWz5u5+ahadlGlLORTqkryjHXVp/3y8+Yde8ITs3v7CcgAUrqKw6R11BQ62tpc09BpbO0UjNGB23/idCaNXF+We1f/zrHTl2qbO4BU5SukaUn47Mz4qBkTxs+eu+LCjftobL98nRSk+Qn51eVF6iqn9Y1MgmPTKTQGWC7gcdH1lW5WpquXLR7/7TezFyzVMXWqqGtBLqMMOx73oTuy40K8vf2S03NB2eVLpRAHB7ztzUyN7tm7BXZjcNLtxuCBHDodMhLQ0EfX6e0tjZb3dTRv3DKzdh4kkp/OndfaUO3t+BAIOiEtf/htzNLMlLtXzwOnK5y4kF3dQ6TJL4wMSURtjbWGWmqe3gGVLRg2lz8k5g/0tp8/tHHR3BmbFK9mF450OrazNcLXdeG82TPnL1XVNatuaH3qdLFIwKQSvN1dlU6cDAhPbEP1SRePNf4Tp2PR3W52ZoZGJpbOftj+Qcmw6RJBWkIuMyM2YvaE8fPmr7yoZfy804ckEhwWFRPi+8jJzSsohkxFBuN8LqetoiQuOND0gZmS4v51K5fNW7TK0d0fiycLh02STsHjGkpzEuKSCosqRzidw2Y2VhQ42dmeU1YrLKtl85+ZlH/MAJ0OGckoOl3aP8WlxfnHFfbe0rkXGpdFHzYpY2tDja+zTXhUYnltu2TYtxyB0/WvnANOP3T8fGYl6qnTATgMyt/VNiwiuqimncnhSUS8/p6Wcwc3LJw7Y+PhK887nTKAy0uKWb5k0fdTZ+48diW/tOqp06X/PxQRGnjq6OE7xtZpuWXyxWOLV+90sYBXX1WmqnzazNI2s6SOxnzmEUaQloDDSI8Jn/vd+AULVl26ZdLTizgdLAdtRSDgM5hMIfJJbmpHfWVgYKibTyiJQgVVBZzeVFKYk5QUG5/m8cj64snDn378yemLqnHp+VTpF4hk8TPIg10NFVkZORUV9SNKIRGL2DRigLfnrl17AyMSu3FEkKZ83RgCOh0yEtDQR9HpIgE7Mz15w+o1D+1c6zv7eAKhfN3vv3e2tkQG+OYUVnRgkGcY5Ev/0OkkwkBWUmRaWkZpTdtfc/qUGTuOXM4vGeH0x5nJsTevnj95TsXTP0y+eGzx6p3OogzkJMfs3rH9kYvHAAUI+pkvDYG0XuZ0iVBAJhGbW1tpdAaPyyb3oWKjor18gogUKsgNcHpjcX5OUkpSelFjTZWvq93333w+Z/6SKzf0u3r7n146A07vqCvLSMsqK68bUQqQxOOhoZjw0H27thuY2acXVIMF8nVjCOh0yEhAQx8tpw8NSaiDmJiwwFVrN7v7heFp7OFfoqFTqd0d7X14Ip3FHd67/sDpPC6nD4t85XKQSAWykDn9LOL0mZuOqD5/Pb27tSHA1Xbe7JkLlq7SN3NsbOkc5nSEmtI8+wd6ikdP2Dq6iSTIJ/HkK8YKr97pXU1VAa5227fv8vIN5AhEw4/WAJCWzOlzJoxfsHD15dumcqcPSYQcemNdtbunb3s3WiAS8tj09tbW2toGNpf71OmZCUmxSbloFLq8KEfz0qmVy5cvX7vZxs2vvqVDFv8fOF1GWlLcueOHVNS0fEPjoNP/DNDpbzyj6HSJRIxurvBxs1+77UBYTDJfOtG1fJ3UrbKfEfyB00fw1OkL5kxff/BSfGoOVQaNRiKRejGYpJhwvRtXVq9aefLsxeTs4oHBkV9wRbfVRvo6HDh0yMTcmot8LfLvu+z15NU7vSgr0czg1o7dB4NCI2XPjw7nqdPBOH3evBVnrxvUNbWCGiOTCKjWusiwYBU17ZKqOuRS92MJHxzD2RzZNBIyp2fEJUTFZ+L6BwkDuNzkqOMK+6f++uv2Ayf8QqKlD8hKpE4v/QOnF+Wma6udO3HyrPUjtzH5mDp0OmQkoJ2PltPFIlFZTqKN+b29x84lpudIwLnvv+D08wqb5k6fsnDDfmsH11wZeXmJCQl2D83PnzqxeeP66zd1IuOS6Uy28Ln2TelHFaSE7d1/UNfQhMriyT5SPJZ49U6PCfPTUL24T/FUREwiqO2XOX3B999N/23OLsVzQP3ZOTlpqcm25kaqqqr7ldTyS6tkT7OAbAw9+Vb/CKeLRcjs/PaWD9avWPTdd9+pqN0orW5isNj/0+n1lYV2JreOHj1qYmElBknIF48doNMhIwE9aLScLhIKM2ODTPRvHj2rkp6T/0KDP89fcvpAT8tFxS2zfpk8Y9H6O4YPwsLCw8KRn4CAAAdb24fmFja29ulZeWgMTqYJ+ZZPYFEHqovSDuw9cEvHoJ/C5A673D82ePVOD/RyVj574siZS3FJ6fJFwwBpAadnxEYs/GHiLz//tm77wYfW9r5+fh5urjeuXTp67MSuY6p5z9z2kDPC6bKFxXkZBrfVp/38/YZNWw3M7Jo7eoj4AVRjRWZ69suc3tFU7edkdkTxqL6RKV8kEY+5q23Q6ZCRgF43ek4XJAR5GNy4ekpZNSuvUL70f/HXnb511pRJv81ZdcfgQURkdGRUVERkZFR0dHxiYkVlzcAgif9yU/NYlKaqQsU9+7Vu6nYPUtm8sTbH06t3ureT7dljCqcuqSWlZ8sXDUPmdGScPlnq9B0Hza1svbx93F1d9G9pnDt/cd9JME6vBqYdcfx9odPp5MGc1NhDO9bPnTN7xcadEYlZ7R2d2Naa7Iyclzkd09EU4+d85PAx7Tv3OXyxSPz3S/p6Ap0OGcnoOj3ax1Xv2uUzymrZ/5rTzx/aOG/alKXrD0dEJxOHQSKTZZM9/UH++Wxaa03xiT27b2neau8nMaHT/7HT3e2sTiocOHtFLSXzj5w+97vxc+cuP6WqV15dNzCA78P1ttVXhAQGXLhyu6SyTvTnnC4WCfp6uqIDXBQP7Jr045RzqrdDI2L7OhpzMvNe5vS+ztbUQM9jCoq3dfTZXMHwm/ZjA+h0yEhG1+mx/m7616+cVr72bzp9w/wZv6zaopSRXfz8OfsfA8bpzVWFR3bvvnnjducAhQWd/s+dbm958vD+/+n0Ec+9DEnEAja1rrrK2cW7tRP1J50O4HFYvV3NZvd0F82bvXTleo0bt7PTU5IS0yurGl5YClxnS3KA+9FDh2/r3GVzkYen5CvGCtDpkJGMqtOFKRHeRtpqShevZuYW/Enh/mWnK2wETl+5+Xh6djHI6F9yOodBrCvL3rd7n6bWHQyRzuH/0w7wuvHqne7paH3m6MHTl68lpWfJFw3jqdOfez59SCzkEwmDjY1NFBr9+QdmXuZ0GZlJMSonFX78/rsVK1fdMzYLDI6uqW2WvKgUPe2NUb5OioeOaOvc4/DG4JNO0OmQkYym00XC/JQIi3s6B09cSMnM/QtOl84NcOjEhaxq9P9wOqb1idNP/A2n04m40pzEffsO3L5jRKCz+UL43Ms/dXqAh+OFU8eOnL78B/dIX+T0x0NDEgGfD9obyAAQ+vNOby4pyEpIiknMet7pfT2diREBu7esmzX9t8XLV5qYO5SU17/Q6Z3NtQGuloqKR+4YmvCFQ//R57b+RaDTISMZRaeLxaKGsmxnG7Nte4/GJKaJpBNXy9e9nKK0RG3lUz9MnHDg2NnUsnYC9QUakiEWcvtQTaf3b5j1689L1yumZBZKQO7/RBJPGehpS43yO3BQwcDYnMlF3pCRrxgrvHqnRwf7XL98bv/hU5ExiaAmRlQGSEvEZWbGRc6Rzvei/Nx8Ly+Dx2HXF+akxsSEx6Y9/yUTIZ+D7WoxN9RZv3LZZ19+deO2UV5R9YjXnWQ0Vpc+Mr9z9Oix+6aW0rfM5MvHDNDpkJGAXjdaTpdIxHh0c4iv68p12wLDYzkCROrydS8nJyFaTUlh8oRvdysoxeTUDJDk86k+j5DH6mmrObJj3ZTvJ89Ztis+LVckf5r5z9JeX+7vaH740GELK3uBeOiFI7s3mlfv9JykyHu31HbuPhASHvVCpw8JODmJMbMnjJ+DzMto9CedzmWzyrOSo4IDfUNje3pHTrgGogUB6soKNFUvf/LJp+qad7LzKl7o9LL8LAONS8eOKVnaOo7Jb2NAp0NGApr5aDkdbMiiEZPiItasWW/v5tPZRxYIX9DChsB4ns8pKyoMDQgI8PfTv33zwI7Ns6ZP27h1xw1do0dOLuGRUSnZRTj8k5lyh4aYdGpJQU5YkJ+V+f2t61fPnjlzwbL1Wjr6waHh+UWl/fiR5+Yvozgn7b7O9eMnzzm5+z55u2VM8eqd3l5f6u1ouWXbDm+/QIEYeFW2S5GqIxIHS4vyo8NDtDXVJ3/11aRJP6/evMfa3jE0PDIpJa2rB8fijrxHDdoGn8Oor67w9nBVUz57+OD+/YePmT60zswtoLG4wz9tIRYJqaTBUH+fQ7t3GN1/mJ5dAsouXzeMzNTES6eOKl/R9AqIGoNGh06HPM8oOh2JSiTIy8nYuWWjgalVZlkDm/uCr0FKRMiHn9OTEu0sH1o+tLh7R++6murlS8rX1NR19fRNTB4ArQdEJiFzXkvd8PuQhEoipMRHOTvYGhrcvaaqeunSpctXrurq3rF3cIxLSkNjsLKY/xAksoSYiMvnlFSua4fGJMsXjy1evdOpgz2psaE7dmxzdPUg0NhCkUysyN7uxaLjosNsrS1Vr6hs2QTYcuDQEe07+qYWls5uHjWN7VTmyOYhEQk5dFJORvK9u7pKxxR379m1e99+9RtaAaERg1Tms/c/kCRa6mu9nOxCQiJLK+pHOB0Uc0gijosOV9i/R9fIMimrFDr9zwCd/sYzuk4HVJYVnz9x6KrGLSe/SArtBRdShkDnEwsH+vs72ts7u7rQ6B4stheHw4HfmJ6ers7Oru5udG8fk81Fei2ywZCQzxvow6K7u7u6URgM8lnq3l5sF9i4qwvX189ivfS26jBATJIgf2+FQwfM7DwLK5vki8cWr97pIgGnqiz/hOJec2u7ylYMi8OXLkaqjkwmVlWU5eTkpKWlZyGfns3OysoCKaalgz9ze3ADbN7It8MkYrGAw2xvaUpNTU5NSwUh09JSU9LSyquqadJHEeXhEJAkeFwOiTDY1zdAItNGlAIYXcRnhwT6btu61dU/oqm7HxRcvm4MAZ0OGQlo6KPldBkYVEeAm+1NLa07xhb9g6TnL3Ii4h8aAuoBxmFzODweH2gFtEXwGzRQDofDBv9xuSKxGOm10g3AYQD0XgQu92lgsIDNZnO5PNGfmLZFwOMMYjrdnR3Pnr+UlF7QN0iRrxhbvHqnPx4Sd3c0mxtpG9w3cQmMwRPJssXgh8fjEgmD/f39fX39BAIRqGdwEA/+AgdkHA4csznPfyYUeRpGJKRRKeCYDTYcQOgHx3sCkSgApwDP5RPkXCwSgSYkEAhHKJvHZXc1Vbk5OiidVk7PK6YwOCMCjA2g0yEjAQ19dJ3OZlBRTZXmpkaaN7Vqm9oZLPm36P5DwDGBQhzIS4y0s7IyMLbsQmHH3GPKcl690wEkwkBGQpjBvXvXbhs0tXW+8CbKKwYMAsgEfHywt5WZ2T1T+7ZOlHx8MOaAToeMZNSdDk6f+Vx2fFSoqfG9R57BlfWt8hX/HSIBt62hRldTzcL8YWpOMZlKG4sjNoT/xOkCMB7vR7s42Fw4fyE+NQfbT5Cv+O8QcFkdTbW3r18zvm+SXVRFpNCg0/8k0OlvPKPudBkdzfUx4YH6BoZhUbG9A4Pg3Fi+4tWCnMuLhd1tzfGR4dra+oEhkdj+Qd5/lJlXwH/idDAoBkfN/MxUu4em9o6uWXmFDBZ7+GfEXyWgxsVCQWdLY1x4qI7uXZ+A0P5B8vDvbY0x3iSng5YHmhpoo6OimNcQUEBpERFAMaUFRRbJV78qQIr/htPFAm5Hc63RnRtOzo5FlXV0Jus/GSVJxCIhj5WdnORobefiHV5V1yZfMUb5T5wug0roryzKMTK86+Xj24XBsbn/zTU35MkZBi0jMcHS1MzVN7ystlm+YozyJjldJBRy2CwqlcFmv+B5uDEA6H4CAZ/L5QKNkkhkOoPJ5Qle+N7Ev8q/5HRwnGLSqS31lVVVFXVNLUw2+z9xulTp1Iaa6vyc/K5uLP3ZLyCPPf5DpwsFfCK+Lzc9OTU5saCknEKlyle8WqSTfLXlpmdER8a1tHXThn3lfEzyJjkd3d2ekRQbEBCaX1jGe+47h/8Q6ZMUYoFAwOPzpcNj+fJXBEjv8RCZOFhRUpiYEB8QEODm5p6YmtXY0QO0Lg/zqviXnA4YAoNkHodCJvUP4PkCwX80ThcLeOzBgYE+XL/oNbh392/zHzodALSO7+3paGtpbGllvijpV4CAxyX0YdtbWpub2zmc//7+/L/Nm+F00OaAcxOigk4d2j5//tKb2vcIFBZfMJodEgidz+OSyORBAlEoFP2ZV9hHE8TpkoaacmO9G/t2bZ81c8b3kycfO3fVNyqdSHnpm/H/Ev+e0yGvnv/W6ZBXz5vhdCGfS+rrfnhfb9pPk77+6psjJ87ml9WTRlV2bBajq7U+KCTY2dOnb5D4qmfglI7TiYMDJfk5erc01qxY/MUXn+85csYtNIlApsnDvCqg08cS0OlvG2+G0xlUUmlW/EUlhQ/eeefdd95ZvX6LvWdIJxorXz0akIn4goz4W9q3zl1Vb0P1iP6Lx5UFAgGNQnF3tNmzbf24cR9tO3DCKSgBOh3yT4BOf9t4M5ze24Oye3Bnw6rF70iZOmPeMeUbZdX18tWjQX8vOsrf5czZ0weUzrR0of4Tp4OuBXpgZIjPicN7Pvl4HHC6S1AidDrknwCd/rbxBjhdIhK0NFRfOX9yxdJF30/+4aOPPvr86wmzFq/zD4/Hk0ZBN6BB87msqtJ8zcunNm/beujUhY5utOSVP0EoA2QmMsQXcfonH28/qOQaDK+9QP4R0OlvG2+A0+lkfF5m4sED+7dv275r1+5vv/32nfc++OTLCTr3rUtr28V/+BEDsVjEYbMG8QNoVHd7B0InMiEUqn8Az2QhL0Hw+TwSEV9fVebqYLVy4awZc+buVDiek1fQ3Y3q6ekhUyhcHh+0eIlYxGLSsRgMGoXq7u7u7OoaJBB5fKEEmUyKT6eScb29YHl3dxcK3dOPHxQKRWAr0FnAj4DPl81WIQ3QDTIAAPHjBwksNgfkf/jRA2wVEex7XAE6HTI6QKe/bbwBTm+qLvR4ZLH/yCndu/c83ZznzJzxzjvvfPDRx/uOnPEJiQX2lId7EQw6ta25Psjfy/COzpWrV1WvXdPU1NTS1nP38a+sbabRmTgsKjkmWE3l3JKFcz7/5OPPvx4/fd7iy1ev6ejqGd03TkxN78ZgQYvnMSn1lUUWZg/u6t/R1tbRvHEzKDQSjSNw+YLBvt7CzBQHG2td0GluaekZGHn4BhNIVOldVqDrIXwfNj871c7aUkf79m3t25qaGhoamrd09f2DIuqa2lgcZK7Bp0CnQ0YX6PS3jdfa6Y8fDz2WCKOCPK+rnFPVuhsaFV9RWrR/5+Zvv/zsvfc/mLtk9d0HVkwO78mk+8N5LBIJWxurQwO8rqtdOXfu7GWVq2YPLa0emutra23ctHnbzj3Xrt/OLa5sbGlJS4jU0byyZvmijz788POvJ8xftvq2nj4I+8jRKaegENuHTMjJZ9OaasrsrMxOHFFYumjR/Pnz7xg+aGjFsNg80uBARUGO+X2DI4f2L1m0cNWG7dduGWJwgyIJ8kYyqR8TFRpwSunYhnVrFQ4r2jq6ODk7m5manDl14tSpM5pautGJ6V09OHmuodMhow10+tvGa+10sZDPoRNN9LV2btlk6+pX29SB7+/VVr84f8bP77zz7lcTJp+6qNozQOLwn59zWUSnknxcrQ/t3vTxuA9Xrt10+65JcXllZUlBoIfjrOm/vf/+R+MnTXnkHVrR0FZbVebrYnvm2MFPPv7420k/btq13z84NDs7BzTxrm4UlU4HLV4o4PaiO1LiwxX3bv/s/XfffeedcxdVK2o6GUwui8lAtbe62Vse2L3lg/ff//y7KXuPX+rs6RNJHvM57NbqIh2NK++/994HH3y4c++Bouqm5rb2nMzUGyqnF8yZ+e13P5y+fCM+LRckAQA5B7+h0yGjCHT628Zr7XQ6ebC+MP3iyePr121OzCzqJ9KAqSN8HY/u3frOO++8/+G4jdv2xGaUYgdI8g2ewKCS6quKjyse+G7C+A/GfXH77oPS2hYKjU7sx+alxm1cvfy77yb8OmO+Z0hcF47AZNCLMhP0bqh8/tln30+dfviMck19I5VKo9PpyEzcYjFo8UNDEj6PRSbh9G9cmvrtuA/ff//8RbXKui7gdKA/NpNRlJNyS+MyGOl/9f2vh05flTudy+5qLDfSvfHNV19NmjzlvIo6jkinsziEPkxZeuRJxX2ffPrFghUbHFy9RWLQiaDTIaMPdPrbxmvtdHRHq7uVkaKC4uETF+pauthcARgVN1bk69+89sUn4z54770ZcxZq3rUqrW4EPhz+oAoYU8eGeq9ctvijjz/7ZtKvbr4hFCZPIhkS8tjojmYbC5Obmpq6+veLKuuoLC5o0DXF2UY66l98/tnkX2ceV77W2YN9/nLO4yGRRMQyv6s+Y9InH33wwQVl9ar6bqZ0KnCxWFRXWWCop/nRRx9988O0w2evdWH6gdNFQgFpAJMcF6GlqaGlrevh44/tG+jB9rY21hWlRigp7vto3Mc/TZv74KEdXyiWze4PnQ4ZXaDT3zZeU6eDRgbGxhUlhUqHdu5TOH7D0BLVgwXNjkqlgEGuq53l1InffjLuw6++mTh/5fawmGSBSD7OldFYU25rojdv1vQvvp4wc+GaqPgUYFgAWCUSCSlEPL6/H08g8/nIVCpgeVVhpuGta4jTf5lx7KJqOxorfq5JD4mFIi7V7M616S9yek1Z7l2d6yOcLi3EEIfFHOzHodDdTU0N5SWFaakpIYEBTjYPtm1cM27cxz/+OtPY3BqZvgY6HfIvAJ3+tvHaOn2Iy6alxkeuWDR3+ao1B46cNDQ0NDM1NTExMb5vdOKo4k8TxwOnf/DhuC+/nWxm7YjCIY8Pyjf+/ffa8mIzXY0503/76pvv5i3dGBOf9tTpoLEKBHw+jweEDpo7WAKW/0tOB/GzmYyGmspAH3d9PR3QYbS0tI0fmFlZWdmaG21bv+ZjmdMtoNMh/xbQ6W8br6nTJRIxqrXO08lmyZKlh48cu62jZ3Tv3v37942MjO7fN76upnpg15YfJ014F3mr9P3Lareyi6vZw2Zcq6soMb9zY86M3774evzsRWuj4lKET5wuAzRZoC2RCPxCVlQWZhjcUn3q9A40ViAUcFj0zi5UL65fMvQ7OAcYEgtEXIqpnuq0iR+/0OkG2urjnnH6EJvFKi/Od7CxOH7k0Padu48pnTU1t/b09g8PD4sN8Tmyb9cnwOm/QadD/kWg0982XlOnA90mh/vqaV7drXDS2z+ks7OrvaPj6UtDVWWFMUFuG1Ys+QBx+js79h9x8Q2n0hnyjX//vamu0t787vw5Mz794uufZy4Ki04Y4XRgYR6Py2JzeDwBWD7C6Z1oLJdNxXY2Ort6RcQkCyW/I1r/H07PMdBW+3+nYweApPF9vff1bqxYPG/cx5+s2XbA0smPyRUIhGIBl8kc6NBSuwSc/gN0OuTfBDr9beN1dPqQRMRn0Szu6Zw/dcLikVdZVT1oiAwmE/zIoJAI3e2Nt68pz5v287vvvvvLzAWXrut2YfECkbwh9mPRabEhG1cv/eSjjz778psH1o7t2AHhsLLV19Z4ubnEJWc1tvUMd/qkqTOOXlDt6sEyKf0tlbl3DB+4+gSDWKVOF4p4dNM76tOQay/vX7ysXtuEljldKBQkRwcrnzr84QcffPvj9KPn1TB9eHCqgUF1nFdSmDJ5wieffn5N2zizuB558fTx7yw6ubUy5+KpI8j19GmzTK1skTuk0kMOyExUiJ+S4j7g9J0Kpz3CUglwrl3IPwA6/W3jNXL648dDIpGQSMB3d7RUleSdUNi3besWN/+IqvoWOoMJmqY0DPJYITA8qqvDwlB7w4oF77333rjPvl69aVdkYlZ9czuur4/F5tKplM6mGnXl07N//fnTj8cdP3vJOzS2raOrfwChq7PDz9vrwtmzzl4hFfUdIM6m6iLL+7rffzd+wg9Ttx88VlhcVldZGB/ioXlb3803VPJYeu1FIpYIOI8eGi6f+/Mn4z46dvJsak4JqgeLx4MI252sTfdtW//+++99+d1POw+dLCwpJ5GIqK628ycVpv4w4dPPPtfUe5CWX4knEPEDA80NNZEB7of37fzi888n/fTLjdu6nV3dRBKZ9n/tnQdgE0eisP977917l9wld7nkUi4JCaSQAAk9QOidUEMvBtObccUY44Ir7r333nvvvfduy5ZlyyqWbPXeZeeflQQBhZQLDmB5vvg4e3Z2dlYz8+3ManeGyZicIAX5uO/fteUv//e/G3YecvCL7kePPn5b6TkAna5JQKfPNV4ip4PuOYtBy89Kc7K1vHT2xKfzP5q/4JPzV28Ghse0dPQIhMh6dUDpMqmov7cjLNDnivap5V9/CZz+pz/919vvvr//qNYd0/sREdF9qBEWm8fncivyMu7qXv3kg/c+/OiTdVt2O7p4xSckJiUm2N43u3r5ivaFm8UV9RQmF1RoyvhoSmzIqq8X/vMfb8xfsNDW3tEaxDl/ytzaIaeoEnSgkR/Qk56SZ6fEap/Y94+/v7Z63UZTqwfJqempKUk+ni43Lp5eu3Lxf4Pc/PdfPv50sYGJeUlVLRaHc3Ow3Prtqj//z5+Xrvz2hr5JVm5hclKin7fHrRu3tm/e9NG/33vllb99s27DfVv7guLS+vq6/Mzkq+fPfPnpx//z3//98WdLjp69Fp2UOYgZVX5EzwfodE0COn2u8RI5XS6TMKgTaQkxDjYWhvq6586ePaetbWR8JzAssqaxVdlXBWKVioWdbU0+7o5md42vXLl87Oixo0ePnjmjdUvPyMzc0s8voKt3iMURyGUyMmGstrzE18NF99Ytbe0LBoa3LSzv2z94AH78A0Oy80rGCCSRBHmlSMjnoHo6QAf5+uWLhw8e0tXVNzY2sbS0yikoxTx6cV+h9pGh/oykWN0bVy9dunhLz+C+tbWTs4u7p1eQn4e1+e0d27Zs3rRl7/5Duoa3c4tKJ2iM1ub68CC/61cunT179uq1G9Y2do5Ozr6+/vEJqSFBQbb3zU+fPKmlddbYxDQtO6e0rDQ5Ptzynon2WS1wUlpnzxveuReRkNYzgFbl4bkAna5JQKfPNV4qp0vZDFpJQU5sVERUdExyckpSUlJERHhWbn5bd69AoOinA6dLRKj+7oSY8LjY2MSkpPS09IyMjLS01IT4uKiIiKTEpMFhLOfhItRSiZjDpDfUVkWFh9jZWN+/b+Xo7BqfktHVNyiWTT0+UYxEJKRPkipLiwJ8vK3uW7l5+qVlF41PUGWPxQFMyWUsOrWxpjImIszeztby/n03D+/EtOzuzraWhio/b09PdzcPd3cPL6+q2gaOQCKVyykTpOb6muiIEMcHdmZmZm7uXmlZucQJGpVCwQwNZGemBQcGenl7l1RW1jc2FOSlg458HFB+WlpCXFx8XHxeScXQyJjq8M8F6HRNAjp9rvFy3U+XyaQsJgPIjkKl0mh0Go0GfmUwmaCTrlxRGlQ+oHWhgA+MSEXi0OgPoVGR/UCIUCh6tPw0qJogTS6HTaFMEgkI4+MkKp3OFwinkLSeeLpRKpWwWawJMhlEI5En6AzWwylzfwT8KZMiCVJBgkQkSRKJTKMz+Hwej8sG+5IVt+xJZDKbw5WBi8b0tFQi4XI5IP44kYjH48E2OoMploCPWioSCpC3qCaQ/VhsNmhvTCZy1uDMlGcEYLLYQsW7Uc8N5Byh0zUF6PS5xkvkdMhLAnS6JgGdPteAToeoA52uSUCnzzWg0yHqQKdrEtDpcw3odIg60OmaBHT6XAM6HaLOI6cbGhoCp4PWDlv47AU4HTRyR0dHY2Pj3+h0YAEQotoGmW1Ap0PUgU7XJKDT5xrQ6RB1lE5vamrS09OLjIysqqpqaWlpg8xOwLW5vr4eXJ4NDAwGBwd5PJ6qmB8DlDhwfXV19aVLl4KDg0HRt7a2qvaHzDZAcRcXF5uYmOjr62OxWOh0CNLCQcccNOxr166dOXPm+PHjWpBZCyjBkydPbt269fr16yMjIwLBU+YOAiUuFArBxfuwglOnTql2hsxCQPEdPXr04MGDYGSGx+NB/0xVzL8X6PRZD2jhAAKBkJ2dHRsbGxYWFgGZtYSHh4MSBL3vnJwcBoPx1F4bKG7Q8kGfLj4+XrmLcl/IbAQUX2hoaHR0dElJyYw84ACdriGIRCI6nU4kEkFTB4xBZifK4gPlCEoTiBvoW1XAj6G4iE+DEqdQKOBartxFtT9k9qAsOCUkEgkI/dk76QDodA0BXN5BhZBANAWl0AGqAn4MZTgocdCLV8WGzHJAUcrlyEpAqjJ+BmaN08HZymVSGmWyo71d+T1SVXXN4PAoiyeUPZwuBgKBQOY4s8fpU1MSkaC/pzPA1/eBvd1d07t6+obxabnDRJroseWqIRAIZC4zm5wuEnAbaqvuGBru2Lrps0/mf/jBh3csnZr68Dzhc50HEQKBQF5aZpPTpRLh8BAqMT7uxOED895767//678u696r6cRyBdDpEAgEgjBrnP6IqakpLxe79auW/O+f/+eqvlldNw46HQKBQJTMSqd7uth9uxI6HQKBQNR5uZw+NSWXSSUsJmNigjw+Pj4xMUGnM4QisUwuV8X4NafL5TKxSMhk0JUpkMlkKo0uEIpksh9TeBwBn0+n05SLHYHDMZlMNpvN4XAkEumUYmklEEcmk/F5PBqNChIEUCjIYkZMJovH44GMgfwok4JAIJAXzsvldCB0PofZ291RWlKUl5dbUlLa3NJOnqQJRRJVjF9zOhA6gzrR1dEKUsjNzS0sLKpvbCaSJvkCkSrGkxDwYy3NDQUFBXl5+SWlZZ1d3QMo1NDQEIvFAbpWOl0o4ONHR5oa6vMUVFXXdvf2d3f3jIxi+SLJ49cbCAQCebG8FE4H3XOxSNDT2ZIQG2FibHj9+rUrV68aGRleu3rlvLa2vqFxbELKGIEMutuKyE93ulQixg73ZyTHGenrXLt2/eYtPSsrK0N9/WtXr+roGvgGhNU3dzLYXNCpBqaWScW40eGslHh3NxcLS8sHDk5Ojk72tja3DQ1u6twyvHO3ratHIpVNT8uH+ruzUuNtra2srG0ePHB0dHSwsrS8baCvfU7byc0TR2Hxnu/qoxAIBPILvBRO57AZaFS3j4fjqeOHFy1evGfvvktXrt01vXv4wHeLP58/76OPz1/VKaluotCZIPLPOZ3H5RRmJd26cvb9995evHTVgaOnHRwc7hjpHz988MsvFu7cvd/C1qW5o5fF5cvlcioZX5iVcvHMsWvXrpncs3T39Pbx9nF2sL909tTmTRuXfbOuqKxCIBQKOPTEqGADnSval66YmFl6enl7e3vZWJpfPnv6i88/P6F1vndskskTKk7iBcPlckdGRgYGBnp6enohsxxQiKOjoyKR6Kl39kCnBISz2ezBwcG+vj7VPpBZCyhu0HJxOJxYLFbeG3gWXgqnD/S2B3rarftmxQfz5q9evyMyPhk/TqZSqRH+Hvs2rnzzH6+v37rLPSh6BEcAkX/O6XQa1dHadP2qr//85z+v33nwgVcIiUSeJBHKC7P2bFo5771/ffLZlw4eQW29aKlE0lCabW5w9b33/u3hE0iYoNOZLMAkidhSVWh512j56jUlFZUsJhXfV3/l3LHNWzZHphV0D44oYrEmiPjOxprj3++/cPlK5wiJwX3KzHnPH9C2nZyc9PT0zp8/fwkym7lw4QIoRBcXFxKJBBq5qoAfAzR7iUTS3t5+584d0Cm5ePGiak/ILAQUHyhu0HL9/f0pFMpTr+L/ES/Y6VNTcqmYn5+ZcGzvpvfe/ucnny++rG9R09QuU9zLri7JM9O/vGr58jPnL6fmlpImKYpdnu50NouZEBF48czxhV8s0je1zquoF0skIPnB3nYd7cNfLvj3G/9866quSUFZrUQiLkmP0zl77JVXXtW+fCM5q6Cju3cEix0nEnAYVH52hr39g4HBQQaFNFBfdHT/zo8XfHLNyCIuNbu3fwCLw0+QyYSx0dCggKiYGBzSTX/B916UvbaWlhYDAwMbGxtPT8/AwMAgyOwElJ2vry9o5EZGRhgMhs/nq4r5MUCJg/CamhoQzczMzM/PD5b47AUUn6ur640bN0xMTDRhrl2ZVMKhEgPc7Ob966+v/O9/r/hmg1d4OmoYp9yKGerLSI4yNDDw8Q/qHxrl8JD6/XNOFwkFPS0N4QG+ly5fCYuOr2/pGBkdBZ9RU121qY72ysWfvv73fxw9fT45PQc4vSo33ejyudf/9urir1ccP3PBydUjIjomKzsbtJO6uvramloajcaiTqAay7WOHXz7nXc+X7JS68I1D2+/mLj4/MKi2vqGiorqzu5ecGjJzzxR89wALRzUg4aGBlAtEhMTu7q6gAvAyB0yGwFlh0KhjI2NdXR0fnmdo4qKCm1t7ejo6KGhoZERUNkhsxJQ3M3NzXfv3lXOmD/r18QQC3ijXc2WRjr/+z//9V9/+tO6jdvjM6tG8RPKrUKhgE6jYLFYMnlCIBTJFU+Y/JzTQZefz+VgMeia8pK46AjHB/a3dHWNjW/r6lzfsfGbee+9DZx+TOt8cmbOlFxOGhuKCfFevvjTf7/7zptv/WveRx998umnixYv3rxlm46BcVxKNn6cJBULufRJDwerDWuW/+ONN9761zsffTz/008/W7Z85Y7de02tHPLLqsF4AgwoFJl9YSidDqoF6KeXlZWBq5FAIBBBZidCoZDH4z148AD003/Z6dXV1eAqXlhYCHZR7QyZhYCiHB8fd3BwAFdxTXC6iM8daq4y0bn0/xSs37QzObd+jIDcY/k5nur06Sm5UMDram9OiI28b3bXQF//lq6+sYmZs7OL4wPbEwd3fz7/Q+D042fPp2TlTE9NCXjsztYGZ/v7586c2Ljh26Vff/Xpgvnvvfcu8PuSZatOX7xeVFFLY7LBMKK+qtTVwebI9wfWf7t2yeJF8+d/9O477/zrX2+vWb/ZxNK2rXcIRFPl7AXxyOnAAqCdAwuAj0i1DTLbAGUnkUicnZ3v3LnzW9YjBVfxmZqjFfJCEIvFVCoVlLiGrEcKnI5pr7mndxV00oHT123YHpdRNYpT9dMBoLICBcvlMnCqSlU91emgT00ijLo7Wu3Ysv61v762btNOfZP7GdlFHZ09TQ21VsY31y5frHD6hZSsXJAC6MlSKRPDQ6iCvCw/b4+7JrcvnNPauX3rhx+8/+pf//a3N/71wDOwBz0mEYtolInenq6s9BQvdxcjA12t0yfXr/vm3+/88y//9+cV36x3CojtGxpVZvVF8bjTKysrZ2SpFMiLAgga9LudnJx+o9NLSkrANQCW+OwFdNU1ao1pqUREHx/xeGDxr9df+d//+a9lq791CYzvG8KqNgODy+USIZ8yQUZjsDzF90U/cToeOH2CiC3NTd67a9sH8z7+8NOv3f2Ce1BD5EkKm80ZQvU9MNNdtwJx+olzF1OzcsH1oaWmIiEqwtMnuKqmdgw7ikINdHd1VldVBHi7HNq78/XXXte9Z5tbUklEdSTFxYaFRw0PD2NHRwb6+zo7O4oKcn09nNauWLL4q6Wnb9ytbe5QZvVFAZ2uSUCnzzU0zelTcpmIz8pMjNq3Ze07b74x75OFp68allQ3CMWgmiIddA6T3lJblpuVlZ5dQpqggE67TCZ1d7Bes3zRn//nfxTzMo5x+OIxdF9ShPfXS7549fU35y9ek55bJFYMSMUiYU97s+7FE4s/nffa63///tTZxLRMiVicnxRzT+/W7r1HE1OzGGyu8k69UMAb6Kg3Nbj+5t9fM7RwyM4vRdUW3tHXvXD5RkNbF/3hPRYui9Hb3nj4u+3Llq04ed2kBjodMnNAp881NM3pSgZ72oPd7ZYt+fLV1/7+/qeL/MNjSVSmVCqTikUjg73mepevnL9gZuONQo/KwTVAKHCyNlu55HPg9As375Q1D7F5wtGh3oRw76Vfffnq3/7x4WdL41OzOQLkO1XaJKkoJ23rmuVvvv7Xv732+s4DR8JjE0GbyYwM1j6w98//84qxuW3X4IhAiLzcIREJKLhBZ2vT9995y8knrKa+tbsk49CurZ99ucTOO6S1BwXiAOQS0SRh5Oyxg5s3bzVxDGjvG1KdxgsCOl2TgE6fa2im09kMWn9Xm5Ot1ZGD+5YvX35K65yFlV1QcEhwcJCHq4uujo6Hh099c/fkxERfT6e/r8/Zk8dWfr3kww8+2L3/sJWDZ0Vd89DQYH9nk+ltvS0b13/++aILl6+7eHhHR8eEhoR6urtbmpoePXhg6ZJFq9esO3/5WlBYuLO11cUTx+d//MnRk2dsHZ1CwsJiYmKiIsLdHtgY6upoX7hcVlU/OjzcUZKlfeLIV0uXn7183c7JJTI6Oi4uLjw02MPF4fLlyxbW9g0dfRQG8nbrCwQ6XZOATp9raKbTp6emxCJhe1N9dFiQyW0DUFN19Q1s7ewcHB2dnV28fAMrquq5PKGAx+lobXJ4YGdifFvnxo2rV67oGxg6OLsVVdSM4QlcNqO0MMfd6cG1y5d0bunevWfh6ubu7esfHhlTUlgSGRZ6747R5UuX9AyMnNw9/X18XR0cb964ZXrv3gPHB04uzm4AVxdbKysPd8+ktCziOIlDowy21nm6ON28pWtpZf3AydHFzdXDw93ZydHezsbHP7CkologEktf9Bxe0OmaBHT6XENDna5AKpEIBAJQWYeH0a2tLQ0N9d09vaM4ApPNFoslcjlyJ53JpKPRQ9ixMSIRmUcXN4bDYrETVCqPLwDVWiwScVgsygS5r7enuampuaUVg8Ux2FyhUCQQ8JlM2ggG049CDQyhwWdHIIyTyFQ6nTpJJnR1toP4rW1tmBEslUoH8UHTkorFHBadRCYTSWQgyrGx0Q5wSWls7OzqxoxiGQymcnIGgOo0XhAgA9DpGgN0+lxDM52uBp/PY9DpFAqFyWLxhUJQy0EgqMeg4oLqy+UBRwvFEgk4eZFQCGQtEosfTY8O4sikUg6bTaMCaMD1ymkGQAJTU3LkmsHlsrlcHh8kLJKAPrZcJpGIGAw6EpuGxJdKVe/mTgGtSyTgcgIOBVIAB2LQaVQKBdgcSfZFvz76COh0TQI6fa4xJ5wO+Y+ATtckoNPnGtDpEHWg0zUJ6PS5BnQ6RB3odE0COn2uAZ0OUQc6XZOATp9rQKdD1IFO1ySg0+ca0OkQdaDTNQno9LkGdDpEHeh0TQI6fa4BnQ5RBzpdk4BOn2tAp0PUgU7XJKDT5xrQ6RB1oNM1Cej0uQZ0OkQd6HRNAjp9rgGdDlEHOl2TgE6fa0CnQ9SBTtckoNPnGtDpEHWg0zUJ6PS5BnQ6RB3odE0COn2uAZ0OUQc6XZOATp9rQKdD1Jkpp4PKJODzWCwmgMMBMgHeYIPfGWowmSw2G2wWi8Vy1Xojv4JUKuHxuJTJyXEEEpvDEz9ceASixvN0OkhnakoOSgdZW4b/IyADiqVgJEA3qiAFinAxqGzwEjKDQKdD1Jkpp/P5XBIRN9Df19nZ1dPT29vb09PTDQD/9wjwZ2dXZ1dXFwgdJ5F5AuFvORaPyyHgsI31tUWFhQUFhajhMQZXqNoGeZLn6XSpRMLjssmkcSxwycgIFosdewgOhwf/AR6FYUEk7CgOj6dSaXyBQJUE5JmBToeoM1NOn5wYb6otj44Ms7Qw1zp98tSpM1ev67h7egUFB4eEhoCf4ODgAH8/e1srnZvX9+/f5xsQ2tmHFonFqv1/Huokqamu0t3B+syJo1u37wyNz0aNUVTbIE/yPJ0+ScRX5abaW9+/pWfg7OYeEhoeGxcXGxPt5uyof/PGlctX79w1CwmPjI6JjY6OCgr0Nze7p6+v5+Yb3NDaoUoC8sxAp0PUmSmnM+jUvq7Wgrxsa0uzZV98+vnni7btPhgSFpGZmZmtAPySlpYaGhx4W19n1dJFt03M8ktrePxf77KxGLS+7rb4CP/jh/a99+4H9l6RHYPjqm2QJ3meTh/u7wlytrp88cLZS9eCwsLTMjLzCwry8nLtLO5tW738s88W7z98OjEtKzsnLzc3JzUl+b65ydlTxy5e00vLykdW+FUlA3kmoNMh6syU0xGmp3+YnqoqKdj49edfLlp2XFsHRyA9fsMcOZZU3FxXoXPhqJmZWVxKFofLU237ReQyiZhL8XZ5sPCThU5+sR1D0OlP53k5HXFyd3uLmcFVk3sWQdHJLA5XUc5IeE5izN5VS95+e8GJ8/pMgVT8cDn11vpyHyers2cvxMQmTk1Pgx9lOORZgE6HqDPDTpfLqorztyz7cslXK09c0B0jkKaedPrUlJxEwJbkpkSEhyenZ/92pwtYE15O9l9Ap/8iz9HpU8Dp5oY3wiJjGtr7hSLxQ6dP5SbFHFi79J33F564ZMTgSx45nUrCNVYW2Vrdz8rMFknl8t9dzSCPAZ0OUWeGnS6TVhfnb1ux5Otlq09d0scSyHLQd1cAdCOWSEBTFgp4FCI2Py8/IzsPOB1oQLkVZAPw1KMDp/OYZE9Huy8/+cL5J05HLhRyuVQqA/+qQh6i/BOg+AuJBg7xeLiGAU7wOThd8VlKu4DTjfXzC0sJk0zw2Su3AKfnJcceWr/i3Y8Wnbhi/LjT5RIhCTccEeJfXlbGF8tBSSvDZxAkX1NIET+qCRoPdDpEHdAMQBv4w50+JRcIBDQGUyiWiEUiDp1SVl6eU1DC4SFOB0cUCYV8Pp/H44PMqFJ7jF92OmjEIpEQ+AvUb2UIckQFyj8ByB9TSDQej6fBDf75OV0q6mprMTe5V1ZZS+MIgESVW37B6dNyCX2SkJWa0NTUKJBOyx4fwc0QoJpJpWIeD3lSVhWk6UCnQ9QBzfMPcPripctWn75sgCOSQcsFNp2WScbGxooraggTVJFEKhHwMZiRftQQl88bHcHUVlUWFhRlZWWlp6QkJCVX1dZzBULpY3J/itPBsaanWAxae0tjeVlpQWFRRUVFSUlhVlZGdHR8eWUdly9+2Hn8YWwUU11RnpyUkpKSmpmRnpiUVF3XQGVyxJJnbQAvG8/P6TLJOAFfVFCEGR0TiKUPU/glpwOps5nUusqilMTYkNCQgIDArOx8zOh4R3tHSVF+ZHhYYUl51wCaiMc21FZGR4QF+AekZ2SjhrAcDg+M7UiEkdLigrDQYD8/v7z8ouERnECguoQD6DRqW1N9bnZ2YmJSZiaoRylZObmYMQL3sTgaCXQ6RJ0/yOlff73y6LkbfQODTCaLQadNEMfKysqdvIJ6hkbFoIcmB912IY1OJ+CwmWmp9ra2Pr6B/v4BXm4u+voGDxxd6lo6yFSafEr1UtJPnQ7G2FwWvbu9JdDX29/PPywiKj0tNSoy5IGd1YnjZx0cvSfoPKFYKhQKyOOEzLTkB7a25hbWzi5uvj5ed+7cdnZzL6yoJZImgfeVh9AMnuO9FzkY9NBoNIFQqHh1TPkZ/qLTf/hBwOcN9bZHhfhdOn9m5/Ztl67oJKYWxcXGuzranvh+v6GJeXBsakdbY1xk8BXtM5s2brx8VSe7oHqcTOGwGIM9rb4eTqePH1m7Zo3h7XvFFQ10BgukOTUlB0JvqK12c7S3srKxsXUI8Peztr5vYmoan5rZgxqWSDX5LSfodIg6oDXOuNN3rPrqyy8Wb9lzOCEptby8orioMDoswMra9qqhVWtXP6KAKeDkKRIRn5EYef3atQNHTpdUNYzhiSND/d6O1pfPaR06dSG/vIYHOoA/43Swe2tdZZCPx9Xr+hlZeZNUOpPJxI4MluSlH9135I6RBX6CzRdKRzFDob6uF86fP3v+amFp9fDI2OjIcFxEgK7O9Z37j+YUVTDY/Ic+0gSen9NBGU5NgZoD/lX+qdzyy06XSiRM2mRLfaW/p9OWb79ZtWL1ybM6QcERYYF+Z/dv3757r9ZN4/aOttqKYld7y8VffrF9176I+Gwsblwo4INuQVF2ionBjff//d7R42eTMkomKXSQplgkzM9KuXvbYNOW3X5BEb0D6ImJidKCbFuLO/u/P+bk4T9B44ChoTIDmgd0OkQd0Bpn1uk1JQU7Vy/97JPPlq3ZZG33wNfXz8PNVf/m5TNa509cNm5q71HcjUGiE3Cjob7O3x/Y9+2mneX17SyeUMjjNJXn3Tcx+OiTLzwCozDjdOX9k586HcgrMynmtt7Nfd+fSk7L5gtFyLevfC5msM/mrrmPRwBwOpPJqCzNP7h767GTZ62dfNCjBKFIIhLyB7pbbO+bghy6egf2DI5q0gMYz8fpP8+vOH1KLgcFMEkm1lWVHTuwc/myZdsPnE1Ky2lprI/y93B2dQ+IiMcTCMQxTElO6rcrlu3YujskOmN0jCiTSvk8DnaoJybE57P33z9y+FR8aiFwulQsnBwfMzPWO7j/gPZ146KyOi5fCGoCYWw4PSlq0/pvQU+/urmbxmSrcqBxQKdD1Jl5pxcX7Ppm2SfzFyxesdbYxPTBgwfW9y0vnTt57PgpNaeP48eiQ7zPnTmxZ9/B4qpGEoXJYTOpBHSwl/Mr//cXQzPHuq4RkVgCYj7V6fGRwRfPnVq7abubp29P3wAOT6BQqOPE8bz0jPKSCjKNO44bjgjy/MffXj11/kZKQc0EhYZMO8Lj8bmMED/3j955Q9fobmFFPTh9JDcawUvudBXT05QJ8q0rZzZu2rDn9I2q+laRSDABRm0EwjiZIpFIp6WiscGeQ5s37d+xLyw2axSn+kp8WsJrKi9Y8+lnp4+dTUwvnqQyOIzJ3pbKXVs3rF6zwTsys6sfI1BOPcNld7U1bF+/6tCBQ6HxmTgiWZmC5gGdDlFnxp1eXZy/feWSJUuWHTh5sb6xGYvFjgyjezuakpOSzWzdO/rR4imV04UCAQE70tzYUFRU3NDQWFVZmZWZkRgTduvapVf+9xW9O7bVzSiR6OlOB5nsbKl1sjFb8PGHy5Yt+27f/nPnzltY2UbGJtY1tOIJZKFQ1FFXYn3n5qt/+b8Dx876hieWlVUAkVVXVVdXlt2/d/vTj965omOQnl8Gnf68nT4lo5AJN66c3XfwoKGdT0fvEMi2WAzsJAKXcJAZqYg33NO2f+NGNadL+MzaouzVn376yOk4dG96hOeaFV99tXy1rUdoWlZ+bW1NdXVNdWVFQkz4prXL9h044BEcOzJGUKageUCnQ9T5I5yu/tzLlFwm5vX19sYmZQ3jSI+cLhGLmdSJpvrahLjYyMioqKiYuLj42KgwvRvXXv/L3/Rv21Q29At/xukg27TJ8dKC7GsXtb7btWPdurWAbdu2Hz952sHVp6KmiScUVhckG1099Zf/+9/vT57zC4/Pyc0rRGYBKyjIy/Xz8bh+7ZJ/SHhjWzcQCpIbjWD2OB1/4+q5IydP2vvF9qGxqvCHSITcoa6WnzpdzGPUFGY97vTBruYQZ9Nliz/7esU3jj7hCakZiiIuLMjPS0qIMzbSs3dwzCmumpikKVPQPKDTIer8MU5Xez4dkfrE5GRnzwAYLksVTgfH5bKZqK4mVwfrQwf3X7l+y80roKi0oqG20tXe5l9/+4ehsV1FfR9fIJqaQmYU4DLUnQ6yzaTTBnraYyJCjPRvHTl0YPnXi957+5+fLFxqbG4/TmOWZMcZXjkOnH76wvW49PyKquq6hzQ0Nra2d+LwRA4Xfkf6YvrpOtfPHz9zxjkocQCDU4U/RCLgDnY279+wYf/2J/vpSqd/8snpo1pKp/d3NPjZG3795Scr164PjE3LKy5TFXBdXX19fVNL69Awhs5kS+B3pL8Z6PRZz3NxuvLRNxGThTwSrryfLpMI+7ua7+heOHLk+9MXr+cWFA8Nj5AnJigkbGSQ79uv/eO2iV1JdQceTwB78QVCNaeDTHZ1tFdUVnYNDPf2o7q7Ohsb6rPSkz2cbDatX3dO+0pxdVtFYcYDM91X/vJ/1/RNy5t6CeNk2kPodDoylTuTxecLoNNfUqevf4rTqwszl3/yycmHTscO9SSHuq1evvjbzTtSihv7hrCqAlagKGMWm8N9dtO9tECnQ9SZYafLZdXFBdtWLP5q6aqTF/XGCCTg9KfCZ02W5iZ/s/SzLTt3mzl6jxGQdiuXy5iTY6F+bn9/5a8mpvYFpY3VFVUo9AiVxeWxJr2dH3yxYKGzf1wHmgTklZmW4u3jk1ZUg8GrvgHjcZi9HY0XTx89f+5CZFJRc0NNRIDbu//657mruunF9WwuXxkNIOBzyeN4zMjIOGli5oz24nlZnP7t8nfnfQmczhL+OIfXj0zJKWTiTeD006ddgpOe7vSuFqSfvmNvWFz2I6czyGNZCeEL5807dvRMcmYJhcqgTxAay3O+27Fpw+ZtPtFZAxi8MiZAJpXQqRO4MezwCJbH/7HoNQzodIg6M+z06enq0mLE6V+vPHlRF098Yl7Gx6HiUYlhHu+9+9ZRrcuZZU00JgcESiXiwY5aW1O9P/3pT6bm9tm55X7uXoUl1dgJppDP8HN3+mL+564BCV3DE0BeYYF+169du3HXvqK+VZkmOBcaZdLNzuKeyd3AmOzhkbHy4txvvv586649pnZu5EmqMhqAMDZcnJOcmp5R09AKklKFzn5eAqdPq5z+4Renrhrz5dPIuEwNxXMvN69pA6e7haWiHhOxEqmIj+5rP7hlw/5dTzgd1dHgaW/2zr/e+v7ombTcMgqNIZeK6ZPEm5e01q5Z/f256+U1DcqYAB6H1VRTnJ2ZlpZTRCJPqkI1Duh0iDoz5XQWkz400FNdWe5kb/vVpx/N+2jBhm17I2Pji0pK6+obiGSqQPREbQP99KqizD3bNu7Zf9DQzKaypr6/v7+jrTkjKdZY98ZnCz46feac+X17ezuXtMz8praO/OyUq+fPvPuvd89c0AmPS8dgsb7ebufOntny3RF3n8D2ji708HBPd1dJYf49E2NHJ9e61n4qnYUZGvDzcLxy+aL2xUuRMfHVtXW9vb1NjfWZ6an+Pj7F5VWYMSLspz/jJyAWi2iT5O7OjtKS4qLC/Pt3jVZ+/vEbb763efehlKzc3IKimvqGQQyOyebKpFIWndrb1Z4QE7Fr24Y1a9dp3zQJi45v6+iis5HJHJQJTsmkZALWxkTv3OmTN4zu5RWWoFCo3u6uzJQEE4Ob8959Y/XqNbdum+cUlGBxeCGfm5Uaf/e23nf79zs4uxUWl3X19LS1tpSWFIYGB4LLdlc/ms35TdN/zkag0yHqzJTTJ8nEhurS2KgIM1OTvbt2bNu+/cjxU44ubgHBoQlJKQPDODb/iZk3ZFIRZrDX3cHm6tXL569ci4yJzcnNyc5IT4iL93BxuXH5/OXLlwxv3/UPjC4sKq+prQ7y9bh6UXvjho1nz13y8A5s7eyKiAg1MTE+ekrbzsE5LSOzqLg4MyMtIjzE0dklKS1rks4RiqVcDguD6g0L8r1jpG9jax8cGpaWlhYbGx0WHhEeEdszgOYKROATUOVp9vNCnC7g83AjwyWFBSFBQYEBviZG+vt2bdu4cdPxU1qunt4+/gFxSSl1rd0kCk0iFk0QxypK8l0cbI4dPrBv34GL1/WdXD1yC4oJFCZf8YwTAvL9OasoO8XR3ubyDZ2QsPC83LycrKy42Bh7W6vdm1bv2LZV68K1oIjYrp5+UHtJhNHCnPTb+jctLCw9vHySU1ISExMiI8ODQ8IrquoZHIFEcxewhU6HqDNTTmfSqQM9HVWVFYUFhcUlJcXgv5KS0tLSopKSiqpqHGnyxxarYHp6SiIWMqgTjXXVcTGRISHBUdHRmdm5qCEMkUBED3Tn52VnZecNovF4PBEzjCovK80vyC8oLMzNzamqqh4YQjc1t9TU1tc1tYPjpKcmR0SGR8VEp2dm9fQPUulMGTJB9zTy4qJYDI4y0NOZnpwQHBTg6+cfm5BU29hCZbKFIkRn0OnP2k8XCSdJxPbWlqLCwpJSpNjB/4qLkQpQVlpaWFRUUV3Tjx6hszhSiZhBmejubC/Iyy0oAIVZCKKBiM2tbVQm98c3+JHv1OV8Hqe/tyctOTEyLCwiLCIxKb25pb2rqyMhMjgk0D8iMqawpHx4ZBSpwFIJl8Uk4bHlxQWRYSE+Pj5hkVF5hcUjOCKHh7xWqklFrAZ0OkSdmXK6SCigUylEAgGPJ5AnJiYmJ8hkMoFAwOFwBAJoWoJHsyT+CHL/XU6nUdCDqM7Ojq7u7iE0hsXhAcsIBVywK3YMB9okny9gsxggKYAiTfz4+DiNwZicpEwi87ywQfgQaqCzs7O7p2doGKTAVTvWlFzG47Ax6MHOjvaWltbefhRpgqJ4IEcVQWN4IU6Xy2QCHndyYmJsbAy5Ao+Pg+IHkMkkUDRjuDECkUhjsoRiMTC1UMCnUiggJihEEok0Pk4Eu5AnJgUiiUyung0Omz2KQfd0dXV2dPb3D05SqEwmcwSNQvX3oVCDYzg8k4VM4wVALgJSZKrI3u4uUJlBVRjB4vhC0U9v5msY0OkQdWbK6ZCXgRf9HSnkeQOdDlEHOl2TgE6fa0CnQ9SBTtckoNPnGtDpEHWg0zUJ6PS5BnQ6RB3odE0COn2uAZ0OUQc6XZOATp9rQKdD1IFO1ySg0+ca0OkQdaDTNQno9LkGdDpEHeh0TQI6fa4BnQ5RBzpdk4BOn2tAp0PUgU7XJKDT5xrQ6RB1NMPp4Cymp6YkYjGfzwfV+refAthLLpcBDwoEApkMme1JtWF2Ap3+O1BWHlAFqBQKi8UWCJHlElXbXnqg0yHqgPqsCU6fmpJJxORxYn9/H5XOEEmemAPyF5BJJQIeG4MZHkANcbj8p0w0NquATv8dgA9ELpGMoIfSkhLKK2tRaKx09szNC53+UqMQk2icgGttaW5sbGxobGxqbh7CjFIZrMdbnVwm5XFYA329QMRNTU0gJojY1NwyTpqQyOSggqri/TY0w+kCHme4uzUqJMDQ0CguOatvcFS1QYFUIuHz+CwOVygSq4IeQqdMtNSUuDk73LeyraprIc/yBeah038O0BWflstZDAadRpNIZY/3xOUyGZtCzE6J//7ggZsGdyMTMvkC4WzpqEOnv9RMyWUiPrulsS7Q39fZydHa2trCwjIqPqWls+/xSf2lYgGFNJaenODu6mJtZWVjY+vg6Ozt69/S0c1DJgSfi05nUCfK0qK1jx98+533LunczS2uVW1QwGGxiHgC6H9RaExV0EOwaFS0n/O2jWu/XrrSNzi2bxCj2jA7gU7/OUDjmpKIhvr7erq6uDwRsLpqAxirScQTmF4fR+t//vOfS7/Zctfalc3lQacrgU5/JkC1kwh5Q6i+zLQUG7Pb3+/buWDBgj0Hj3v4hfL5AlUk5HaBmEmbqCkveXDfbPu6NQcOHjEwMU/OyBocHhUit5LnotN5bGZ3Q4Wducn2bTtcvYKbO/pVGxSMjWBqKquSsoq6UcOqoIdMjOPKcpKvXbpw9NipzLxSHEG1XPUsBTr955BLxVIeqyg3Kz01lcrkSB5zOmh3fDa1uqzQSE/P2d0vr6RGJBJDpyuBTn8mQNOSSyU06mRne6urncWhPdve//d78z9ffOGaHpY4KRSrSgtUQSGfi8WgwwN8927eoGdgEhqT1N3XT6UzpIo1XZTRfiOa4XSJSDhJwJYXFQQHh9TUtxBJFNUGBZ1tLYnxcT5h8Q3tvaqgh/A4rJHB3rSU5JiY+IFBDIv9FAnOIqDTfw4+hzk+3Bvg4+nl7UNlsB5ffwNZVUkqHieMVZWXtXd0jxHI4GNUbXvpgU6fBYAmx2YyIgP9dS5e+G7ntn//+4ON2/ZUNPdNMpCV9ZWAOKAiNtRU39XXLa2om2Dwf/c39SChGXG6MkuPUPyJ/A2aB0AZoor6E5Qx1SI/GR/8joQoYyl+VCgiIqj+RlCFKAGJlpcUeLq7uvhF1LV2/zSGMgSg+vshjwJ+ukkNkDXV+StP4Cfnq9iIgORcsfURynBVvGcGHPp5OP3R+T52wooA5LNShShOUxX/SZS7gVqnRBkT7KvaDFAlpUhFAYgAAL/IZMBaoOuCfG/0CGXEH1NTBD6WEpIUGT9SlRN/29DgnoU1nU5X7KE6riLCE9lWBiqC1VBtACj/VsZ/PByEKHMCAL8rAx/PDHKMJ3mUgDLafwR0+ixALOQSsWgvD2+b+9Zh/p7frFrx5ZIV911D2noGVTGQpgtGi7SSgnx9XaO6pjae6InvfP4jQE0Cle/ZnS4Wi8ClaHKCTCKRJyg0gVAIQiZI46MjI8OYEdIEhcv78faRGqAigtHJGBaLGhxEDQ7hiUS+UPTkIyjg7KbZbBYOCxhV/GBBtEkKlcsVSJBmLqHTaGQSODqJwWCDgysbD+iGjw2jHG3vHz92xMTGNb+smgagM/h8PnLiUimfx51A8kyapFC4fD5ICuwlFPA5bDaDwQROBDAYDL5ACLaAXcBJKQPBB8VmsYBApTIZ+BB/mJbzweBpdASNHkIPo7E4PJPNVuVd2Zjlcj6XMwZyPjoCMj+GwxHHQf7Bx8IXP1qH85lBMv+cnD4FTgeHxaD6EUaxeCaTKRTw8GNY1EB/T0/PIHp4gkJVxX8SJoM+PITqaG9rbm5qaWlCDaFBhQE5V20GIGvVisBn1dfb29XVBaoEDk8ApYDq76uqKMvMyuzo6ubwBYgyZVJwUPCRdnV0NjU2gZ/e3n4GmwvKUZWSHHTBhUTcaEZitPbh77Zt237hqk5ra9vg0BBmZJRCZwhEYnCdmJggDQ8NdXd1DQ2PkCeRzEglYjaLAeokUtPwBPAvkThOZ7DEoLSkEh6HDWoNCATVm0gk0hhMUAWVz1Chh1BtLS0tzc2tbW0g52wuqFSqUwNpggo5ihnu7enu7u7qBfT19fT2YXFEOkt9wcXfCHT6LIBFm+hpa3DzDAgOjRroaj138siXX3y57cCZ1OxikUTlblA5SGPDOZkZJmb2HT0DoDL8rms8AqK2mXA6g0bp72zNy8mIjYuLSUqrrK7p7Oyor6urqqwsKSnOzMwuq6gaGMJwFN8+qTKrUAOFTOruaCsrLysvr6irr6+uqqqoqCguq+gfRNOZLKTXNSUX8LnowYGW5qaa2tq21lagA+CCrKzM7Nz8XtQYg4UYuKmuJi05KSIisqy6cRRPAmfB53FGhvpyUuNOHz341ZLFWlf1/EIia2tr6hubR7FjIIKAyx5Fowpzs2JjohOTU7r7h2hMNrDJOG60tbkhNyc3KysrOye3qLh0CIPj8MRgl3EivqWxLjcnG2woLa/A4gngjCQiAfBYRUVZQWFxZVVVdU1Vbk5OeUVlbz+Ky+OBLp1MKsZhR0CuQf5Be+9obwf5LyjIS0lN7ekfojN/HIE9I8/R6XIahdxUVxkTEe7p4REcFllUUoqUeH1DVVVlSXFRtGLF8GEsnsPjq/b64QeQtxHMUHlpSWxsbHZ2TlFRYXFRfmJyclZOfv/QMJPFQS5+UzISEddYX52ekZWRmVVWWpqbnZWenpaaDmSeERsdYW56Jyk5BTs+wefzCDhsdQWypHVREbKueUZqSnJiYmZOfk//IJsvlIEesEwi4LK6WhvdHlgt//yjLxctOXDsNEi2uKS0qqZ2aBTH5HDBdbq/pysrNdnFwd4/JLq4slEkloBLxTgeW1VekhAfFxgQGBwanldYOoIlgK6JSMinkPBlxflhocEhIaGFJWXokTFwocKgUcUFuRkZGaC2gzxlZaanpqZm5Rf1DWJAFwUUDYmIr6+pListAzW8sbGhoaG+uLgoLCw0t6CsdxAnEKo/lPVbgE6fBeCxmLLCXJ/guOziarFI5Olgufmbpa+98a6ju98kg6e8mIuEgt625rTUDLeA2CHMGNLEXrTTR9EDKRH+508fXf3N6q9Wr9fSPm9naxsYFBYTEx0c5Hvq2OHTWufs3PwH0CNPOF0uqyzMtTYzMrhj4hsYUltXW1KQ6+Xutv/A9+6+QY0dPaB1yWViPHbYw8neydEpJjG1praupbmhsqzw6qULx0+cjU4uR4/iCbhhjwc2+3ZuW7jwSx0Tu7yKJnAWZOJocW6qkc7llV9/+c7b//p26+6LV27Y2Ng4unmWVFTJpuQ0Mr40O+3G+TMrly1du2FzUEzqwDCOx2U3Vpe4Olgf2Ltn9epV6zduOX3uakp2KWGSAxxRX1Nma2606du1GzZtPndVp6CihjBOYlLG7W0tz2idsXfySsvIys3JMjW6dePG9XvWD9CYkSm5RMRjJsZGujg7xyWnV1TVtDQ3lhXlGhvc2rZpc0RM6tAIUfl5PDvP0+nj+NG89Hjtk0eWfPnF16vWnNa+6OTmnpyWVVJSmp+TceLwocNHj/tEJKEwY6q9fviBTB4P8XO/fv3asTMX45PSm5qamhtr9HVvHD95ysk7BPROkNsoEkFuRtKVi1qXdY1cvAIqyss8ne0unD29+tstDi7ucbHRZ4/uBSfY2DVAnSTlZqRonTzu7uWXV1QGBgcZyTFW925v2bbTwSOgH0vmg06QRMShT1aXF9la3l27bOHCLxZt3bU/ICg4KjomOS29tbt/ksYQCgT1FWWWt/UWfvDOim93GVt7gus0n8sa6u8MD/I69v2+f7/37pIV6wzuWrd3D4IOBJ/LHkP3mt/RXbVs8dKVa0ytHRrbu0fQA1Fhgbt2bje1tIlPyezq7ExNiDK7a7Rx+26PgPBxClssFlaWldzWNwwKjS6rqgP+HRjoTU9LOn38iPl9p5yiZgbrKYX1q0CnzwLQqP6slKTE9MLGjgG5TFaUmXhd++Srf33thr5JXVsfT/EADJ/HqwOD0Izs9IJqIvmJ7wP/U2bK6RwWA93fHeLjevLogTfffV/r4rXohNT2zm40eqinuyM5LsJA7+bGTVtdvQNbuvpB7xvswmLQWqtLbS3MTp3SikpIae/qJU+QiXhcTWWpi73ljRs37ts5jRImxom42oqiC+cvO7t4AkWSyRMUygSRMObp/MBIzzA0Jq9/aIzHZXW3N1ua3F711deX9S1TC2vAeQl4HPwYpqG24sr5UyuWfXVR1yQsJqmtrQ2M3AlEEuj/iwQ83DCqJDv18Hd7Vixb5Rkc140alUokEyRCfXWZv6fzmtUrV61Zb/nAs6G1mycA7pvGYwYyE8NPHDmkp2+YkV+CGcO3tzb7ONucO3/xpsHduoaW0dGx0ZHhquJsS9Pb+/cfSMsp7u3v722usLlvaWVt3zcwOE4iUyiTRPxYdIj/zfNasXHpfYM/Wu8ZeY5OR4ZBuNFhP5cHB3due/f9D89cupaUVdA7MEQkEsGgysZE/9TRo8cvGFQ3tILUwVWchBvJTUs4fPDAdR39hIyC/sFhCvggyOOxYX661y/t3n80IzufzWL2NFWZ3zFY++0G39Dopo5eIoFQU5p33/T2O+99aGJuXVxWXZCV3t7WRiRPjA33ezjZff7ZZ7fvWeeVVtNodOwIOi0pbsfmDecuXQ+OyyBTaMizZCIBaZyQkRx75sDWbzdsPH3henNr29AQGjOqvPciAvUfVLKMhOizB3Zs233Y0NwFOB0MhUH9RPX3PLAyW7748y+XrjG2eDBBYwnFElBDuCxGoK/3xQsXrR09C8prhtDDYQGe169c2vHd9+BaNTyCpdPpo5jB5IToTetWX7p2Ky69AI9FJ8XHHD56OiO3CDc+weFwmUxGT1eHr5tzYFB0bnEzEzpdA1H0t3s7O+IjI0urGofHSFNTcnRvu4fD/X/+/bW9h04Ex6RRGUzQJrkcTlFudnZ2bksPmv67qsIjZsrpAJlMWl+Rd8fg2quvv3nrjmVDxwBfKALhoHlMEkd93B589tEHB46e8Y+IB+0CdMhGh/rdrExOHjt+9MyV1q4BoVj1DD5tkthclX/u1NF9+w/mlTe0tDRnJcds2rzT1NwahycymEyBQCgSi4pzM8MCA5PSwcgX9HOBNOSxoUE71629pGeRlFelTAqM5KenpI42Zju3bbR08a9rU3/uRSYW8KjEW+e1V3+9wi0gpmtgRBnOZdF72+oPfbfj2/UbbdyCu/vRyuEFnYxrKM+7c9soIjqWygRNm5aVHLflm2Xfn9B28Y0EDRV8eshtU+ZkgIfD+tXLrJ19kzOyy7NiLp7XvqFjMDiEQe7mCwTApC11VRG+7gX55UPDeOVBn53n5PTHKM5I1jl36s0339a5fa9jcJQnEIJAHocd4+dy6eSJZWv25RZVKJ3eVFVsbaL76adf6hmbY0l0FocHfCTg81uqCuzvGbw/b75PYOgYDpce5X/04N6PF35dWFHHFyNfKU/i0IFeLq/85dXruneqGro4LDbo64hFAtBZdnO0Xbx4ibmNU0VdqwCBX1dTtX/7hp279+qb2Y+OEZSZBLQ2VOlfOLzru703jO7RQCNSBf9IV0u93e1r3x89a6Rwuir0hx/y0pPOfL978dJVencsaWyeWAIGeHKJWJiemu7u4dPQ0Q+uHFgM6rLW0c2bNh/WulHb0ALOS4Gwqb5q/5bVu3Z/p3/PrrujMTjAe826TSGRsT2oIfIkhclijRMJdZVlpaU1dU19XO7PfuH0C4DDQKe/xCi6P20tTSGB/q0d3VQGolcei5aRGP35h28vWbrqsr7ZKIEkB22SzcpITczLzcWTqHwB4s3fzcw6vaW2xNLM+J/zFrkHRdN5YuUTY4obypLC7PQT+7Z9tXTlFR0jNg84md9UVbp97fL9B4/ZeoaPEchT4PRV6UiEfJap3rUt367TN3dNzcjJSYtfvOiLrTt2e/mHVtbWY0axVBpjeHCgu7Ojo3uIQmUqpCFPigo/sGXzVUOrH50ul8nF/Af3727futHCyfdpThfy6WTDSxe/Xb7aPTD2kdOBHOnUSUvDa3u2bd5x+GJxZR04APgZ6GpNi4tw9wkprW4UCYUjfa1OViavvvLKdUPLoppOPl8gESOA802LCzu6Z8PJSzr2bt41Ren7dm9fs3adm3dQcXnV8DCGQqUTcWNDfV3D6JFJCl150GfnBTg9NUHv3JmPP1ro6u7HFUmUIzDg9ORg7+tntJau2JWbX650ekJk8KE92z5dtOKOhR12DI/D4wl4hK7GCjd7szfe+IeVk0dT90CAq+13u3Z+tuSbyromKahAcjmbQogK9vnrK69qnb+RVVDF4fDAKQCtc5m0msoyF0enorIKFHqYRMRjhtFZ6SmHv9u2Y/vuq7qmmJEfB0At9VW3zh3cuXvPDcOfcXpzvY3BlZ86va+9wdvBdNEXn31/7HRjB4rGZIOqS5/A52TnxManTFLpPBa1s7F845qVy1au0zV1KK+uJxCQMwPjlZqKkisn923dsvnQqYttbU3+Xi7zP3h73YbN1/WNUzKya+sb+1GDWCyWMA6uC+zfNyEBdPpLDTJOFHBAPfByc+3tR/EUD2/IpOLW+qqrpw6sXL5s4459+RUNZOAwKik2MjQ7K4vFFT7+iunvYEadLmupK7E0v/PmR195h8Wzke+ofmw7zTXld2+cW7Rw4eETZ8coXAoZX5Aa9fnHH+z7/mRgXDb5Ca+BDMidLIy3r129/dDZqPiU7vYm3WsXd+/ctnXb9lOnz+jc0jUzt/D1Dy4oLieQKHyBWCEN4PQwhdOtk/OrlQn9VqdfvrR+xTceQXFdKJXTAUIBPycx/OZFrQ8+WeIXGjdOZQHF1FRVBvj7ZxZUokbwoJPZVJZleE3rT3/606kLN0Ji05DvRwHVNQ319YE+7pfPHrt52ywsNnkMg7I2N/lu1/Yt23YePX7yxo2bpvfMvX0DsvMKR7EEPv+ZrsqP8/ydXpSSoK99duHny3z9wiQyMCxCSpzP5aQEe9/QAk7frXA6CJ0K8XPbsm75Z4uX690xawaDL+Q/hOryovBg3xOnTsalZg2M4osy4i6cObFw0dKkzHwyjQXcPYrq8nC0+etrf79lZFbf1qsc/E0j4yHR6PBgQVZaaGhIYHBIYlJySWlpfGzUkT3bdm7fc1Xn7u90usUTTqdNEKqK0ndsXLNz5x7v0ET0CI5OITVXFmRmZBSUVIKYrElcTX7C8q++BH15XVO7jJz8trZWcF6trS3FhXlONvdMTEzsXb1HR0eqygqNdC7v2rl9w8ZN+w8eOn1G65aewQMn9/LqBhrrd841BJ3+UgPqKGNirCAr1fHBg8GhYalcVfGI2OGUMI9dm9d98tnCB17hTa0dZOxAsJ9PZkaWRK5qRb+bP8jpXiFxTL7kcaf3tNa7Wegv+fyTPQeO9OCZo+ielHD39955a++RMzEZJZNPvLUP9pr2tbfctW7VwpUbQ6ITaNTJwswUvesXv/hs/kfzPvxw3ocLFizYufewrZP38BiRi4xUwC6/yengfKVS4DGJYtKPqV9wOuhr44a63B/cf/Uvr+jftaluHeDx+PkFRW5e/p2oERYPOJ9blBZx+dR+4PRDx7UcPPyiHxIXG+Pn4+1gbxMQFl3d2AZ69OVFOaa3dRd9sXDevA8/+OCD+fPnb9q+x8DUprWzjzfLnW5w/tziL1f7+UdIpOpOX7ZyT15BheIrfHmAl8OGVYu++HqF7u27VTXV1eCnuhpcBasqK4qKClPS0rsH0FQmCzvQbmNquGLp166+oQ0dfVQqpbIox9L09meLlrr5h4yRqcpODMizSMgfRvVkJcUYGRpevaHj6OyRmZ2TGB97Yt/O3Tv2AqcPY7Agmlzx8HdLfeWtswceOR0peqmEz+OJRSKktv2806dkkvExtM7Fk7u2bzt1xai2sXV4sD/K3y09Pb25s18gFNEIQ8WpIV8v+nzxstX69+xSM7Ia6uvAqYFre2VFWW52ZkFBYV1jK5PJnCDi6iqLze8a7dq25dMFCz788IOP5y/4evkaBzff/mEC/3e9vAqd/lLD53EG2uoSoiMdXbyR6vhQ1nwOc2yw49r5Ux/P+/CY9s2Q0IjWmhJfX/+cvGKkts4Sp3e31Dvf01uscHo/kYnD9KVGeimdHpVe/FOne9mab1+7ctE3W3xDoyk0GhjPtrY2ZaYlB/r7WJrfvaB9esWKFRs273DyDe/sG1Ts8pucLpNKJydIBAKRSKYjzyb/vNOnp+QiPistIerzee8eOaXtHRKLw2KKiksjY5PHyZMyOfKEZWlmzDWtQ8Dpd+471Hagxklk0MAAlMlJ0vg4Ho8jTUxOAMYJoyPDra3NWZlpQYF+1pbmly9ofbtuzeKvlrl4B3X0/vjmwTPyEjt9KtjXZcu3y77+ZoOjuy8L1DMFLBb4YTEYDCqNxhMIRCIhcxIXG+xz5vABYxNTL9+A5OREV2cHW1s7j4Dwtu4+kUQ1+4VIKBjqa3dztPlm5fKrOoYR8alYHJ5Kp7c2Ndw8e/zA3kOXbtwZRGOA8vjILMoyNadLxQI6hdjaWDeCGQYnD1L8OadPT0+x6JSEUE/t08c+XbImKi6xvKLc3NQkt6BonMIAFxjQT6/OT1z21Zer12918ovu7ENxVCcHTo1Jp9PA2TGA0WmT4wQc8gYGaqC5sSEjLTXAz8vg1rVvli0+cvysi2/0+AQVObH/EOj0lxomnVqalRwWHBoQkYwjkFShoKEi08Awnazvrfp60bK1W65d14kI8gsIia6sbVHFeAZm3ulmd96ctwQ4nSWQPu70hqpSg8snF3256NiZi0Q6jz5JKMqIWfTJPKB4z9AkUKFV8RCZyqZlQps7uhtWLf/u+MXA8Niu7u7qprZe1BBlkoweRDXW12Znpt64rL13966zVwxKKmoVrfJnnW5nabJ18wZzJ9/atl7gAlRfV2tbe1vfKIPN+wWnK0Qkr60oPr53y649e89fvZWVlpSVnVNQWs1kIe8TiUWCroYSM/0rf/6vPxlZ2Nd3DT/+9hDyOgyfRyJN9PX21FYUlVdUNbV1kMnjw+hB0KTzcjJMDG/t3LzB6K5Vfokqt8/OC7ifnpJgeEF7yZerAwIiZA9HjcDpqSE+N8+eXbbyu4dOn06LCz/1/Z6FS1bYOHoIJU/clxMI+AQcdoJCo9Lo48NdiZFBRvp6EZFRBYXFoLebn59bUlrWg8IwFB+7EhaDlpkYdu70sXc/XODk4dc7iEH64z/80NvVceXM4f17D16+ebevr59MIg+iR8EAq7mu8qbW/u07d183MKUzmGI+izDSn5YQ09LU8MjpdkZXDx87p+Z0ABgQ9LfVWpsZv/veh9d19F29/GwcXGubWvki0GuZEnIZXY2V2zesXbd+s4mtZ+9jcwohX9HLxKAPgRrox6C6mxrrc4vKJiYpYNxGmZwYGuzPz067q3v55Klz1w2sMFjCYx/JbwU6/aVmkkyKCvQNCgzPLG6YQL73e4LkmNBjB3a888FHK7/59qaOXlRiTg9qBp6Bm3GnW9y7/c/3F7oHRtG4okffkUolkpyM5P071i1duU7HyELx4LCgta5s36ZVu/fsNb7vhh7FKb9eA0hFfC6NeOvSmTUrV96z94uNT81MT7Fy8s4pqkReQVJYAwyp89Ni7+nf+G7ficysfKTxTE8lRiqcbmCVlFcNIiE/Sqffv7tl03oTe6+q5i4wGGqoLs0vLCqu752gsYHTBYjTL367/CdOV4Dq6fC0NdmxdcuKVWtu69+Ki0/o7EMrnygF11oKAR3gbv/ma6+evXIrMaecyxMgnx5isGkBlz2Ow9bUN6Wmpob6ulrbO4THpfCFQkX+kZ+a0nwbEz19w3sJKTnKYz07z8npihMEHzg4XGFynMF57cVfrPL3DwMVACQF4LJZKUFeN5DvSPfk5JaCMQ2I3VhRfP/2rfkLPtc1ujdGBr1y5B0uEC6TSceJ+KL87OaObhQG29dQGBnkbW5l39XdQ6cz6HQ66OOCasnhcAVCoUQqBbuALEySiU4WBtu3bPj4q3UFpRXKGyxymaytueH4wR07d353+aZJa1NTV0dXQXH1JIXWUl+le/77rdt3Xrp1m0Kj85iTQ92N/p4uZcVFIHPgRDoaa2wNrxw6omVwz4nBRFqB4iwVpzsFKhErJizgk/ff/WrpyuPnroUl5w6Nqp5WmpLLcCPoq6ePbtmw4fszV2rqm5WZBEglIh5jorG+JikxoaGiICY64o6lXVdvv1QqU0agTZKqCtLuGJtqXzUeGsE9vNv6HwCd/lJDIpH8fPxjE9N7hokcHvJM2ON0NVc7Wd15/4P33/5gwdZ9x3PK6ijMJ3oTvw9QsWbQ6a0NZRZ39f/2+pugN1TZ1KV8sg10c4Z62uzv35v/8UdaV3Tj0gsU97LlBOxwmI/z8aNHNu04kF1cOUFjKdMZRQ/EBLkf2Lf34OGTVQ2djfV18ZFBu/d/b+vkQaIyRGJkvQuwe0ZC5D1DvfPXjIrLasCfUokwwt9787Klx8/qRiTlq8Q5JZ+WSzwcrXZuWX/6qnFmYSWXwy4rzMkvKGjuw9DZPDACYoxjr2qdWvLFYmungObOAWUeHsGgkDrrSk4c2PvxBx/t3H80OjFN8Ro3ckt3empKLOTVlBVeP3dix+69V3SNB4ZHuUD3iAzkQwM9oF+fkV+Wmp4RG+R67uwZwztm4xM0EdKXR7JWVZJnfVffxt41v0T1lM6z8zydDkY8lAlSmI/bsT273n13vpkl8uwgmwN8zsJiBj2tTQ9s2/bevK/8gqMIpAmhSDJJIlYU5Z45/v3xk6fM7V1aOno4XD44NB47XFqY5+joXFnbQGMyGSRMmL/b3t3bL164oHNLT0/PwNDQ6J6ZuaOza2pmbnf/ILAYyAJ1khzgarNn2+Z/vvdJZHwqlcEG50XGYzPiI7evW/HN6jWHT5xLTYgrLSrOLawCI4DB3g4/e5OtmzYdPHYaPYYfGugqy03z8vYrr6qVyWV0GrUgM+XKif3frNly4pxuTz+axeGBXrPK6eDyJZMW5qYf2Pbtp59+ceDYubY+DBjkIduQrVNg0JCdEqtz9eLSFStdvf07e1HgMiYWCccw6KTo8PCIqKS07L7Wak8Xu+Wrv/UPiUYNj4E05XIp+KBC/dwsrewcvcKJJIrycP8R0OkvLzwOq7uzw9LaIToxYxx0cR/OwvgIGhmXmxq7aumieZ98sfmAVm1rt+ix+UJ/NzPodNBLAk63NDV47R9vndS+Epuc2dvXPzw83NXRlhgZbGygt2f/4ZCYpH4MTnkIHoc90N3qaG9z9NgJ78Cw0spa1CCqv78vLzsdeQ/zlr6LVyCFxkKjehOjgnfu+U7P2LS6vrkfNTQyMoJGD0aGBj6ws/MLi+vs7uOw6Kj+blc7q+1r1xw5fsHdL3KMQEKuKNOg1yzPTIzWvXrhyOlL3gFhbe1tyYkJRcUl2PFJKo2KH0XXlhVeOHMKWMDQxCo7v5Q8SRU/tkySRCTg0EjmRrqb1q0/cVEPXHtkU6o7DEqIOGx+esL1a1fOXbiUlJbZ2NI6iNwz7SsqzIsICymvbQKfamqkt9bp4xcuXauqbQL5Hx0dGR4eSkuOf2BtEZuU3tU3pErrmXk+TgcpgIslnTrZ1lTn4WR3+ujh1d+sv2NqWVpejcURRjDo+qoSO/M7xw4eWL12ywNn99qmFiqTIxCKyER8bETg3bvGV27ciktMaWxuRaEGy0uLkuLjAoMjOrp7uTwuETvo42a/dcMa4JD9Bw59//2Rw4ePHDt2/LTWWR09Q2cP78q6pnEyhcNmleZlmBjqrft2k4dPQE1DMwYz0lRbkxARanTz6pkTJ86c1fb39srNyWts62Gw2JRxfF1Rpu61K9rnL+YWl+bmZCXHRSel53T1DQL59vd2RYcFXT5zfNeufecu3srKLxvFjUsVnX/VOf/wQ2drg72p3t7v9t0yMJ2kPzFbr0QsImDR8dFh2mdP3rexjU9O6+sf6Onuqigt8fX0TEhKa2juwA12hvp7bNq6/YGzR2Fp5TAGgx5C1VRVeLg6hUbElNa0gquIKrn/BOj0lxfs8EBGUuy5Szf9Q2NpLIFYov6EIugqoHo7tA/v2b59l9ZN017UMGhZqm3PwAw7vb70vvnttz747JT2JV8//8jIqNDQEHc352uXL5lbWmcVVY5PgM4IAoiv/KWvuz02IujevXsWlve9vL1cnR2t7lvqGd7OKijBk6mgR4zFDOVkJOsaGBjeMfXy9g2LiIqMigoNCXR2dQ+Ljh8bn2TQKaNDPcH+3ga3bh47fPjkidOm5jbJWSX48QlwDPCDQ6MyEqLPnD5z46aOs6ubt19AeVW1UIi0w5K8jPtmdy9onzty9NiFC5dcPXzKqhuYLLUpMKfTEmPsbayCYjK6USPKENVmZOgNhgiiotwMR1tLPV09W7sH4MS9vDz9A4ISktJJpAncyFBOYrixkcG16zfdPbzCIiJjYmNCgwPc3NzcvXx7B4d5v2uij6fy/Jwul41hBsG11sXpASg7gJW1rV9AcEtbZ11tVUJUkL2dzd27d03vmljb2kXGJY4QKVyhGNQQIZ9bX13u5mBrY2PzwNEZfFbePn6JSalDGBybw2My6BXFeXb3LY4dOaqnb2hucd/a2trSwsLI0ED7rNaK5cu+WPz1eR3T/LI6MNTjcFh11RXO9lbWNtZOLm6RUdHRMXGZGVk9ne3xUWH3TIxA+nmFpXQ2VyyRymVSmVBQnJ3h6mBncd/KzsElPCpuAINl8/h8LqcwN9PL3cUU5NjExMLS2sUruLm9F7l1+FhBTxDGaguz/H39QbGKxMhzxqoNDysJbZLU3lDp5e5saWnh6e3r7e0TFBSSlJqNGsKAGkInYStKC53dPAICAsLDw8IjIsJCQ4KDg30DQ5rbu4TIk/2/p91Bp79cgHogl0lIBGxeRrLLA+vLF85t2rJd++L1wNCY9j40g/vk7ZfpKRIBF+ztamfv6BkchyPOzOoNIA8zeO9F+dzLWx8ttnL07Owd6O3paW9va2xsqKut7eruAWNw0FlTxX4Ii0kfxaA7OzuampsaGuobGhoam5pbWtsI42Q+strvFOiR4bCjLa2tbR0d/f39nZ2dbe3tHZ2dIEHMKJYnAO1LxGUzQa+ntaW5prq6trauo7MH9NP5ijs/AD6HjceO1NXVVldXg9T7+vsnJieB/vg8DomIB8MjcNzqmhpw5P6BQbV+upKx0ZGerm70CJ75kwnWwQc4NYVMz9TX3dmMTMzU0NTU3N7R0dePwo7hBQIhl80aGx5sa21tbmoeGOjv7u5qR/Lf0dnVNYAaZLE5YJyuSuuZeY799CkwzMKOoPv7ekGJALp7egaH0DQ6gzI5AcJ7e3s6OsBZdoBwUExcPjLRJvJJyaTUyYmBvh4AGMYNDg6hBgexYzgOly8U8Af7e4z1dc0trKMTs2rqGrtAGfeA/m5Xe1tbQ31dRJCP/o3Lq9ZucvMJonH4ApEIHKu/t7u7pxv0izFg+DY6SsATwIUBO4Lp7GgH6RPHyYjQQYcbnKRcRiLgB/p6u8Aevf2YESyby5OAWiuVjBPxqIF+kFsAOGY/CpwIU3mPXnXOP/wg5PMo44ShwSFQrOBzVoU+hlgkoFMnQDrIXJJgyIkaRKOHx3DI/ShwbLGAN0Ee7x9AodFoDAZ00zFgCAt+H0QPK46FfKiqhP4ToNNfLkApyqQi3MhgQkQQGIbr6966du3abWMTN0+/xo4+KuvHCe2UcDns9ubGyuqa2ubO3zc7xE9B8jCD99PrSu6bm7z58df+kUlckYzH47JYTAaT9WtVDdTmaaFQQKdRGSwWshrkY/UbtB+5ap3VafAbm82iM0Dfiyv5z6aoRXYXCAQs1q9m5ikgTkCy8EutDvnKUCYBZUSn05EXSh++C6YIlk7Jld+dyrlcDogA8q/8YmBmeT5O/4OQiPltTbV7d+64bXK/rhPD5Ki/Kz/QUe/jaPnxx5/eu29PZnDFz/a2nWYAnf5yAVoXuIAjT7wR8eNEAhl5unmCBH4jEBBnPZx2+RGg7UnEYmSuEzHyEJUq9NkAeZhBp3c0lFpbmrz50VfA6UL5NBi8KvllG4JcKD8MoKSH0X+Mj/yhQPkr2CxH3iP51TTVQHZXJP6f7oiAHFiB6u+noYwA0leexaPIynAA+A38/DTCDDLLnS5oa6rfv2uHju7t3PJWCv3HJxeVtNaWOFoYf/nlCjtHTwZXALrYqg1zGOj0lwtFS0cewBIhK0iIZWB0CoamEgkoJ+BH0OpV8Z4EhCp/ZgSQgRlxOp/HxWMx8eG+Z08eefXv7xmZ2TQrJjIViWfsZjHkV5nVTgcNYWxk2MPJ7s5tY7P7DrkFJch6EQijqIH+5oY6Xw9X/Vu3DIyt8ourRMgT7i9Ftl8s0OkQdWbK6XTqZEdzrZeL7emj3y/68usb+sbJ2flDozg2V/0OEuSPY1Y7HcBlszqaagN9vfR0DQKCQnNy8+sQakuKChNioqytrC2s7AsrGvHjT19BaQ4CnQ5RZwad3tlaX5CXnZSYGB8fn5KaVlJeMYzFQ6c/T2a708E4FQz4SERCf293fW1tdVV1LUJNTXV1ZVVVZ1cPFkdgspHnWFQ7zHmg0yHqzJTTBXzQFHGjoyMYzAhubGx4eHh0FEtnsv6IbwIhP8dsd7oS5SqjZNI4qEgKsOB/ODwBeUboyecLIdDpEHVmyumQlwHNcDrktwOdDlEHOl2TgE6fa0CnQ9SBTtckoNPnGtDpEHX+OKeDlBFAcopnsZ/zTVDFsX//A+mzlBfrdMVH/lJ85sqcKN92UAVpKNDpEHVA1f+jnD4ln5KK6HQankgS/q41XJ4FcBZsJp1CJk1QaHyh+iSXmsqLdbpcLuVzmROk8dHRMb5iOuIXhVQq5rCZaPQIiTSpCtJQoNMh6vxBTge9NR6Hhe7raG5qbGrrZnO4UplUIOCD9FksFnAK0A34F/z+FBSTZYPLADJDyPS0WCTigAaKTDGA7KhMAVk75iHgTx6PD3T2+GUDnAWVTOzrbC8qKkWhR3gC0Vx4ReUFOn1qSs7lMDtb62uqqxoa20FpgWRlUqlIKOTzeCAnPwJKi69Y5J/PV4U8BISLxRJwFiA1Pp+nLGjwL6gPPL7giVWYwThgeloiEYNqBCIo4iC/gOohFIqEAt4kiVCUl19dVUsgTYK6pNpL44BOh6jzBzldLpNiMShvFysfb6+sgkoqncnjcYiEsb7e3q6u7gEUanAIWcSrp7u76ycgczuhBkmTFK5ACDJDoUwM9Pe2t7d1dnX1Dwz09fWBOG0KWhUoJ/MSisWP5xvsSJsglhXk6FzXiU/KxOAn58JDzS/Q6TKpGI9Fuzrcd3f3KCxtmKQykAU/uexJMgk7OjI0NDT4kGEMZgyHxxPwY1jsj6GDyIxXOByeRmcIRSIgaxwW09Pd1dLa1t3dg0INjWIJnMdno1U4ncmgD6H6e5CZvnpQAwOgYvT29Y2TJ8FlnziGCXB18HB1S8kpHZ+gqPbSOKDTIer8QU5HD/RmpiRY2dgkpaZjceOgo0SlTra3NqYmJ7o4OencvHbp0mVdPSMv34DI6JgEBfFxcdHRkZ4erndNjE+fOePpF1rb3C0SibEjw+XF+dHhIffN753XPndLT9/RxTUjMyMzMzMjPS0pMcHf19vxgb2Do0taVh4GS1StKz89LRLw0P3dcWEBXh5ekTFJVDrr4UpKGssLdHp3e1NMWICLmzsoBTwRmYCTQsTXFmQ52dkYGd12cfMIDY9ITALFleDl4WZiaHDrlq7FfevQiOiEhEQQGB4WYm9rde/ePXe/8Ma2bqFQ0NXWnJuVHhYSdFtfV1vr7MVL19OyC0hUpmp9fYXTxwk4UDf8vD1M7ty+cPGy+X2bqNjE7j4UuDDw2KzetqaYiHAzi/uF5TV4MhWcuCKnGgV0OkSdGXc68sIIn5uXkexoZ+PuHwbapzKcRp3saGtKTUq8Y6i/9IsFb7/978VL11g7uoVFxiQqiI+Pi44Kd3Gy0z5z4pOP3j+lfTUiPhMMufHYkarSouiwwNNHD77599eWLFt1RUcvNy83Pz8/NycnLSXZ293F4Nb1XTt2XrmuGx6Tgh7FCx++6MRl0dE9TZ6uTmZmlm3dKCZbw19qfSFOl0mlXDYzMTrM8Nb18Njkrn60Mhzd2xXoYHlo394t23eZ37f2DwyKA2UcE2Ooc23Vos/f//eHW3fu9QwIiYqJjY2JCfD31dO5evjQgcNa1xPS8wUCQU9ne0F2eoif5+5N69/75z9fe/2NG/p3S2tbOTwB8tqR4odExFeWFLg52pw6fnjhwkUXr9wMj07o6R9iMNnId7UycUVxvpHudQ/f4Iq61ofrHmoU0OkQdWbc6XwOC4/udHW0MTQ0bO0ZYHJUGgVHAbrhsNlF2emHN66Y98Gn67YdaeoanKQ/WkQeWWedRqNWFOfqXjh27foND78QNocjlUh4PDaTSnK2MXv3769u3L7P1S8UufmqgMNh0ykTLQ1VOhdPrftm5cq1m+JScvEkmvKgU4olxMCIwfa+hV9oQmsXShmuqbwQp7NZ9O6Walvr++cuXm/q6OHwVVPkd7a1mBvduqqjb+fmix3DM4BoFWUcHxKwa9WSf731wUnt67gJGhX5ogS5b97VWh8XEXTxyq3YxAyhRAa0zqZPEtA99w10v1n0xWuv/O/Sb9bftnAYG5+UylVOBwrjctljw/0ZSbHnz2rn5RUwWWyhWAw+B3Ca09NTI4M9KVGBeroGnr5BEmSBKmXWNAfodIg6M+503OhwfJiX8W0jM6sHuPEJ6RP3O0CTmmqoKDmzfc38+V+u/+5MH4YolKpFmCbhR4rSIh3tbX39g5gcDmiHyEoKIo63s80Hb7y6dfch39A4VXQF01NyMhEb5ee8b+eWN995/7rR/cLKJiQh1fYfOptqg308tC/rxiZlIctba+4tmBfh9GkCbjQiwM3SytrOLWCUQJIh4kR+OtpaTW8bePiHFVQ1PfyWEoRPZcVH7lu77F/vfKR1RZ/BFz+aBh1ct9ua680sbZIzclmKNTTEfDYFhwpyd7t+9typI/tWrlq9YfvekLh01DBOuQtgakrOY1GbayttLSzbWtuU09Q/gs2k9XU2md42vG9l0zWEf9TD0Big0yHqzKDTkY7R9FR7c8P188dv6hp5h8TTGKplox+CNOnGyhKtHesWfLpk/T6tnmG8UCJXhCNrtwO/IP8KeVzKWFJMRGR4OIPNAUNm4HSRgOXtbD3vrVe37VF3OoDLondU5l89e+Ivr/7tm+2HvUMTkBRVG3+gEEdzUuM3bNhi88ANP8EQ/mStV43h+TtdLpP0dLbqXjln5+iSV9nCUK4DhXSipzo7OyzMLXJKqkfJDNVNcEUFyE6IOvDtirf/vUDrqgGdC0rj0dMsUwQiwcvXPzO/eIKBTNQl4DKIw90J4VF+bl7pSVEH9+2a9/H8g6evJGUUCIQiueLaPD01JeCyettaAj08e7t7ZU86HWznsJkeDlZ379wJTS4aHhtXBWsK0OkQdWbW6TKZqKq8ZM+2zVYP3Cqa+3gCtZXqkCb9M06f4nJYRAKey+VJxCKpgF1emJudkU5hsJGlx37N6TwWo6+29Mb50//7l1e/WrvL2SccpPioaUuE3Nb6ykN7tt+5e6+8sYsxQ0tEvYQ8f6fzGOTKwqwD333n5Rs4RqaLlA8XAa1OyXp7e52cPWsa2yksHsiYIjpS0D/v9OnxcVJQcHhWfhluggk2KJ0eHRQWExZLJhEdbczWLF/07w8+1Dc2b+8b5vKQR+ARp3OY3a1Nfq5uPd09P3U6n8dNiQ01v2d6Qd+ivqVTFawpQKdD1JlBp4Md+SxqXmbqurUbvAIjR8bpP1ldDGnSj5y+Yf/ZASxRjKy/joTjx0arykvxRJJAJJmSSYYH+nq6OtlcAeji/arTWXRKbV6q9vHvX/3b6zsOnQ2LzwQpPmrayPLcfZ03tI8ZGhlGpeSRJ1V32zWP5+/0scGuhDC/7dt3hYRH80UyZd9Z6XQikVhYVIbB4vlC8cNDIAX9807/gclkVVXWtHf1UZg8iVSmdHpkQEhCVKJELCnLz9S/ovXOW29s3bnXIyASWdpfhiw0qnS679Od/oNIKKguybG5b7Fu5+Hc4gpkF7UYsxnodIg6M+h0uVxGwQ0lRoWsWrc9KiGDo1h3XbVNBdKkVU7/ZMmGfVoDWLxALBGLRQIBt7G+xs/Lo6sPxRFIQK7EQE58gXJu1Sed/r1PSByQlxIZGPxLJISxkZhA14N7tr3z7w8MzR0q6jtUB3zIKGbIzlTXyNDA0TNkDK9pA/BHgA/kOTu9ubLAzcZ0x+790fFJym8uEcD/TU+BYmWx2SIREDo4pmrDLzsdVEUOm83l8UAg2Evp9Aj/4PjIBLFYQhkfy0qIXPnVF598tnDXoVMVdS0sruBXnQ6qV19bnbO9zbyFy2OSMzlgYPgM5/uyAZ0OUWcGnS6TSXubq/w9nbbtP5GWW4Q0HfUOEdKkEafv/HbBx59/vW5XQnp2TX1DTXVVUmy4laX5hSs3G1s7hVLkoQVk1U4gdIUOHnf6+q277Vx8xxWAniCegO9obYqLCD68d9f2bdvPXLheVF47SVO7j//DOH40zNPG+LbBbQuH4ZExVajG8fydnpMad1v36t7vTyalZSEmV6kb+W1qSg4UA3ruSBE+3PDLTgc5AbuACgl+AbuoOR30uNH93X6u1nt2bPnok4WG92zLa5p+1ekyqYSI6fNxd3zznQ/cAiJGyQ+fcNcIoNMh6oCWM1NOl0ol1QVpTjb3Dp6+lF9aAVJ5snEBkCbdWFV6dtf6BfMWfPrV2geunhFRMeFhIRYm+qdPndx7+ExtU5vkJyv0q5zuYvPRW6+uWP2tnrF5bW1dbW1tdU11RWVFUnysywPbc2e07t6zSMrIJU1QfnoGFDIhM8bPxNjo0q27A0MYzXumTcnzd3pcROCV86cPn76YnlOgCvolkArwC05XQ83pYGcehzXQ2XjX4OZnC+Z/u2mHk4ffBI3JZtJ621t+zulymZRBxgb7efz99TcsHni1DxLEkp894qwDOh2izsw6PT8p3OrOrVMXr5dUVIOW9RNzIk1a4fQNC+bN/+jzpQYmZg7OLo4O9rrXLh45fOSXne7jijh94cJFR0+cCw4ODQ4OCQwM9PXzBRXa1c0jt6AEMzqG7Img2vERDAq5Ijve1PjOSW3d7gH0E1PDaBDP3+nh/h7aJw+fvnQzp7BUFfRLIBXgWZyuLN20hOhDOza89c9/HjquVdnWP0mZHOzu+Fmny2VcxkRksP8br/3D8K5DVdOgSIMefIJOh6gDWsiMOV0izogMvHfrutalm2WVNarQJ0CatOJ++rcL5n+xYvP+vLLKrr6+3t6elqbaqIiwe2bmrR29fJEM5Eq1h4KH/XTrj9565Zs1G83uO6DRw2g0WjmLSF9fX3//AHGcxOU+Nh/Ik7Bok40FqRZ3jI+eutzRg5JqzuD7CZ6/04M9Xc4cPnDumk5ecZkq6Jd4VqcrQfd3RwW6r12+eNnyleduGJdX1bQ1NwV4uPf2/PRZRuQBdgGbFh8a+N5fX9c3siyp7dCkKb2g0yHqzKzT08L8TW9ePXtJ59ecjjz3svHAuSE8SaJ6RUU20N+dnBA7hB7lCZHvSFV7KHjk9HlvvbJpyx5Pv3DVht8Mm0ZpLky3NL595MT59u4B6PSZcnqgh/Pp7/drX9fJL3l+ThfxOYM9LfpXz65c9vUHn3zl5OadnpEZ5OXV19v3VKcLObSE0KB///U1fQOz4upW6PRfADp91jOzTs+ODrQATe3Sjd/i9CefT5fTaZRB1ACNzhBLpL/o9N2/w+lM2mR1bpLp7dtHT16B/fSZ7Kd7u2gdPXD26nPtp09PTbFZ9MqC9CvnTv3fK6/u3H/4zr37Qd5+/X0DT3U6n0WJDgl4E+mnW5XVdkOn/wLQ6bOeGXW6pCQ9xtbU4JjWlaKyKlXoEyBN+mecPi0WCdkslkgkVj4podpDwbM7nTZJKkyNNDG+feaSXg+8nz5zTo8M8j5/6ujxc1ez8opVQb8EUgH+I6ePY3qUz6c/7nQA6ECQCSOhfh7frlyy5Kuvtu74zsTkfktrBxj1qTtdLmPTxsMCfV5/7e/GFk517cPwfvovAJ0+65lBp8uk0oaybFd7i71HzuUUlikfYVNtU4E0aeD0MzvWzv9k8YZ9Wr0YvPA39JlBsxQL2cDpH775ysbNv8fpkyR8cqS3sbHRVUMzFHpELVsaw/N3enJ0yI2LWgePnUvNzAOf6q99sEgFyIqPPLBu+dvvzUeczkOWPlFt/AkCDtJPD/cPiouMF4uf7FyDqjUta2ussjK+sXjhJ/MXfHb8zPXK6gbV1seQy6RU4kiAj9trb7xp5ezXPUz+hSPOOqDTIerMoNPlMhm6qyHE1239tgOJ6Xli5K0RtTaOtHqV0+cv3PDdyQEsSST7NQ+AfaZkUxKer6vdB2+8suF3OZ0wNuLnZHnb0OCejQvyeIwqWNN4/k4vzko0M7i+e+/3CcnpSOmqgn8OJIpiDq+l/3pnHnA6WyiTyH726HwWFTfQ4uPmHhIU/jSnT3OY1N72hqMHdn/x2cLdB84Wlz3ljp9MKhlDdXo6P3jr3Y99w+LG6TxNmsQNOh2izgw6fUoup42PpsRFrv12c3BU4gSLL1XN8oHAZjGHhwZqa2o8nB02LF34zjv/XrxyQ0BYTF5RaWNTM55I4v50BUuk3U6RxvFtzfUl+Vk3Lp1787W/LFqy4upNw5Ky8r6BQSqNoXoZ/VeYwgz1m+tfAU73Do4ljJNVwRrH83d6T3Olv6vttu27I6Ljn/aWGYJMIuYyaKje3qrKirLS4vsmRss/++jv//jX1t0HE9JzCgqL6+sbegcG6QymMv709JRIKBjs78nPTPZ0sDx57Nj5C5cTk1Pau7opNAaorspoANAHZzOoXk7WZ44d3f/92ZKypzxBKxGL2uvLHWytFi3fmJSRzxNJf/J68ywGOh2izgw6HSQlEfFKCnLWr1vj5BnQNTz+aG0KAH5stDAn3cnB/szpk0uXfLlgwYKvl644o33J6I6ph7dPXXMbmUpXRX3E9NQPU7L2lvoQP08TI709O7fP/3jeoiVL9+w7ZHLPPDk9a2AI88QalT/DlFzS29Vy/sR+49vG6flVFJrKHZrH83c6lYjOTo7cunWbX1AYUzFBrmrDY4h4XPLwYEZSgo3VfXPTO8cOH1z0+acffzz/m3UbtK/evG18x9XNLTEte3gUq4w/PS1nM2nZaXF3jXR2bF6/ZMnilWvWnjynHRod1z+EET3ZYZdIxEDZof5eV64Z1NY1/tTpQgG/KCvZysL8u2OXy6sbfhphVgOdDlFnZp0+JZfV11Qc2bfD8K5lYk4F67EFJBXrHDXn5mTHxcdFRUdFRUbFRMckJyenpqbmFxQMDo8w2RxV1EcgTpePDg9WlBSkpabGxcZFRkZGRUfHxcUnp6Q2NreCHrfsN7znzWVRKktyd2zeZGZh04Ua4/KFqg0ax/N3uljAbqotO3n4gKObVxsKx1WfiRNBIhQySMTm+rr0tLSMtLSkxERQ/lGRkbGxcUkpqSkpybm5uXXNreRJ1aqhwOkCPqe1qS4rIzUiIiI8PCIClHtMTE19IyhxNW1NTYELABWDHqysrB0nkX+qbB6XE1f7QoMAAAdiSURBVB7gee+uiYVzYGffEHT6LwOdPuuZQacrGsv0QG+n3T19XX1DB89ACo3+qP0I+HwyaXx4GD2ERo/hcHgADjeCwQwNDQ1jMDQ6Q/TTJ8wU916YdBpuFINGo0dGRvF4Ag7sNTKCQqGI4yQOh/tbcjs62JMYFbr/wDFv/zCqYsI/1QaN4/k7fXpKhh7osTY1sLS1D0/Om6QxfmpMmVQq4HLGCXhQaqD4FeWIJ4DyHxvDYIaHBlGgcPHj41y+asEK0DeQSsSkcQKyFT08OooFJT6AGiCOj4MSB+eojPYQcEBkvjA6UoVESBVUhSNIRAISDmNncc/snll+VQtxQtOm5IROh6gzo05HoJLxtQXJd27r3zK6jSMSZc+W2jMCzm56aqq6ON/V3lbvjm1ecbVqg4by/J0OmCQRc1Oj75rdu2FsMTw69lLNesikjHfUluhcvWZl/YDFl/zC97GzFOh0iDoz7nSxUAC0Hh7sZ2ZmmpZb+mJXlgHdNOYkITzA19T4TmZe2QiOpNqgobwQpwsFPMLooI+n65UrV3KLK/FkqmrDS0BrY62TtZm5pV18Sg6yuIrGTd4GnQ5RZ8adrqSuqtTf293G0aOwrJrD4/+Wu94zCzgvuVw2SSLUluQ5PXCwsXNCj+KFmrtqnZIX4vSpKblcKirKSbexuOsTGFbd0CoQIqtjqDa/EKanpRIJbYKcnpyoc/16eExyRy8anLhqqwYBnQ5R5w9yOn2SWFmcd0Fby9PXd3AEyxc8768lwXmJhfz2xoa7evp2Dh7JOWVMNkcjW/XjvBCngwQBEwRsdUnu3bsmweGRONKkQPSUL0ufH9NTHCa9rjjPz8vH9L5jd/+gRIbM9qnaqkFAp0PUARX9j3C6WCTAY4czUuOyc7Ia2jpYHM4MJPqfAM6CPjHe1lAfFhxeWl4zihsXK5fK1GheiNOVCPk8UOKZqYmZmRmNbR0MlvqyJM8TqVgEhmi5GRkZaVnV9W00OgvoXCOv59DpEHX+IKcDJGIhbQI/MNDX2tXN5nKfv9OpJPxQX29zS+eE5i5AqsYLdDoAXMhxw6jO9pbGljYm80W+BCARCSjk8Yryqq7OPoFQKtO4r0YfAZ0OUeePc/r01JRMhqw1KhSJgGuecy8JOS8p6K6JBEIhOEFVqKbzYp0O0gHlDTIAPnOQE1XoiwCpe1Ipn8cHlU+5/KFqg8YBnQ5R549zOuT582KdDnn+QKdD1IFO1ySg0+ca0OkQdaDTNQno9LkGdDpEHeh0TQI6fa4BnQ5RBzpdk4BOn2tAp0PUgU7XJKDT5xrQ6RB1oNM1Cej0uQZ0OkQd6HRNAjp9rgGdDlEHOl2TgE6fa0CnQ9SBTtckoNPnGtDpEHWg0zUJ6PS5BnQ6RB3odE0COn2uAZ0OUQc6XZOATp9rQKdD1IFO1ySg0+ca0OkQdaDTNQno9LkGdDpEHeh0TQI6fa4BnQ5RBzpdk4BOn2tAp0PUgU7XJKDT5xrQ6RB1oNM1Cej0uQZ0OkQd6HRNAjp9rgGdDlEHOl2TgE6fa0CnQ9SBTtckoNPnGtDpEHWg0zUJ6PS5BnQ6RB3odE0COn2uAZ0OUQc6XZOATp9rQKdD1FE6vampycDAoLq6GlgAtvDZCyg74GjQwm/fvt3f3w/crdrwGKDEwZUblPXNmzdLS0vBZQCEqLZBZhtisZhKpYISB1do6HQIwiOn6+vr5+fn43A4cNkHtQQyG6FQKBMTE9bW1mDUBfrpv+z0a9euZWZmgl1UO0NmIePj40NDQ7a2trCfDlEBWjjo3LW0tACnm5ubOzg4eHh4eEFmJ6DsXF1dtbS0DA0NMRgMn89XFfNjgBIH4cDp586dMzY2dnNz8/T0VO0PmW2A4gZCv3z5somJCeiQgf6Zqph/L9Dpsx7QwgEjIyPR0dGBgYF+fn7BwcEhkNkJKDtQiC4uLjExMaADLpFIVMX8GKC4QTgKhQJl7evrC+LDEp+9BAUFgUL08fFJSUmh0+nPfuMUOl1DEAgEZDIZjUb3KeiHzGaGh4dBaYJhONC3qoAfQ3ERR7rqBAIBDNthiWsAWCyWRqM9eycdAJ2uIcjlcpFIxOPxOJDZDyhHUJqgy/YLTgftH1zIuVyuah/IbAZcocVi8Yw83QCdDoFAIJoDdDoEAoFoDtDpEAgEojlAp0MgEIjmAJ0OgUAgmgN0OgQCgWgO0OkQCASiOUCnQyAQiOYAnQ6BQCCaA3Q6BAKBaA7Q6RAIBKI5QKdDIBCI5gCdDoFAIJoDdDoEAoFoDtDpEAgEojlAp0MgEIjmAJ0OgUAgmgN0OgQCgWgO0OkQCASiOUCnQyAQiOYAnQ6BQCCaA3Q6BAKBaA7Q6RAIBKI5QKdDIBCI5gCdDoFAIJoDdDoEAoFoDtDpEAgEojlAp0MgEIjmAJ0OgUAgmgN0OgQCgWgOT3f622+//f/+3/+LhUAgEMisAqgbCFxpcsCP/XSwAQKBQCCzjqf00+vq6sohEAgEMgsBAleaHKByOgQCgUBmPT/88P8B6aMkgree0qEAAAAASUVORK5CYII=)"
      ]
    },
    {
      "cell_type": "markdown",
      "id": "4ee22879",
      "metadata": {
        "id": "4ee22879"
      },
      "source": [
        "$$\n",
        "    PRE = \\frac{TP}{TP+FP}\n",
        "$$"
      ]
    },
    {
      "cell_type": "code",
      "execution_count": null,
      "id": "4ecc0bcf",
      "metadata": {
        "colab": {
          "base_uri": "https://localhost:8080/"
        },
        "id": "4ecc0bcf",
        "outputId": "771cc6b6-ccfa-4230-c1b1-4dc22db3df5b"
      },
      "outputs": [
        {
          "data": {
            "text/plain": [
              "0.975609756097561"
            ]
          },
          "execution_count": 26,
          "metadata": {},
          "output_type": "execute_result"
        }
      ],
      "source": [
        "40 / (40+1)"
      ]
    },
    {
      "cell_type": "code",
      "execution_count": null,
      "id": "f664a2ba",
      "metadata": {
        "colab": {
          "base_uri": "https://localhost:8080/"
        },
        "id": "f664a2ba",
        "outputId": "47b9a787-1eed-4a00-ba0c-dc571f13fdeb"
      },
      "outputs": [
        {
          "name": "stdout",
          "output_type": "stream",
          "text": [
            "Precision:  0.975609756097561\n"
          ]
        }
      ],
      "source": [
        "from sklearn.metrics import precision_score\n",
        "from sklearn.metrics import recall_score, f1_score\n",
        "print('Precision: ', precision_score(y_true=y_test, y_pred=y_pred))"
      ]
    },
    {
      "cell_type": "markdown",
      "id": "1d965f99",
      "metadata": {
        "id": "1d965f99"
      },
      "source": [
        "$$\n",
        "    REC = \\frac{TP}{TP+FN}\n",
        "$$"
      ]
    },
    {
      "cell_type": "code",
      "execution_count": null,
      "id": "b8f0e53c",
      "metadata": {
        "colab": {
          "base_uri": "https://localhost:8080/"
        },
        "id": "b8f0e53c",
        "outputId": "410ed1f7-04d3-49eb-c690-cc94b71cfdb2"
      },
      "outputs": [
        {
          "data": {
            "text/plain": [
              "0.9523809523809523"
            ]
          },
          "execution_count": 28,
          "metadata": {},
          "output_type": "execute_result"
        }
      ],
      "source": [
        "40 / (40+2)"
      ]
    },
    {
      "cell_type": "code",
      "execution_count": null,
      "id": "56682814",
      "metadata": {
        "colab": {
          "base_uri": "https://localhost:8080/"
        },
        "id": "56682814",
        "outputId": "cbc03883-8507-4862-c3e7-5a1b03623fc1"
      },
      "outputs": [
        {
          "name": "stdout",
          "output_type": "stream",
          "text": [
            "Recall:  0.9523809523809523\n"
          ]
        }
      ],
      "source": [
        "print('Recall: ', recall_score(y_true=y_test, y_pred=y_pred))"
      ]
    },
    {
      "cell_type": "markdown",
      "id": "982ec871",
      "metadata": {
        "id": "982ec871"
      },
      "source": [
        "$$\n",
        "    F1-score = 2\\frac{PRE\\text x REC}{PRE+REC}\n",
        "$$"
      ]
    },
    {
      "cell_type": "code",
      "execution_count": null,
      "id": "7ea13ace",
      "metadata": {
        "colab": {
          "base_uri": "https://localhost:8080/"
        },
        "id": "7ea13ace",
        "outputId": "aa6e2470-cfdb-45ad-e73d-326cbb976b30"
      },
      "outputs": [
        {
          "data": {
            "text/plain": [
              "0.963855421686747"
            ]
          },
          "execution_count": 30,
          "metadata": {},
          "output_type": "execute_result"
        }
      ],
      "source": [
        "2* (40 / (40+1)) * (40 / (40+2)) / ((40 / (40+1) + 40 / (40+2)))"
      ]
    },
    {
      "cell_type": "code",
      "execution_count": null,
      "id": "8abf8c40",
      "metadata": {
        "colab": {
          "base_uri": "https://localhost:8080/"
        },
        "id": "8abf8c40",
        "outputId": "d3c39548-c687-48ba-a4e1-7c3c914ec2bb"
      },
      "outputs": [
        {
          "name": "stdout",
          "output_type": "stream",
          "text": [
            "F1:  0.963855421686747\n"
          ]
        }
      ],
      "source": [
        "print('F1: ', f1_score(y_true=y_test, y_pred=y_pred))"
      ]
    },
    {
      "cell_type": "markdown",
      "id": "a17060d6",
      "metadata": {
        "id": "a17060d6"
      },
      "source": [
        "## Combine GridSearch with F1-score"
      ]
    },
    {
      "cell_type": "code",
      "execution_count": null,
      "id": "99fc365f",
      "metadata": {
        "colab": {
          "base_uri": "https://localhost:8080/"
        },
        "id": "99fc365f",
        "outputId": "10709d49-8790-4fa9-a00f-5e7adcb747ad"
      },
      "outputs": [
        {
          "name": "stdout",
          "output_type": "stream",
          "text": [
            "Test Accuracy: 0.947\n"
          ]
        }
      ],
      "source": [
        "pipe_lr = make_pipeline(StandardScaler(),\n",
        "                        PCA(n_components=2),\n",
        "                        LogisticRegression(random_state=1))\n",
        "pipe_lr.fit(X_train, y_train)\n",
        "y_pred = pipe_lr.predict(X_test)\n",
        "print('Test Accuracy: %.3f' % pipe_lr.score(X_test, y_test))"
      ]
    },
    {
      "cell_type": "code",
      "execution_count": null,
      "id": "a6378f4b",
      "metadata": {
        "id": "a6378f4b"
      },
      "outputs": [],
      "source": [
        "import sklearn\n",
        "\n",
        "pipe_svc = sklearn.pipeline.make_pipeline(StandardScaler(),\n",
        "                         SVC(random_state=1))\n",
        "# Valid curve\n",
        "param_range = [0.0001, 0.001, 0.01, 0.1,\n",
        "              1.0, 10.0, 100.0, 1000.0]\n",
        "\n",
        "# Set up parameterds\n",
        "param_grid = [{'svc__C': param_range,\n",
        "               'svc__kernel': ['linear']}, # Linear SVM\n",
        "              {'svc__C': param_range,\n",
        "               'svc__gamma': param_range,\n",
        "               'svc__kernel': ['rbf']}] # Kernel\n",
        "\n",
        "gs = GridSearchCV(estimator=pipe_svc,\n",
        "                  param_grid=param_grid,\n",
        "                  scoring='accuracy',\n",
        "                  cv=10,\n",
        "                  n_jobs=-1)\n",
        "\n",
        "gs = gs.fit(X_train, y_train)\n",
        "\n",
        "gs = GridSearchCV(estimator=pipe_svc,\n",
        "                  param_grid=param_grid,\n",
        "                  scoring='accuracy',\n",
        "                  cv=2)\n",
        "scores = cross_val_score(gs, X_train, y_train,\n",
        "                         scoring='accuracy', cv=5)\n",
        "\n",
        "gs = GridSearchCV(estimator=DecisionTreeClassifier(random_state=0),\n",
        "                  param_grid=[{'max_depth':\n",
        "                               [1, 2, 3, 4, 5, 6, 7, None]}],\n",
        "                  scoring='accuracy', cv=2)\n",
        "scores = cross_val_score(gs, X_train, y_train,\n",
        "                         scoring='accuracy', cv=5)"
      ]
    },
    {
      "cell_type": "code",
      "execution_count": null,
      "id": "1c078821",
      "metadata": {
        "colab": {
          "base_uri": "https://localhost:8080/"
        },
        "id": "1c078821",
        "outputId": "bf199434-9037-45c5-dbd8-3a8a6fec4ae2"
      },
      "outputs": [
        {
          "name": "stdout",
          "output_type": "stream",
          "text": [
            "0.98287253786131\n"
          ]
        }
      ],
      "source": [
        "from sklearn.metrics import make_scorer, f1_score\n",
        "scorer = make_scorer(f1_score, pos_label=0)\n",
        "gs = GridSearchCV(estimator=pipe_svc,\n",
        "                  param_grid=param_grid,\n",
        "                  scoring=scorer,\n",
        "                  cv=10)\n",
        "gs = gs.fit(X_train, y_train)\n",
        "print(gs.best_score_)"
      ]
    },
    {
      "cell_type": "markdown",
      "id": "1e75bffb",
      "metadata": {
        "id": "1e75bffb"
      },
      "source": [
        "# ROC and AUC Curves\n",
        "\n",
        "ROC Curve:\n",
        "The ROC curve is a graphical representation of the trade-off between true positive rate (sensitivity) and false positive rate (1 - specificity) for different threshold values. It helps visualize the performance of a classification algorithm across various decision boundaries.\n",
        "\n",
        "AUC (Area Under the Curve):\n",
        "The AUC is a single scalar value that summarizes the performance of a classification model across all possible classification thresholds. It represents the area under the ROC curve. A model with a higher AUC generally indicates better discrimination between positive and negative instances."
      ]
    },
    {
      "cell_type": "markdown",
      "id": "28f79f1a",
      "metadata": {
        "id": "28f79f1a"
      },
      "source": [
        "> Note: The code below is for visualization purposes only. Because the previous examples had very high metrics and were not significantly different, the author selected a subset of the dataset and performed cross-validation with a very small k to generate multiple cases.\n",
        "\n",
        "1. Perform cross-validation.\n",
        "\n",
        "2. Initialize corresponding parameters.\n",
        "\n",
        "3. Initialize the pipeline and train the model.\n",
        "\n",
        "4. Predict the test set probabilities using the predict_proba function.\n",
        "\n",
        "5. Plot the ROC curve based on step 4.\n",
        "\n",
        "Additionally, if using multiple k as the author did, there are additional steps:\n",
        "\n",
        "6. Calculate the average of the k-folds and plot the results."
      ]
    },
    {
      "cell_type": "code",
      "execution_count": null,
      "id": "a478ad30",
      "metadata": {
        "colab": {
          "base_uri": "https://localhost:8080/",
          "height": 334
        },
        "id": "a478ad30",
        "outputId": "022e1587-f46e-456b-8468-d784eca5962a"
      },
      "outputs": [
        {
          "data": {
            "image/png": "[encoded data removed]",
            "text/plain": [
              "<Figure size 504x360 with 1 Axes>"
            ]
          },
          "metadata": {
            "needs_background": "light"
          },
          "output_type": "display_data"
        }
      ],
      "source": [
        "from sklearn.metrics import roc_curve\n",
        "from sklearn.metrics import auc\n",
        "from scipy import interp\n",
        "# Split dataset, 20% test, 80% train\n",
        "from sklearn.model_selection import train_test_split\n",
        "X_train, X_test, y_train, y_test = \\\n",
        "                        train_test_split(X, y,\n",
        "                                         test_size=0.20,\n",
        "                                         stratify=y,\n",
        "                                         random_state=1)\n",
        "\n",
        "X_train2 = X_train[:, [4, 14]]\n",
        "cv = list(StratifiedKFold(n_splits=3,\n",
        "                          random_state=None).split(X_train,\n",
        "                                                y_train))\n",
        "fig = plt.figure(figsize=(7, 5))\n",
        "mean_tpr = 0.0\n",
        "mean_fpr = np.linspace(0, 1, 100)\n",
        "all_tpr = []\n",
        "\n",
        "pipe_lr = make_pipeline(StandardScaler(),\n",
        "                        PCA(n_components=2),\n",
        "                        LogisticRegression(random_state=1))\n",
        "pipe_lr.fit(X_train, y_train)\n",
        "\n",
        "for i, (train, test) in enumerate(cv):\n",
        "    probas = pipe_lr.fit(X_train2[train],\n",
        "                         y_train[train]).predict_proba(X_train2[test])\n",
        "    fpr, tpr, thresholds = roc_curve(y_train[test],\n",
        "                                     probas[:, 1],\n",
        "                                     pos_label=1)\n",
        "    mean_tpr += interp(mean_fpr, fpr, tpr)\n",
        "    mean_tpr[0] = 0.0\n",
        "    roc_auc = auc(fpr, tpr)\n",
        "    plt.plot(fpr, tpr,\n",
        "             label='ROC fold %d (area = %0.2f)'\n",
        "             % (i+1, roc_auc))\n",
        "plt.plot([0, 1], [0, 1], linestyle='--', color=(0.6, 0.6, 0.6),\n",
        "         label='random guessing')\n",
        "\n",
        "mean_tpr /= len(cv)\n",
        "mean_tpr[-1] = 1.0\n",
        "mean_auc = auc(mean_fpr, mean_tpr)\n",
        "plt.plot(mean_fpr, mean_tpr, 'k--', label='mean ROC (area = %0.2f)' % mean_auc, lw=2)\n",
        "plt.plot([0, 0, 1], [0, 1, 1], linestyle=':',\n",
        "         color='black', label='perfect performance')\n",
        "plt.xlim([-0.05, 1.05])\n",
        "plt.ylim([-0.05, 1.05])\n",
        "plt.xlabel('false positive rate')\n",
        "plt.ylabel('true positive rate')\n",
        "plt.legend(loc=\"lower right\")\n",
        "plt.show()"
      ]
    },
    {
      "cell_type": "markdown",
      "id": "ec6013c7",
      "metadata": {
        "id": "ec6013c7"
      },
      "source": [
        "# Assembling models"
      ]
    },
    {
      "cell_type": "markdown",
      "id": "1e49738e",
      "metadata": {
        "id": "1e49738e"
      },
      "source": [
        "# Majority Voting"
      ]
    },
    {
      "cell_type": "markdown",
      "id": "89d116ac",
      "metadata": {
        "id": "89d116ac"
      },
      "source": [
        "Voting based on modes and weights"
      ]
    },
    {
      "cell_type": "code",
      "execution_count": null,
      "id": "6ad18275",
      "metadata": {
        "colab": {
          "base_uri": "https://localhost:8080/"
        },
        "id": "6ad18275",
        "outputId": "b58f43d2-49c4-4e9d-a20a-c4919617ba7a"
      },
      "outputs": [
        {
          "data": {
            "text/plain": [
              "1"
            ]
          },
          "execution_count": 36,
          "metadata": {},
          "output_type": "execute_result"
        }
      ],
      "source": [
        "import numpy as np\n",
        "np.argmax(np.bincount([0, 0, 1], weights=[0.2, 0.2, 0.6]))"
      ]
    },
    {
      "cell_type": "markdown",
      "id": "6f319ec3",
      "metadata": {
        "id": "6f319ec3"
      },
      "source": [
        "Based on probability and weights"
      ]
    },
    {
      "cell_type": "code",
      "execution_count": null,
      "id": "DZGPWQ-_LiT9",
      "metadata": {
        "id": "DZGPWQ-_LiT9"
      },
      "outputs": [],
      "source": [
        "ex = np.array([[0.9, 0.1],\n",
        "               [0.8, 0.2],\n",
        "               [0.4, 0.6]])\n",
        "# Mean prob * weights\n",
        "p = np.average(ex, axis=0, weights=[0.2, 0.2, 0.6])\n",
        "print(p)\n",
        "np.argmax(p)"
      ]
    },
    {
      "cell_type": "markdown",
      "id": "31edc6f9",
      "metadata": {
        "id": "31edc6f9"
      },
      "source": [
        "1. Initialize arrays for votes and weights, $X_{m \\text n}, y_m$.\n",
        "\n",
        "2. Initialize classifiers.\n",
        "\n",
        "3. Initialize pipelines for normalization, dimensionality reduction (if necessary).\n",
        "\n",
        "4. Store steps 2 and 3 in the same array.\n",
        "\n",
        "5. Label Encode $y$.\n",
        "\n",
        "6. Run a loop for each classifier in the array from step 4, fit $X$ with each classifier. The returned result will be the predictions of the classifiers.\n",
        "\n",
        "7. Combine the results in step 6 to predict new values based on probability or class label.\n",
        "\n",
        "  7.1 If predicting based on class labels, use the predict function of sklearn. The returned result is an array ${y_i}_m$ with $i = 1,2,...,k$ labels, $m$ is the length of the array.\n",
        "\n",
        "    - 7.1.1 Combine and merge into an array $y$ with shape (m, k) to take the mode.\n",
        "\n",
        "    - 7.1.2 For each element $j$ belonging to $m$, take the mode of $y_j$ to get the corresponding label.\n",
        "\n",
        "  7.2 If predicting based on probabilities, use the predict_proba function of sklearn. The returned result will have a shape of (k, m, l) with k as the number of classifiers, m as the length of X, and l as the probability of each label.\n",
        "\n",
        "    - 7.2.1 Calculate the average probability of k classifiers for each $y_m$.\n",
        "\n",
        "    - 7.2.2 Take the label with the highest probability.\n",
        "\n",
        "8. Reverse encode $y$."
      ]
    },
    {
      "cell_type": "code",
      "execution_count": null,
      "id": "56e60fe6",
      "metadata": {
        "id": "56e60fe6"
      },
      "outputs": [],
      "source": [
        "from sklearn.base import BaseEstimator\n",
        "from sklearn.base import ClassifierMixin\n",
        "from sklearn.preprocessing import LabelEncoder\n",
        "import six\n",
        "from sklearn.base import clone\n",
        "from sklearn.pipeline import _name_estimators\n",
        "import numpy as np\n",
        "import operator\n",
        "\n",
        "class MajorityVoteClassifier(BaseEstimator, ClassifierMixin):\n",
        "    # Initialize the necessary parameters, including: the classifier, label names, and weights.\n",
        "    def __init__(self, classifiers,\n",
        "                 vote='classlabel', weights=None):\n",
        "        self.classifiers = classifiers\n",
        "        self.named_classifiers = {key: value\n",
        "                                  for key, value in _name_estimators(classifiers)} # Accessing each parameter of classifiers\n",
        "        self.vote = vote\n",
        "        self.weights = weights\n",
        "\n",
        "    def fit(self, X, y):\n",
        "        self.lablenc_ = LabelEncoder() # label encoder\n",
        "        self.lablenc_.fit(y)\n",
        "        self.classes_ = self.lablenc_.classes_ # Accessing the classes after encoding\n",
        "        self.classifiers_ = []\n",
        "        for clf in self.classifiers:\n",
        "            fitted_clf = clone(clf).fit(X,\n",
        "                                        self.lablenc_.transform(y)) # Fit X with labels y that have been encoded based on the classifier\n",
        "            self.classifiers_.append(fitted_clf)\n",
        "        return self\n",
        "\n",
        "    def predict(self, X):\n",
        "\n",
        "        # Predict based on probability\n",
        "        if self.vote == 'probability':\n",
        "            maj_vote = np.argmax(self.predict_proba(X),\n",
        "                                 axis=1) # return highest prob\n",
        "        # Predict based on mode\n",
        "        else:\n",
        "            predictions = np.asarray([clf.predict(X)\n",
        "                                      for clf in self.classifiers_]).T\n",
        "            maj_vote = np.apply_along_axis(lambda x:\n",
        "                                           np.argmax(np.bincount(x,\n",
        "                                                                 weights=self.weights)),\n",
        "                                           axis=1,\n",
        "                                           arr=predictions)\n",
        "        maj_vote = self.lablenc_.inverse_transform(maj_vote) # reverse label encoder\n",
        "        return maj_vote\n",
        "\n",
        "    # Return mean probability\n",
        "    def predict_proba(self, X):\n",
        "        probas = np.asarray([clf.predict_proba(X) for clf in self.classifiers_]) # counting each classifier's prob\n",
        "        avg_proba = np.average(probas, axis=0, weights=self.weights) # counting mean prob\n",
        "        return avg_proba"
      ]
    },
    {
      "cell_type": "code",
      "execution_count": null,
      "id": "a6392835",
      "metadata": {
        "colab": {
          "base_uri": "https://localhost:8080/"
        },
        "id": "a6392835",
        "outputId": "0114f541-e8b2-402e-e0a0-39a7eb9d29f2"
      },
      "outputs": [
        {
          "data": {
            "text/plain": [
              "[Pipeline(steps=[('sc', StandardScaler()),\n",
              "                 ['clf', LogisticRegression(C=0.001, random_state=1)]]),\n",
              " DecisionTreeClassifier(criterion='entropy', max_depth=1, random_state=0),\n",
              " Pipeline(steps=[('sc', StandardScaler()),\n",
              "                 ['clf', KNeighborsClassifier(n_neighbors=1)]])]"
            ]
          },
          "execution_count": 40,
          "metadata": {},
          "output_type": "execute_result"
        }
      ],
      "source": [
        "from sklearn.base import BaseEstimator\n",
        "from sklearn.base import ClassifierMixin\n",
        "from sklearn.preprocessing import LabelEncoder\n",
        "import six\n",
        "from sklearn.base import clone\n",
        "from sklearn.pipeline import _name_estimators\n",
        "import numpy as np\n",
        "import operator\n",
        "from sklearn import datasets\n",
        "from sklearn.model_selection import train_test_split\n",
        "from sklearn.preprocessing import StandardScaler\n",
        "from sklearn.model_selection import cross_val_score\n",
        "from sklearn.linear_model import LogisticRegression\n",
        "from sklearn.tree import DecisionTreeClassifier\n",
        "from sklearn.neighbors import KNeighborsClassifier\n",
        "from sklearn.pipeline import Pipeline\n",
        "import numpy as np\n",
        "\n",
        "# 1.\n",
        "iris = datasets.load_iris()\n",
        "X, y = iris.data[50:, [1, 2]], iris.target[50:]\n",
        "X_train, X_test, y_train, y_test = train_test_split(X, y, test_size=0.5,\n",
        "                                                    random_state = 2021, #\n",
        "                                                    stratify=y)\n",
        "classifiers_ = []\n",
        "vote = 'probability'\n",
        "weights = [1, 1, 1]\n",
        "\n",
        "# 2.\n",
        "clf1 = LogisticRegression(penalty='l2', C=0.001, random_state=1)\n",
        "clf2 = DecisionTreeClassifier(max_depth=1, criterion='entropy', random_state=0)\n",
        "clf3 = KNeighborsClassifier(n_neighbors=1, p=2, metric='minkowski')\n",
        "\n",
        "# 3.\n",
        "pipe1 = Pipeline([['sc', StandardScaler()], ['clf', clf1]])\n",
        "pipe3 = Pipeline([['sc', StandardScaler()], ['clf', clf3]])\n",
        "clf_labels = ['Logistic regression', 'Decision tree', 'KNN']\n",
        "\n",
        "# 4.\n",
        "classifiers = [pipe1, clf2, pipe3]\n",
        "\n",
        "# 5.\n",
        "lablenc_ = LabelEncoder()\n",
        "y = lablenc_.fit_transform(y)\n",
        "lablenc_.fit(y)\n",
        "\n",
        "# 6.\n",
        "for clf in classifiers:\n",
        "    fitted_clf = clone(clf).fit(X_train, lablenc_.fit_transform(y_train))\n",
        "    classifiers_.append(fitted_clf)\n",
        "classifiers_"
      ]
    },
    {
      "cell_type": "code",
      "execution_count": null,
      "id": "ee02cb81",
      "metadata": {
        "id": "ee02cb81"
      },
      "outputs": [],
      "source": [
        "# 7.1.1\n",
        "predictions = np.asarray([clf.predict(X)\n",
        "                            for clf in classifiers_]).T\n",
        "# 7.1.2\n",
        "maj_vote = np.apply_along_axis(lambda x:\n",
        "                   np.argmax(np.bincount(x,\n",
        "                                         weights=weights)),\n",
        "                   axis=1,\n",
        "                   arr=predictions)\n",
        "maj_vote = lablenc_.inverse_transform(maj_vote)"
      ]
    },
    {
      "cell_type": "code",
      "execution_count": null,
      "id": "70f5b972",
      "metadata": {
        "id": "70f5b972"
      },
      "outputs": [],
      "source": [
        "# 7.2\n",
        "probas = np.asarray([clf.predict_proba(X) for clf in classifiers_])\n",
        "\n",
        "# 7.2.1\n",
        "avg_proba = np.average(probas, axis=0, weights=weights)\n",
        "\n",
        "# 7.2.2\n",
        "maj_vote = np.argmax(avg_proba, axis=1)"
      ]
    },
    {
      "cell_type": "code",
      "execution_count": null,
      "id": "700abb4c",
      "metadata": {
        "id": "700abb4c"
      },
      "outputs": [],
      "source": [
        "# 8.\n",
        "\n",
        "maj_vote = lablenc_.inverse_transform(maj_vote)"
      ]
    },
    {
      "cell_type": "markdown",
      "id": "30251a57",
      "metadata": {
        "id": "30251a57"
      },
      "source": [
        "Summary, we can shorten all the previous code"
      ]
    },
    {
      "cell_type": "code",
      "execution_count": null,
      "id": "d574a752",
      "metadata": {
        "colab": {
          "base_uri": "https://localhost:8080/"
        },
        "id": "d574a752",
        "outputId": "c33ec75a-886f-48bf-e6c1-758860cda27a"
      },
      "outputs": [
        {
          "name": "stdout",
          "output_type": "stream",
          "text": [
            "10-fold cross validation:\n",
            "\n",
            "ROC AUC: 0.97 (+/- 0.10) [Logistic regression]\n",
            "ROC AUC: 0.93 (+/- 0.14) [Decision tree]\n",
            "ROC AUC: 0.94 (+/- 0.13) [KNN]\n"
          ]
        }
      ],
      "source": [
        "clf1 = LogisticRegression(penalty='l2', C=0.001, random_state=1)\n",
        "clf2 = DecisionTreeClassifier(max_depth=1, criterion='entropy', random_state=0)\n",
        "clf3 = KNeighborsClassifier(n_neighbors=1, p=2, metric='minkowski')\n",
        "\n",
        "pipe1 = Pipeline([['sc', StandardScaler()], ['clf', clf1]])\n",
        "pipe3 = Pipeline([['sc', StandardScaler()], ['clf', clf3]])\n",
        "clf_labels = ['Logistic regression', 'Decision tree', 'KNN']\n",
        "print('10-fold cross validation:\\n')\n",
        "for clf, label in zip([pipe1, clf2, pipe3], clf_labels):\n",
        "    scores = cross_val_score(estimator=clf, X=X_train,\n",
        "                             y=y_train,\n",
        "                             cv=10, # 10 fold\n",
        "                             scoring='roc_auc') # ROC\n",
        "    print(\"ROC AUC: %0.2f (+/- %0.2f) [%s]\" % (scores.mean(), scores.std(), label))"
      ]
    },
    {
      "cell_type": "code",
      "execution_count": null,
      "id": "77e80f2f",
      "metadata": {
        "colab": {
          "base_uri": "https://localhost:8080/"
        },
        "id": "77e80f2f",
        "outputId": "a693ab7f-6351-456e-a485-147a85568a90"
      },
      "outputs": [
        {
          "name": "stdout",
          "output_type": "stream",
          "text": [
            "Accuracy: 0.97 (+/- 0.10) [Logistic regression]\n",
            "Accuracy: 0.93 (+/- 0.14) [Decision tree]\n",
            "Accuracy: 0.94 (+/- 0.13) [KNN]\n",
            "Accuracy: 0.97 (+/- 0.10) [Majority voting]\n"
          ]
        }
      ],
      "source": [
        "mv_clf = MajorityVoteClassifier(classifiers=[pipe1, clf2, pipe3]) # Kết hợp cả 3 bộ phân loại\n",
        "clf_labels += ['Majority voting'] # Đặt tên\n",
        "all_clf = [pipe1, clf2, pipe3, mv_clf] # Kiểm tra cả 4 phương pháp\n",
        "\n",
        "for clf, label in zip(all_clf, clf_labels):\n",
        "    scores = cross_val_score(estimator=clf,\n",
        "                             X=X_train,\n",
        "                             y=y_train,\n",
        "                             cv=10, scoring='roc_auc')\n",
        "    print(\"Accuracy: %0.2f (+/- %0.2f) [%s]\" % (scores.mean(), scores.std(), label))"
      ]
    },
    {
      "cell_type": "markdown",
      "id": "7415fd8a",
      "metadata": {
        "id": "7415fd8a"
      },
      "source": [
        "# Evaluate and tune the ensemble classifier based on the ROC curve"
      ]
    },
    {
      "cell_type": "markdown",
      "id": "32f554b0",
      "metadata": {
        "id": "32f554b0"
      },
      "source": [
        "1. Read, LabelEncode, and split the dataset into train/test.\n",
        "\n",
        "2. Initialize custom classifiers.\n",
        "\n",
        "3. Initialize Majority Voting.\n",
        "\n",
        "4. Train and predict individually based on steps 3 and 4.\n",
        "\n",
        "5. Initialize and plot the ROC curve."
      ]
    },
    {
      "cell_type": "code",
      "execution_count": null,
      "id": "d3ed694c",
      "metadata": {
        "id": "d3ed694c"
      },
      "outputs": [],
      "source": [
        "iris = datasets.load_iris()\n",
        "X, y = iris.data[50:, [1, 2]], iris.target[50:]\n",
        "le = LabelEncoder()\n",
        "y = le.fit_transform(y)\n",
        "\n",
        "X_train, X_test, y_train, y_test = train_test_split(X, y, test_size=0.5,\n",
        "                                                    random_state = 2021,\n",
        "                                                    stratify=y)"
      ]
    },
    {
      "cell_type": "code",
      "execution_count": null,
      "id": "6a75a403",
      "metadata": {
        "colab": {
          "base_uri": "https://localhost:8080/",
          "height": 279
        },
        "id": "6a75a403",
        "outputId": "b9abc244-70e4-4ec6-ad6e-ee6b45eb8adc"
      },
      "outputs": [
        {
          "data": {
            "image/png": "[encoded data removed]",
            "text/plain": [
              "<Figure size 432x288 with 1 Axes>"
            ]
          },
          "metadata": {
            "needs_background": "light"
          },
          "output_type": "display_data"
        }
      ],
      "source": [
        "from sklearn.metrics import roc_curve\n",
        "from sklearn.metrics import auc\n",
        "\n",
        "# Visualization\n",
        "colors = ['black', 'orange', 'blue', 'green']\n",
        "linestyles = [':', '--', '-.', '-']\n",
        "\n",
        "for clf, label, clr, ls in zip(all_clf,\n",
        "                               clf_labels,\n",
        "                               colors, linestyles):\n",
        "\n",
        "    y_pred = clf.fit(X_train, y_train).predict_proba(X_test)[:, 1]\n",
        "\n",
        "    # ROC\n",
        "    fpr, tpr, thresholds = roc_curve(y_true=y_test,\n",
        "                                     y_score=y_pred)\n",
        "    roc_auc = auc(x=fpr, y=tpr)\n",
        "\n",
        "    plt.plot(fpr, tpr, color=clr, linestyle=ls,\n",
        "             label='%s (auc = %0.2f)' % (label, roc_auc))\n",
        "\n",
        "plt.legend(loc='lower right')\n",
        "plt.plot([0, 1], [0, 1],\n",
        "         linestyle='--',\n",
        "         color='gray', linewidth=2)\n",
        "plt.xlim([-0.1, 1.1])\n",
        "plt.ylim([-0.1, 1.1])\n",
        "plt.grid(alpha=0.5)\n",
        "plt.xlabel('False positive rate (FPR)')\n",
        "plt.ylabel('True positive rate (TPR)')\n",
        "plt.show()"
      ]
    },
    {
      "cell_type": "markdown",
      "id": "a87ed1b4",
      "metadata": {
        "id": "a87ed1b4"
      },
      "source": [
        "The ROC result indicates that the ensemble classifier also performs well on the test set (ROC AUC = 0.95)."
      ]
    },
    {
      "cell_type": "code",
      "execution_count": null,
      "id": "e56b5938",
      "metadata": {
        "colab": {
          "base_uri": "https://localhost:8080/",
          "height": 348
        },
        "id": "e56b5938",
        "outputId": "e1d36dde-a2a6-4452-efb1-d73871ebe4d8"
      },
      "outputs": [
        {
          "data": {
            "image/png": "[encoded data removed]",
            "text/plain": [
              "<Figure size 504x360 with 4 Axes>"
            ]
          },
          "metadata": {
            "needs_background": "light"
          },
          "output_type": "display_data"
        }
      ],
      "source": [
        "from itertools import product\n",
        "\n",
        "# In order to align the branches of the decision tree with Logistic and KNN for visualization purposes\n",
        "sc = StandardScaler() # chuẩn hóa\n",
        "X_train_std = sc.fit_transform(X_train)\n",
        "\n",
        "x_min = X_train_std[:, 0].min() - 1\n",
        "x_max = X_train_std[:, 0].max() + 1\n",
        "y_min = X_train_std[:, 1].min() - 1\n",
        "y_max = X_train_std[:, 1].max() + 1\n",
        "\n",
        "# Create mesh\n",
        "xx, yy = np.meshgrid(np.arange(x_min, x_max, 0.1),\n",
        "                     np.arange(y_min, y_max, 0.1))\n",
        "\n",
        "# Subplot\n",
        "f, axarr = plt.subplots(nrows=2, ncols=2,\n",
        "                        sharex='col',\n",
        "                        sharey='row', figsize=(7, 5))\n",
        "\n",
        "# Training\n",
        "for idx, clf, tt in zip(product([0, 1], [0, 1]),\n",
        "                        all_clf, clf_labels):\n",
        "    clf.fit(X_train_std, y_train) #\n",
        "    Z = clf.predict(np.c_[xx.ravel(), yy.ravel()])\n",
        "    Z = Z.reshape(xx.shape)\n",
        "    axarr[idx[0], idx[1]].contourf(xx, yy, Z, alpha=0.3)\n",
        "    axarr[idx[0], idx[1]].scatter(X_train_std[y_train==0, 0],\n",
        "                                  X_train_std[y_train==0, 1],\n",
        "                                  c='blue',\n",
        "                                  marker='^', s=50)\n",
        "    axarr[idx[0], idx[1]].scatter(X_train_std[y_train==1, 0],\n",
        "    X_train_std[y_train==1, 1], c='green',\n",
        "                                  marker='o', s=50)\n",
        "    axarr[idx[0], idx[1]].set_title(tt)\n",
        "plt.text(-3.5, -4.5, s='Sepal width [standardized]',\n",
        "         ha='center', va='center', fontsize=12)\n",
        "plt.text(-10.5, 4.5, s='Petal length [standardized]',\n",
        "         ha='center', va='center',\n",
        "         fontsize=12, rotation=90)\n",
        "plt.show()"
      ]
    },
    {
      "cell_type": "markdown",
      "id": "4403714d",
      "metadata": {
        "id": "4403714d"
      },
      "source": [
        "- The boundary of the Majority Vote looks very similar to the decision tree, perpendicular to the y-axis and with a boundary width ≥ 1.\n",
        "\n",
        "- However, there is additional non-linearity from the KNN classifier"
      ]
    },
    {
      "cell_type": "markdown",
      "id": "e50eb534",
      "metadata": {
        "id": "e50eb534"
      },
      "source": [
        "# Bagging\n",
        "\n",
        "Bagging or Bootstrap Aggregating, is an ensemble learning technique that aims to improve the stability and accuracy of machine learning models. The basic idea behind bagging is to train multiple instances of a base model using different subsets of the training data, and then combine their predictions."
      ]
    },
    {
      "cell_type": "markdown",
      "id": "3a50ce60",
      "metadata": {
        "id": "3a50ce60"
      },
      "source": [
        "1. Read the data, LabelEncode, and split into train/test.\n",
        "\n",
        "2. Specifically, the author uses DecisionTree to examine.\n",
        "\n",
        "3. Initialize the DecisionTree classifier with parameters:\n",
        "\n",
        "    - criterion: impurity measure, entropy or gini\n",
        "\n",
        "    - max_depth: integer, limits the depth of the tree\n",
        "\n",
        "4. Initialize the BaggingClassifier function with parameters:\n",
        "\n",
        "    - base_estimator: the classifier initialized in step 2\n",
        "\n",
        "    - n_estimators: the number of base_estimators\n",
        "\n",
        "    - max_samples: integer, the number of samples drawn from X to train each base_estimator\n",
        "\n",
        "    - max_features: similar to max_samples but for features\n",
        "\n",
        "    - bootstrap: boolean variable, whether to apply replacement or not\n",
        "\n",
        "    - bootstrap_features: similar to bootstrap but for each feature\n",
        "\n",
        "5. Compare the accuracy between applying and not applying Bagging.\n",
        "\n",
        "6. Plot the results."
      ]
    },
    {
      "cell_type": "code",
      "execution_count": null,
      "id": "71412dc0",
      "metadata": {
        "id": "71412dc0"
      },
      "outputs": [],
      "source": [
        "import numpy as np\n",
        "import matplotlib.pyplot as plt"
      ]
    },
    {
      "cell_type": "code",
      "execution_count": null,
      "id": "13775fdd",
      "metadata": {
        "id": "13775fdd"
      },
      "outputs": [],
      "source": [
        "import pandas as pd\n",
        "df_wine = pd.read_csv('https://archive.ics.uci.edu/ml/'\n",
        "                      'machine-learning-databases/wine/wine.data',header=None)\n",
        "df_wine.columns = ['Class label', 'Alcohol','Malic acid',\n",
        "                   'Ash','Alcalinity of ash','Magnesium',\n",
        "                   'Total phenols','Flavanoids', 'Nonflavanoid phenols',\n",
        "                   'Proanthocyanins','Color intensity', 'Hue',\n",
        "                   'OD280/OD315 of diluted wines','Proline']\n",
        "# drop 1 class\n",
        "df_wine = df_wine[df_wine['Class label'] != 1]\n",
        "y = df_wine['Class label'].values\n",
        "X = df_wine[['Alcohol','OD280/OD315 of diluted wines']].values"
      ]
    },
    {
      "cell_type": "markdown",
      "id": "2853dd07",
      "metadata": {
        "id": "2853dd07"
      },
      "source": [
        "Where the Class label column represents two features for wine classification: Alcohol concentration and OD280/OD315 of diluted wines."
      ]
    },
    {
      "cell_type": "code",
      "execution_count": null,
      "id": "b2ba9a43",
      "metadata": {
        "colab": {
          "base_uri": "https://localhost:8080/",
          "height": 285
        },
        "id": "b2ba9a43",
        "outputId": "cbd0dbbf-7cda-4593-8031-6ab979379090"
      },
      "outputs": [
        {
          "data": {
            "text/html": [
              "\n",
              "  <div id=\"df-e24c231e-6ea5-4149-a447-7c8a41027a0d\">\n",
              "    <div class=\"colab-df-container\">\n",
              "      <div>\n",
              "<style scoped>\n",
              "    .dataframe tbody tr th:only-of-type {\n",
              "        vertical-align: middle;\n",
              "    }\n",
              "\n",
              "    .dataframe tbody tr th {\n",
              "        vertical-align: top;\n",
              "    }\n",
              "\n",
              "    .dataframe thead th {\n",
              "        text-align: right;\n",
              "    }\n",
              "</style>\n",
              "<table border=\"1\" class=\"dataframe\">\n",
              "  <thead>\n",
              "    <tr style=\"text-align: right;\">\n",
              "      <th></th>\n",
              "      <th>Class label</th>\n",
              "      <th>Alcohol</th>\n",
              "      <th>Malic acid</th>\n",
              "      <th>Ash</th>\n",
              "      <th>Alcalinity of ash</th>\n",
              "      <th>Magnesium</th>\n",
              "      <th>Total phenols</th>\n",
              "      <th>Flavanoids</th>\n",
              "      <th>Nonflavanoid phenols</th>\n",
              "      <th>Proanthocyanins</th>\n",
              "      <th>Color intensity</th>\n",
              "      <th>Hue</th>\n",
              "      <th>OD280/OD315 of diluted wines</th>\n",
              "      <th>Proline</th>\n",
              "    </tr>\n",
              "  </thead>\n",
              "  <tbody>\n",
              "    <tr>\n",
              "      <th>59</th>\n",
              "      <td>2</td>\n",
              "      <td>12.37</td>\n",
              "      <td>0.94</td>\n",
              "      <td>1.36</td>\n",
              "      <td>10.6</td>\n",
              "      <td>88</td>\n",
              "      <td>1.98</td>\n",
              "      <td>0.57</td>\n",
              "      <td>0.28</td>\n",
              "      <td>0.42</td>\n",
              "      <td>1.95</td>\n",
              "      <td>1.05</td>\n",
              "      <td>1.82</td>\n",
              "      <td>520</td>\n",
              "    </tr>\n",
              "    <tr>\n",
              "      <th>60</th>\n",
              "      <td>2</td>\n",
              "      <td>12.33</td>\n",
              "      <td>1.10</td>\n",
              "      <td>2.28</td>\n",
              "      <td>16.0</td>\n",
              "      <td>101</td>\n",
              "      <td>2.05</td>\n",
              "      <td>1.09</td>\n",
              "      <td>0.63</td>\n",
              "      <td>0.41</td>\n",
              "      <td>3.27</td>\n",
              "      <td>1.25</td>\n",
              "      <td>1.67</td>\n",
              "      <td>680</td>\n",
              "    </tr>\n",
              "    <tr>\n",
              "      <th>61</th>\n",
              "      <td>2</td>\n",
              "      <td>12.64</td>\n",
              "      <td>1.36</td>\n",
              "      <td>2.02</td>\n",
              "      <td>16.8</td>\n",
              "      <td>100</td>\n",
              "      <td>2.02</td>\n",
              "      <td>1.41</td>\n",
              "      <td>0.53</td>\n",
              "      <td>0.62</td>\n",
              "      <td>5.75</td>\n",
              "      <td>0.98</td>\n",
              "      <td>1.59</td>\n",
              "      <td>450</td>\n",
              "    </tr>\n",
              "    <tr>\n",
              "      <th>62</th>\n",
              "      <td>2</td>\n",
              "      <td>13.67</td>\n",
              "      <td>1.25</td>\n",
              "      <td>1.92</td>\n",
              "      <td>18.0</td>\n",
              "      <td>94</td>\n",
              "      <td>2.10</td>\n",
              "      <td>1.79</td>\n",
              "      <td>0.32</td>\n",
              "      <td>0.73</td>\n",
              "      <td>3.80</td>\n",
              "      <td>1.23</td>\n",
              "      <td>2.46</td>\n",
              "      <td>630</td>\n",
              "    </tr>\n",
              "    <tr>\n",
              "      <th>63</th>\n",
              "      <td>2</td>\n",
              "      <td>12.37</td>\n",
              "      <td>1.13</td>\n",
              "      <td>2.16</td>\n",
              "      <td>19.0</td>\n",
              "      <td>87</td>\n",
              "      <td>3.50</td>\n",
              "      <td>3.10</td>\n",
              "      <td>0.19</td>\n",
              "      <td>1.87</td>\n",
              "      <td>4.45</td>\n",
              "      <td>1.22</td>\n",
              "      <td>2.87</td>\n",
              "      <td>420</td>\n",
              "    </tr>\n",
              "  </tbody>\n",
              "</table>\n",
              "</div>\n",
              "      <button class=\"colab-df-convert\" onclick=\"convertToInteractive('df-e24c231e-6ea5-4149-a447-7c8a41027a0d')\"\n",
              "              title=\"Convert this dataframe to an interactive table.\"\n",
              "              style=\"display:none;\">\n",
              "        \n",
              "  <svg xmlns=\"http://www.w3.org/2000/svg\" height=\"24px\"viewBox=\"0 0 24 24\"\n",
              "       width=\"24px\">\n",
              "    <path d=\"M0 0h24v24H0V0z\" fill=\"none\"/>\n",
              "    <path d=\"M18.56 5.44l.94 2.06.94-2.06 2.06-.94-2.06-.94-.94-2.06-.94 2.06-2.06.94zm-11 1L8.5 8.5l.94-2.06 2.06-.94-2.06-.94L8.5 2.5l-.94 2.06-2.06.94zm10 10l.94 2.06.94-2.06 2.06-.94-2.06-.94-.94-2.06-.94 2.06-2.06.94z\"/><path d=\"M17.41 7.96l-1.37-1.37c-.4-.4-.92-.59-1.43-.59-.52 0-1.04.2-1.43.59L10.3 9.45l-7.72 7.72c-.78.78-.78 2.05 0 2.83L4 21.41c.39.39.9.59 1.41.59.51 0 1.02-.2 1.41-.59l7.78-7.78 2.81-2.81c.8-.78.8-2.07 0-2.86zM5.41 20L4 18.59l7.72-7.72 1.47 1.35L5.41 20z\"/>\n",
              "  </svg>\n",
              "      </button>\n",
              "      \n",
              "  <style>\n",
              "    .colab-df-container {\n",
              "      display:flex;\n",
              "      flex-wrap:wrap;\n",
              "      gap: 12px;\n",
              "    }\n",
              "\n",
              "    .colab-df-convert {\n",
              "      background-color: #E8F0FE;\n",
              "      border: none;\n",
              "      border-radius: 50%;\n",
              "      cursor: pointer;\n",
              "      display: none;\n",
              "      fill: #1967D2;\n",
              "      height: 32px;\n",
              "      padding: 0 0 0 0;\n",
              "      width: 32px;\n",
              "    }\n",
              "\n",
              "    .colab-df-convert:hover {\n",
              "      background-color: #E2EBFA;\n",
              "      box-shadow: 0px 1px 2px rgba(60, 64, 67, 0.3), 0px 1px 3px 1px rgba(60, 64, 67, 0.15);\n",
              "      fill: #174EA6;\n",
              "    }\n",
              "\n",
              "    [theme=dark] .colab-df-convert {\n",
              "      background-color: #3B4455;\n",
              "      fill: #D2E3FC;\n",
              "    }\n",
              "\n",
              "    [theme=dark] .colab-df-convert:hover {\n",
              "      background-color: #434B5C;\n",
              "      box-shadow: 0px 1px 3px 1px rgba(0, 0, 0, 0.15);\n",
              "      filter: drop-shadow(0px 1px 2px rgba(0, 0, 0, 0.3));\n",
              "      fill: #FFFFFF;\n",
              "    }\n",
              "  </style>\n",
              "\n",
              "      <script>\n",
              "        const buttonEl =\n",
              "          document.querySelector('#df-e24c231e-6ea5-4149-a447-7c8a41027a0d button.colab-df-convert');\n",
              "        buttonEl.style.display =\n",
              "          google.colab.kernel.accessAllowed ? 'block' : 'none';\n",
              "\n",
              "        async function convertToInteractive(key) {\n",
              "          const element = document.querySelector('#df-e24c231e-6ea5-4149-a447-7c8a41027a0d');\n",
              "          const dataTable =\n",
              "            await google.colab.kernel.invokeFunction('convertToInteractive',\n",
              "                                                     [key], {});\n",
              "          if (!dataTable) return;\n",
              "\n",
              "          const docLinkHtml = 'Like what you see? Visit the ' +\n",
              "            '<a target=\"_blank\" href=https://colab.research.google.com/notebooks/data_table.ipynb>data table notebook</a>'\n",
              "            + ' to learn more about interactive tables.';\n",
              "          element.innerHTML = '';\n",
              "          dataTable['output_type'] = 'display_data';\n",
              "          await google.colab.output.renderOutput(dataTable, element);\n",
              "          const docLink = document.createElement('div');\n",
              "          docLink.innerHTML = docLinkHtml;\n",
              "          element.appendChild(docLink);\n",
              "        }\n",
              "      </script>\n",
              "    </div>\n",
              "  </div>\n",
              "  "
            ],
            "text/plain": [
              "    Class label  Alcohol  Malic acid   Ash  Alcalinity of ash  Magnesium  \\\n",
              "59            2    12.37        0.94  1.36               10.6         88   \n",
              "60            2    12.33        1.10  2.28               16.0        101   \n",
              "61            2    12.64        1.36  2.02               16.8        100   \n",
              "62            2    13.67        1.25  1.92               18.0         94   \n",
              "63            2    12.37        1.13  2.16               19.0         87   \n",
              "\n",
              "    Total phenols  Flavanoids  Nonflavanoid phenols  Proanthocyanins  \\\n",
              "59           1.98        0.57                  0.28             0.42   \n",
              "60           2.05        1.09                  0.63             0.41   \n",
              "61           2.02        1.41                  0.53             0.62   \n",
              "62           2.10        1.79                  0.32             0.73   \n",
              "63           3.50        3.10                  0.19             1.87   \n",
              "\n",
              "    Color intensity   Hue  OD280/OD315 of diluted wines  Proline  \n",
              "59             1.95  1.05                          1.82      520  \n",
              "60             3.27  1.25                          1.67      680  \n",
              "61             5.75  0.98                          1.59      450  \n",
              "62             3.80  1.23                          2.46      630  \n",
              "63             4.45  1.22                          2.87      420  "
            ]
          },
          "execution_count": 51,
          "metadata": {},
          "output_type": "execute_result"
        }
      ],
      "source": [
        "df_wine.head()"
      ]
    },
    {
      "cell_type": "code",
      "execution_count": null,
      "id": "cf3018e2",
      "metadata": {
        "id": "cf3018e2"
      },
      "outputs": [],
      "source": [
        "from sklearn.preprocessing import LabelEncoder\n",
        "from sklearn.model_selection import train_test_split\n",
        "le = LabelEncoder()\n",
        "y = le.fit_transform(y)\n",
        "X_train, X_test, y_train, y_test =train_test_split(X, y,test_size=0.2,random_state=1,stratify=y)"
      ]
    },
    {
      "cell_type": "code",
      "execution_count": null,
      "id": "521e0ba1",
      "metadata": {
        "id": "521e0ba1"
      },
      "outputs": [],
      "source": [
        "from sklearn.ensemble import BaggingClassifier\n",
        "tree = DecisionTreeClassifier(criterion='entropy',random_state=1, max_depth=None)\n",
        "bag = BaggingClassifier(base_estimator=tree,n_estimators=500,\n",
        "                        max_samples=1.0,max_features=1.0,\n",
        "                        bootstrap=True,bootstrap_features=False,\n",
        "                        n_jobs=1, random_state=1)"
      ]
    },
    {
      "cell_type": "code",
      "execution_count": null,
      "id": "c76b46d0",
      "metadata": {
        "colab": {
          "base_uri": "https://localhost:8080/"
        },
        "id": "c76b46d0",
        "outputId": "fd02cb88-a219-4c56-9593-773b4751fd5d"
      },
      "outputs": [
        {
          "name": "stdout",
          "output_type": "stream",
          "text": [
            "Decision tree train/test accuracies 1.000/0.833\n"
          ]
        }
      ],
      "source": [
        "from sklearn.metrics import accuracy_score\n",
        "tree = tree.fit(X_train, y_train)\n",
        "y_train_pred = tree.predict(X_train)\n",
        "y_test_pred = tree.predict(X_test)\n",
        "\n",
        "\n",
        "tree_train = accuracy_score(y_train, y_train_pred)\n",
        "tree_test = accuracy_score(y_test, y_test_pred)\n",
        "print('Decision tree train/test accuracies %.3f/%.3f' % (tree_train, tree_test))"
      ]
    },
    {
      "cell_type": "code",
      "execution_count": null,
      "id": "f51db360",
      "metadata": {
        "colab": {
          "base_uri": "https://localhost:8080/"
        },
        "id": "f51db360",
        "outputId": "a320ff1f-1a57-40e4-de1b-ede82066db7c"
      },
      "outputs": [
        {
          "name": "stdout",
          "output_type": "stream",
          "text": [
            "Bagging train/test accuracies 1.000/0.917\n"
          ]
        }
      ],
      "source": [
        "bag = bag.fit(X_train, y_train)\n",
        "y_train_pred = bag.predict(X_train)\n",
        "y_test_pred = bag.predict(X_test)\n",
        "bag_train = accuracy_score(y_train, y_train_pred)\n",
        "bag_test = accuracy_score(y_test, y_test_pred)\n",
        "print('Bagging train/test accuracies %.3f/%.3f' % (bag_train, bag_test))"
      ]
    },
    {
      "cell_type": "code",
      "execution_count": null,
      "id": "28174dff",
      "metadata": {
        "colab": {
          "base_uri": "https://localhost:8080/",
          "height": 271
        },
        "id": "28174dff",
        "outputId": "5c551650-415c-4a83-c26c-21cc638d88c0"
      },
      "outputs": [
        {
          "data": {
            "image/png": "[encoded data removed]",
            "text/plain": [
              "<Figure size 576x216 with 2 Axes>"
            ]
          },
          "metadata": {
            "needs_background": "light"
          },
          "output_type": "display_data"
        }
      ],
      "source": [
        "x_min = X_train[:, 0].min() - 1\n",
        "x_max = X_train[:, 0].max() + 1\n",
        "y_min = X_train[:, 1].min() - 1\n",
        "y_max = X_train[:, 1].max() + 1\n",
        "\n",
        "xx, yy = np.meshgrid(np.arange(x_min, x_max, 0.1), np.arange(y_min, y_max, 0.1))\n",
        "\n",
        "# Subplot\n",
        "f, axarr = plt.subplots(nrows=1, ncols=2,\n",
        "                        sharex='col',\n",
        "                        sharey='row',\n",
        "                        figsize=(8, 3))\n",
        "\n",
        "# Training\n",
        "for idx, clf, tt in zip([0, 1],\n",
        "                        [tree, bag], # Decision Tree, Bagging Decision Tree\n",
        "                        ['Decision tree', 'Bagging']):\n",
        "    clf.fit(X_train, y_train)\n",
        "    Z = clf.predict(np.c_[xx.ravel(), yy.ravel()]) # Combine the two predictions based on the above two classifiers into a single vector\n",
        "    Z = Z.reshape(xx.shape)\n",
        "\n",
        "    axarr[idx].contourf(xx, yy, Z, alpha=0.3)\n",
        "    axarr[idx].scatter(X_train[y_train==0, 0],\n",
        "                      X_train[y_train==0, 1],\n",
        "                      c='blue', marker='^')\n",
        "    axarr[idx].scatter(X_train[y_train==1, 0],\n",
        "                      X_train[y_train==1, 1],\n",
        "                      c='green', marker='o')\n",
        "    axarr[idx].set_title(tt)\n",
        "axarr[0].set_ylabel('Alcohol', fontsize=12)\n",
        "plt.text(10.2, -1.2,\n",
        "        s='OD280/OD315 of diluted wines',\n",
        "        ha='center', va='center', fontsize=12)\n",
        "plt.show()"
      ]
    },
    {
      "cell_type": "markdown",
      "id": "e156ca2c",
      "metadata": {
        "id": "e156ca2c"
      },
      "source": [
        "# Boosting\n",
        "\n",
        "Boosting is an ensemble learning method that combines the predictions of multiple weak learners to create a strong learner. The key idea behind boosting is to sequentially train weak models, giving more emphasis to the instances that the previous models misclassified. This allows boosting algorithms to focus on the difficult-to-classify examples and improve overall performance."
      ]
    },
    {
      "cell_type": "markdown",
      "id": "b842a0d5",
      "metadata": {
        "id": "b842a0d5"
      },
      "source": [
        "1. Initialize the classification function.\n",
        "\n",
        "2. Initialize the AdaBoostClassifier with parameters similar to the Bagging section.\n",
        "\n",
        "3. Train and predict based on the classifiers in steps 1 and 2.\n",
        "\n",
        "4. Calculate and compare the accuracy of steps 1 and 2."
      ]
    },
    {
      "cell_type": "code",
      "execution_count": null,
      "id": "2b73428f",
      "metadata": {
        "colab": {
          "base_uri": "https://localhost:8080/"
        },
        "id": "2b73428f",
        "outputId": "41ad3148-6b02-4a6a-d44f-aa2db48fb757"
      },
      "outputs": [
        {
          "name": "stdout",
          "output_type": "stream",
          "text": [
            "Decision tree train/test accuracies 0.916/0.875\n",
            "AdaBoost train/test accuracies 1.000/0.917\n"
          ]
        }
      ],
      "source": [
        "from sklearn.ensemble import AdaBoostClassifier\n",
        "tree = DecisionTreeClassifier(criterion='entropy',\n",
        "                              random_state=1,\n",
        "                              max_depth=1)\n",
        "ada = AdaBoostClassifier(base_estimator=tree,\n",
        "                         n_estimators=500,\n",
        "                         learning_rate=0.1,\n",
        "                         random_state=1)\n",
        "tree = tree.fit(X_train, y_train)\n",
        "y_train_pred = tree.predict(X_train)\n",
        "y_test_pred = tree.predict(X_test)\n",
        "tree_train = accuracy_score(y_train, y_train_pred)\n",
        "tree_test = accuracy_score(y_test, y_test_pred)\n",
        "print('Decision tree train/test accuracies %.3f/%.3f'% (tree_train, tree_test))\n",
        "\n",
        "ada = ada.fit(X_train, y_train)\n",
        "y_train_pred = ada.predict(X_train)\n",
        "y_test_pred = ada.predict(X_test)\n",
        "ada_train = accuracy_score(y_train, y_train_pred)\n",
        "ada_test = accuracy_score(y_test, y_test_pred)\n",
        "print('AdaBoost train/test accuracies %.3f/%.3f' % (ada_train, ada_test))"
      ]
    },
    {
      "cell_type": "code",
      "execution_count": null,
      "id": "a626e765",
      "metadata": {
        "colab": {
          "base_uri": "https://localhost:8080/",
          "height": 245
        },
        "id": "a626e765",
        "outputId": "cc4bc287-482c-46d3-ce05-914b0668698d"
      },
      "outputs": [
        {
          "data": {
            "image/png": "[encoded data removed]",
            "text/plain": [
              "<Figure size 576x216 with 2 Axes>"
            ]
          },
          "metadata": {
            "needs_background": "light"
          },
          "output_type": "display_data"
        }
      ],
      "source": [
        "x_min = X_train[:, 0].min() - 1\n",
        "x_max = X_train[:, 0].max() + 1\n",
        "y_min = X_train[:, 1].min() - 1\n",
        "y_max = X_train[:, 1].max() + 1\n",
        "xx, yy = np.meshgrid(np.arange(x_min, x_max, 0.1),\n",
        "np.arange(y_min, y_max, 0.1))\n",
        "f, axarr = plt.subplots(1, 2,\n",
        "                        sharex='col',\n",
        "                        sharey='row',\n",
        "                        figsize=(8, 3))\n",
        "for idx, clf, tt in zip([0, 1],\n",
        "                        [tree, ada],\n",
        "                        ['Decision Tree', 'AdaBoost']):\n",
        "  clf.fit(X_train, y_train)\n",
        "  Z = clf.predict(np.c_[xx.ravel(), yy.ravel()])\n",
        "  Z = Z.reshape(xx.shape)\n",
        "  axarr[idx].contourf(xx, yy, Z, alpha=0.3)\n",
        "  axarr[idx].scatter(X_train[y_train==0, 0],\n",
        "                     X_train[y_train==0, 1],\n",
        "                     c='blue',\n",
        "                     marker='^')\n",
        "  axarr[idx].scatter(X_train[y_train==1, 0],\n",
        "                     X_train[y_train==1, 1],\n",
        "                     c='red',\n",
        "                     marker='o')\n",
        "  axarr[idx].set_title(tt)\n",
        "  axarr[0].set_ylabel('Alcohol', fontsize=12)\n",
        "plt.text(10.2, -0.5,\n",
        "          s='OD280/OD315 of diluted wines',\n",
        "          ha='center',\n",
        "          va='center',\n",
        "          fontsize=12)\n",
        "plt.show()"
      ]
    },
    {
      "cell_type": "markdown",
      "id": "fcaa8ed0",
      "metadata": {},
      "source": [
        "# Reference:\n",
        "\n",
        "***Python Machine Learning - Second Edition: Machine Learning and Deep Learning with Python, scikit-learn, and TensorFlow*** by Sebastian Raschka, Vahid Mirjalili  "
      ]
    }
  ],
  "metadata": {
    "colab": {
      "provenance": [],
      "toc_visible": true
    },
    "kernelspec": {
      "display_name": "Python 3 (ipykernel)",
      "language": "python",
      "name": "python3"
    },
    "language_info": {
      "codemirror_mode": {
        "name": "ipython",
        "version": 3
      },
      "file_extension": ".py",
      "mimetype": "text/x-python",
      "name": "python",
      "nbconvert_exporter": "python",
      "pygments_lexer": "ipython3",
      "version": "3.10.6"
    }
  },
  "nbformat": 4,
  "nbformat_minor": 5
}
